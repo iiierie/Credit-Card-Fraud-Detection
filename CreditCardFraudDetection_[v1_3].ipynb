{
  "cells": [
    {
      "cell_type": "markdown",
      "id": "49935568-2708-4945-b4b9-71ee3953c6f2",
      "metadata": {
        "id": "49935568-2708-4945-b4b9-71ee3953c6f2"
      },
      "source": [
        "### Problem Statement: To determine whether the credit card transaction done was fraudulent(1) or genuine(0)."
      ]
    },
    {
      "cell_type": "markdown",
      "id": "7b30bb41-d55e-4a63-8503-a0dea36359f0",
      "metadata": {
        "id": "7b30bb41-d55e-4a63-8503-a0dea36359f0"
      },
      "source": [
        "<hr>"
      ]
    },
    {
      "cell_type": "markdown",
      "source": [
        "load the necessary modules from the file \"***requirements.txt***\""
      ],
      "metadata": {
        "id": "63Fx-F3Ig-5y"
      },
      "id": "63Fx-F3Ig-5y"
    },
    {
      "cell_type": "code",
      "execution_count": null,
      "id": "f64ed69a-9220-4dec-a568-b66b97e36429",
      "metadata": {
        "id": "f64ed69a-9220-4dec-a568-b66b97e36429"
      },
      "outputs": [],
      "source": [
        "# !pip install -r requirements.txt"
      ]
    },
    {
      "cell_type": "code",
      "execution_count": null,
      "id": "12d45058-01c8-4971-8ae2-03be68225448",
      "metadata": {
        "id": "12d45058-01c8-4971-8ae2-03be68225448"
      },
      "outputs": [],
      "source": [
        "# dataset source : https://www.kaggle.com/datasets/mlg-ulb/creditcardfraud/discussion/373669"
      ]
    },
    {
      "cell_type": "code",
      "source": [
        "# !pip install seaborn"
      ],
      "metadata": {
        "id": "mUHBt0ik3exw"
      },
      "id": "mUHBt0ik3exw",
      "execution_count": null,
      "outputs": []
    },
    {
      "cell_type": "code",
      "execution_count": null,
      "id": "ca680a31-847f-43ff-ac65-77f5577e8d20",
      "metadata": {
        "id": "ca680a31-847f-43ff-ac65-77f5577e8d20"
      },
      "outputs": [],
      "source": [
        "import numpy as np\n",
        "\n",
        "import pandas as pd\n",
        "import matplotlib.pyplot as plt\n",
        "%matplotlib inline\n",
        "import seaborn as sns\n",
        "\n",
        "# from ydata_profiling import ProfileReport # for auto EDA\n",
        "\n",
        "\n",
        "import warnings\n",
        "warnings.filterwarnings(\"ignore\")"
      ]
    },
    {
      "cell_type": "code",
      "execution_count": null,
      "id": "40f27bab-8094-4671-a453-7e7e67376bba",
      "metadata": {
        "id": "40f27bab-8094-4671-a453-7e7e67376bba"
      },
      "outputs": [],
      "source": [
        "# !pip install ydata-profiling"
      ]
    },
    {
      "cell_type": "markdown",
      "source": [
        "Data loading and data visualizations"
      ],
      "metadata": {
        "id": "dr_8984shTbx"
      },
      "id": "dr_8984shTbx"
    },
    {
      "cell_type": "code",
      "source": [
        "# from google.colab import files\n",
        "\n",
        "# uploaded = files.upload()\n"
      ],
      "metadata": {
        "id": "qFua864fptUk"
      },
      "id": "qFua864fptUk",
      "execution_count": null,
      "outputs": []
    },
    {
      "cell_type": "code",
      "execution_count": null,
      "id": "31540b8c-405b-4b39-8337-676a33a0e6ea",
      "metadata": {
        "id": "31540b8c-405b-4b39-8337-676a33a0e6ea"
      },
      "outputs": [],
      "source": [
        "credit_data = pd.read_csv(\"creditcard.csv\")"
      ]
    },
    {
      "cell_type": "code",
      "execution_count": null,
      "id": "9e15a4ed-58aa-4375-92df-1e975ed812aa",
      "metadata": {
        "colab": {
          "base_uri": "https://localhost:8080/",
          "height": 256
        },
        "id": "9e15a4ed-58aa-4375-92df-1e975ed812aa",
        "outputId": "a29c5b4c-b31f-4c85-da51-692c688128cb"
      },
      "outputs": [
        {
          "output_type": "execute_result",
          "data": {
            "text/plain": [
              "            Time        V1        V2        V3        V4        V5        V6  \\\n",
              "203546  134863.0  0.098863  0.886085 -0.009876 -0.767202  0.819906 -0.683358   \n",
              "148493   89956.0 -1.894230  1.403948 -0.925458 -0.477406 -0.248086 -1.284560   \n",
              "136250   81613.0 -2.069429  1.938329  0.226337 -0.152869 -0.829807 -0.294793   \n",
              "135121   81117.0 -2.879165  2.188203 -0.161322 -1.745676 -0.408055 -0.389246   \n",
              "37506    38986.0 -0.891381  0.154366  1.722335  0.227139  0.207031 -0.291426   \n",
              "\n",
              "              V7        V8        V9  ...       V21       V22       V23  \\\n",
              "203546  1.030372 -0.188825 -0.071318  ... -0.304352 -0.667242 -0.030803   \n",
              "148493  0.104692  0.724381  0.014764  ... -0.283961 -0.493728  0.594103   \n",
              "136250 -0.513590  1.493178 -0.839678  ... -0.082348 -0.416218  0.202043   \n",
              "135121  0.005097  0.657315  0.902673  ... -0.174435  0.026624  0.105490   \n",
              "37506   1.153075 -0.070933 -0.125778  ... -0.115524 -0.618698  0.381472   \n",
              "\n",
              "             V24       V25       V26       V27       V28  Amount  Class  \n",
              "203546 -0.708425 -0.371554  0.183199  0.249780  0.090856    2.68      0  \n",
              "148493 -0.015783 -0.322355  0.118196 -0.413492 -0.352654   16.00      0  \n",
              "136250  0.001533 -0.101600  0.099062  0.137152 -0.000109    8.98      0  \n",
              "135121 -0.278345 -0.130814  0.629173 -1.330474 -1.090862    2.15      0  \n",
              "37506  -0.049800 -0.392174 -0.866031 -0.091686 -0.071520  142.90      0  \n",
              "\n",
              "[5 rows x 31 columns]"
            ],
            "text/html": [
              "\n",
              "  <div id=\"df-c4fb31a4-a128-463c-a5c1-bddc287ffb07\" class=\"colab-df-container\">\n",
              "    <div>\n",
              "<style scoped>\n",
              "    .dataframe tbody tr th:only-of-type {\n",
              "        vertical-align: middle;\n",
              "    }\n",
              "\n",
              "    .dataframe tbody tr th {\n",
              "        vertical-align: top;\n",
              "    }\n",
              "\n",
              "    .dataframe thead th {\n",
              "        text-align: right;\n",
              "    }\n",
              "</style>\n",
              "<table border=\"1\" class=\"dataframe\">\n",
              "  <thead>\n",
              "    <tr style=\"text-align: right;\">\n",
              "      <th></th>\n",
              "      <th>Time</th>\n",
              "      <th>V1</th>\n",
              "      <th>V2</th>\n",
              "      <th>V3</th>\n",
              "      <th>V4</th>\n",
              "      <th>V5</th>\n",
              "      <th>V6</th>\n",
              "      <th>V7</th>\n",
              "      <th>V8</th>\n",
              "      <th>V9</th>\n",
              "      <th>...</th>\n",
              "      <th>V21</th>\n",
              "      <th>V22</th>\n",
              "      <th>V23</th>\n",
              "      <th>V24</th>\n",
              "      <th>V25</th>\n",
              "      <th>V26</th>\n",
              "      <th>V27</th>\n",
              "      <th>V28</th>\n",
              "      <th>Amount</th>\n",
              "      <th>Class</th>\n",
              "    </tr>\n",
              "  </thead>\n",
              "  <tbody>\n",
              "    <tr>\n",
              "      <th>203546</th>\n",
              "      <td>134863.0</td>\n",
              "      <td>0.098863</td>\n",
              "      <td>0.886085</td>\n",
              "      <td>-0.009876</td>\n",
              "      <td>-0.767202</td>\n",
              "      <td>0.819906</td>\n",
              "      <td>-0.683358</td>\n",
              "      <td>1.030372</td>\n",
              "      <td>-0.188825</td>\n",
              "      <td>-0.071318</td>\n",
              "      <td>...</td>\n",
              "      <td>-0.304352</td>\n",
              "      <td>-0.667242</td>\n",
              "      <td>-0.030803</td>\n",
              "      <td>-0.708425</td>\n",
              "      <td>-0.371554</td>\n",
              "      <td>0.183199</td>\n",
              "      <td>0.249780</td>\n",
              "      <td>0.090856</td>\n",
              "      <td>2.68</td>\n",
              "      <td>0</td>\n",
              "    </tr>\n",
              "    <tr>\n",
              "      <th>148493</th>\n",
              "      <td>89956.0</td>\n",
              "      <td>-1.894230</td>\n",
              "      <td>1.403948</td>\n",
              "      <td>-0.925458</td>\n",
              "      <td>-0.477406</td>\n",
              "      <td>-0.248086</td>\n",
              "      <td>-1.284560</td>\n",
              "      <td>0.104692</td>\n",
              "      <td>0.724381</td>\n",
              "      <td>0.014764</td>\n",
              "      <td>...</td>\n",
              "      <td>-0.283961</td>\n",
              "      <td>-0.493728</td>\n",
              "      <td>0.594103</td>\n",
              "      <td>-0.015783</td>\n",
              "      <td>-0.322355</td>\n",
              "      <td>0.118196</td>\n",
              "      <td>-0.413492</td>\n",
              "      <td>-0.352654</td>\n",
              "      <td>16.00</td>\n",
              "      <td>0</td>\n",
              "    </tr>\n",
              "    <tr>\n",
              "      <th>136250</th>\n",
              "      <td>81613.0</td>\n",
              "      <td>-2.069429</td>\n",
              "      <td>1.938329</td>\n",
              "      <td>0.226337</td>\n",
              "      <td>-0.152869</td>\n",
              "      <td>-0.829807</td>\n",
              "      <td>-0.294793</td>\n",
              "      <td>-0.513590</td>\n",
              "      <td>1.493178</td>\n",
              "      <td>-0.839678</td>\n",
              "      <td>...</td>\n",
              "      <td>-0.082348</td>\n",
              "      <td>-0.416218</td>\n",
              "      <td>0.202043</td>\n",
              "      <td>0.001533</td>\n",
              "      <td>-0.101600</td>\n",
              "      <td>0.099062</td>\n",
              "      <td>0.137152</td>\n",
              "      <td>-0.000109</td>\n",
              "      <td>8.98</td>\n",
              "      <td>0</td>\n",
              "    </tr>\n",
              "    <tr>\n",
              "      <th>135121</th>\n",
              "      <td>81117.0</td>\n",
              "      <td>-2.879165</td>\n",
              "      <td>2.188203</td>\n",
              "      <td>-0.161322</td>\n",
              "      <td>-1.745676</td>\n",
              "      <td>-0.408055</td>\n",
              "      <td>-0.389246</td>\n",
              "      <td>0.005097</td>\n",
              "      <td>0.657315</td>\n",
              "      <td>0.902673</td>\n",
              "      <td>...</td>\n",
              "      <td>-0.174435</td>\n",
              "      <td>0.026624</td>\n",
              "      <td>0.105490</td>\n",
              "      <td>-0.278345</td>\n",
              "      <td>-0.130814</td>\n",
              "      <td>0.629173</td>\n",
              "      <td>-1.330474</td>\n",
              "      <td>-1.090862</td>\n",
              "      <td>2.15</td>\n",
              "      <td>0</td>\n",
              "    </tr>\n",
              "    <tr>\n",
              "      <th>37506</th>\n",
              "      <td>38986.0</td>\n",
              "      <td>-0.891381</td>\n",
              "      <td>0.154366</td>\n",
              "      <td>1.722335</td>\n",
              "      <td>0.227139</td>\n",
              "      <td>0.207031</td>\n",
              "      <td>-0.291426</td>\n",
              "      <td>1.153075</td>\n",
              "      <td>-0.070933</td>\n",
              "      <td>-0.125778</td>\n",
              "      <td>...</td>\n",
              "      <td>-0.115524</td>\n",
              "      <td>-0.618698</td>\n",
              "      <td>0.381472</td>\n",
              "      <td>-0.049800</td>\n",
              "      <td>-0.392174</td>\n",
              "      <td>-0.866031</td>\n",
              "      <td>-0.091686</td>\n",
              "      <td>-0.071520</td>\n",
              "      <td>142.90</td>\n",
              "      <td>0</td>\n",
              "    </tr>\n",
              "  </tbody>\n",
              "</table>\n",
              "<p>5 rows × 31 columns</p>\n",
              "</div>\n",
              "    <div class=\"colab-df-buttons\">\n",
              "\n",
              "  <div class=\"colab-df-container\">\n",
              "    <button class=\"colab-df-convert\" onclick=\"convertToInteractive('df-c4fb31a4-a128-463c-a5c1-bddc287ffb07')\"\n",
              "            title=\"Convert this dataframe to an interactive table.\"\n",
              "            style=\"display:none;\">\n",
              "\n",
              "  <svg xmlns=\"http://www.w3.org/2000/svg\" height=\"24px\" viewBox=\"0 -960 960 960\">\n",
              "    <path d=\"M120-120v-720h720v720H120Zm60-500h600v-160H180v160Zm220 220h160v-160H400v160Zm0 220h160v-160H400v160ZM180-400h160v-160H180v160Zm440 0h160v-160H620v160ZM180-180h160v-160H180v160Zm440 0h160v-160H620v160Z\"/>\n",
              "  </svg>\n",
              "    </button>\n",
              "\n",
              "  <style>\n",
              "    .colab-df-container {\n",
              "      display:flex;\n",
              "      gap: 12px;\n",
              "    }\n",
              "\n",
              "    .colab-df-convert {\n",
              "      background-color: #E8F0FE;\n",
              "      border: none;\n",
              "      border-radius: 50%;\n",
              "      cursor: pointer;\n",
              "      display: none;\n",
              "      fill: #1967D2;\n",
              "      height: 32px;\n",
              "      padding: 0 0 0 0;\n",
              "      width: 32px;\n",
              "    }\n",
              "\n",
              "    .colab-df-convert:hover {\n",
              "      background-color: #E2EBFA;\n",
              "      box-shadow: 0px 1px 2px rgba(60, 64, 67, 0.3), 0px 1px 3px 1px rgba(60, 64, 67, 0.15);\n",
              "      fill: #174EA6;\n",
              "    }\n",
              "\n",
              "    .colab-df-buttons div {\n",
              "      margin-bottom: 4px;\n",
              "    }\n",
              "\n",
              "    [theme=dark] .colab-df-convert {\n",
              "      background-color: #3B4455;\n",
              "      fill: #D2E3FC;\n",
              "    }\n",
              "\n",
              "    [theme=dark] .colab-df-convert:hover {\n",
              "      background-color: #434B5C;\n",
              "      box-shadow: 0px 1px 3px 1px rgba(0, 0, 0, 0.15);\n",
              "      filter: drop-shadow(0px 1px 2px rgba(0, 0, 0, 0.3));\n",
              "      fill: #FFFFFF;\n",
              "    }\n",
              "  </style>\n",
              "\n",
              "    <script>\n",
              "      const buttonEl =\n",
              "        document.querySelector('#df-c4fb31a4-a128-463c-a5c1-bddc287ffb07 button.colab-df-convert');\n",
              "      buttonEl.style.display =\n",
              "        google.colab.kernel.accessAllowed ? 'block' : 'none';\n",
              "\n",
              "      async function convertToInteractive(key) {\n",
              "        const element = document.querySelector('#df-c4fb31a4-a128-463c-a5c1-bddc287ffb07');\n",
              "        const dataTable =\n",
              "          await google.colab.kernel.invokeFunction('convertToInteractive',\n",
              "                                                    [key], {});\n",
              "        if (!dataTable) return;\n",
              "\n",
              "        const docLinkHtml = 'Like what you see? Visit the ' +\n",
              "          '<a target=\"_blank\" href=https://colab.research.google.com/notebooks/data_table.ipynb>data table notebook</a>'\n",
              "          + ' to learn more about interactive tables.';\n",
              "        element.innerHTML = '';\n",
              "        dataTable['output_type'] = 'display_data';\n",
              "        await google.colab.output.renderOutput(dataTable, element);\n",
              "        const docLink = document.createElement('div');\n",
              "        docLink.innerHTML = docLinkHtml;\n",
              "        element.appendChild(docLink);\n",
              "      }\n",
              "    </script>\n",
              "  </div>\n",
              "\n",
              "\n",
              "<div id=\"df-e0d229eb-6266-4746-a89b-33236ce6e699\">\n",
              "  <button class=\"colab-df-quickchart\" onclick=\"quickchart('df-e0d229eb-6266-4746-a89b-33236ce6e699')\"\n",
              "            title=\"Suggest charts.\"\n",
              "            style=\"display:none;\">\n",
              "\n",
              "<svg xmlns=\"http://www.w3.org/2000/svg\" height=\"24px\"viewBox=\"0 0 24 24\"\n",
              "     width=\"24px\">\n",
              "    <g>\n",
              "        <path d=\"M19 3H5c-1.1 0-2 .9-2 2v14c0 1.1.9 2 2 2h14c1.1 0 2-.9 2-2V5c0-1.1-.9-2-2-2zM9 17H7v-7h2v7zm4 0h-2V7h2v10zm4 0h-2v-4h2v4z\"/>\n",
              "    </g>\n",
              "</svg>\n",
              "  </button>\n",
              "\n",
              "<style>\n",
              "  .colab-df-quickchart {\n",
              "      --bg-color: #E8F0FE;\n",
              "      --fill-color: #1967D2;\n",
              "      --hover-bg-color: #E2EBFA;\n",
              "      --hover-fill-color: #174EA6;\n",
              "      --disabled-fill-color: #AAA;\n",
              "      --disabled-bg-color: #DDD;\n",
              "  }\n",
              "\n",
              "  [theme=dark] .colab-df-quickchart {\n",
              "      --bg-color: #3B4455;\n",
              "      --fill-color: #D2E3FC;\n",
              "      --hover-bg-color: #434B5C;\n",
              "      --hover-fill-color: #FFFFFF;\n",
              "      --disabled-bg-color: #3B4455;\n",
              "      --disabled-fill-color: #666;\n",
              "  }\n",
              "\n",
              "  .colab-df-quickchart {\n",
              "    background-color: var(--bg-color);\n",
              "    border: none;\n",
              "    border-radius: 50%;\n",
              "    cursor: pointer;\n",
              "    display: none;\n",
              "    fill: var(--fill-color);\n",
              "    height: 32px;\n",
              "    padding: 0;\n",
              "    width: 32px;\n",
              "  }\n",
              "\n",
              "  .colab-df-quickchart:hover {\n",
              "    background-color: var(--hover-bg-color);\n",
              "    box-shadow: 0 1px 2px rgba(60, 64, 67, 0.3), 0 1px 3px 1px rgba(60, 64, 67, 0.15);\n",
              "    fill: var(--button-hover-fill-color);\n",
              "  }\n",
              "\n",
              "  .colab-df-quickchart-complete:disabled,\n",
              "  .colab-df-quickchart-complete:disabled:hover {\n",
              "    background-color: var(--disabled-bg-color);\n",
              "    fill: var(--disabled-fill-color);\n",
              "    box-shadow: none;\n",
              "  }\n",
              "\n",
              "  .colab-df-spinner {\n",
              "    border: 2px solid var(--fill-color);\n",
              "    border-color: transparent;\n",
              "    border-bottom-color: var(--fill-color);\n",
              "    animation:\n",
              "      spin 1s steps(1) infinite;\n",
              "  }\n",
              "\n",
              "  @keyframes spin {\n",
              "    0% {\n",
              "      border-color: transparent;\n",
              "      border-bottom-color: var(--fill-color);\n",
              "      border-left-color: var(--fill-color);\n",
              "    }\n",
              "    20% {\n",
              "      border-color: transparent;\n",
              "      border-left-color: var(--fill-color);\n",
              "      border-top-color: var(--fill-color);\n",
              "    }\n",
              "    30% {\n",
              "      border-color: transparent;\n",
              "      border-left-color: var(--fill-color);\n",
              "      border-top-color: var(--fill-color);\n",
              "      border-right-color: var(--fill-color);\n",
              "    }\n",
              "    40% {\n",
              "      border-color: transparent;\n",
              "      border-right-color: var(--fill-color);\n",
              "      border-top-color: var(--fill-color);\n",
              "    }\n",
              "    60% {\n",
              "      border-color: transparent;\n",
              "      border-right-color: var(--fill-color);\n",
              "    }\n",
              "    80% {\n",
              "      border-color: transparent;\n",
              "      border-right-color: var(--fill-color);\n",
              "      border-bottom-color: var(--fill-color);\n",
              "    }\n",
              "    90% {\n",
              "      border-color: transparent;\n",
              "      border-bottom-color: var(--fill-color);\n",
              "    }\n",
              "  }\n",
              "</style>\n",
              "\n",
              "  <script>\n",
              "    async function quickchart(key) {\n",
              "      const quickchartButtonEl =\n",
              "        document.querySelector('#' + key + ' button');\n",
              "      quickchartButtonEl.disabled = true;  // To prevent multiple clicks.\n",
              "      quickchartButtonEl.classList.add('colab-df-spinner');\n",
              "      try {\n",
              "        const charts = await google.colab.kernel.invokeFunction(\n",
              "            'suggestCharts', [key], {});\n",
              "      } catch (error) {\n",
              "        console.error('Error during call to suggestCharts:', error);\n",
              "      }\n",
              "      quickchartButtonEl.classList.remove('colab-df-spinner');\n",
              "      quickchartButtonEl.classList.add('colab-df-quickchart-complete');\n",
              "    }\n",
              "    (() => {\n",
              "      let quickchartButtonEl =\n",
              "        document.querySelector('#df-e0d229eb-6266-4746-a89b-33236ce6e699 button');\n",
              "      quickchartButtonEl.style.display =\n",
              "        google.colab.kernel.accessAllowed ? 'block' : 'none';\n",
              "    })();\n",
              "  </script>\n",
              "</div>\n",
              "    </div>\n",
              "  </div>\n"
            ]
          },
          "metadata": {},
          "execution_count": 280
        }
      ],
      "source": [
        "credit_data.sample(5)"
      ]
    },
    {
      "cell_type": "code",
      "execution_count": null,
      "id": "c0138882-3cf2-4e06-bb4d-43debf27adb7",
      "metadata": {
        "colab": {
          "base_uri": "https://localhost:8080/"
        },
        "id": "c0138882-3cf2-4e06-bb4d-43debf27adb7",
        "outputId": "be69f839-8eeb-4c97-fbe5-9d8d0d7c41d5"
      },
      "outputs": [
        {
          "output_type": "stream",
          "name": "stdout",
          "text": [
            " We have 284807 credit card transactions data in our dataset.\n"
          ]
        }
      ],
      "source": [
        "print(f' We have {credit_data.shape[0]} credit card transactions data in our dataset.')"
      ]
    },
    {
      "cell_type": "code",
      "execution_count": null,
      "id": "168377bf-eb39-494f-a112-368b57167d46",
      "metadata": {
        "colab": {
          "base_uri": "https://localhost:8080/"
        },
        "id": "168377bf-eb39-494f-a112-368b57167d46",
        "outputId": "d1ab0883-890a-412b-91e1-709a5ec873ff"
      },
      "outputs": [
        {
          "output_type": "execute_result",
          "data": {
            "text/plain": [
              "Index(['Time', 'V1', 'V2', 'V3', 'V4', 'V5', 'V6', 'V7', 'V8', 'V9', 'V10',\n",
              "       'V11', 'V12', 'V13', 'V14', 'V15', 'V16', 'V17', 'V18', 'V19', 'V20',\n",
              "       'V21', 'V22', 'V23', 'V24', 'V25', 'V26', 'V27', 'V28', 'Amount',\n",
              "       'Class'],\n",
              "      dtype='object')"
            ]
          },
          "metadata": {},
          "execution_count": 282
        }
      ],
      "source": [
        "credit_data.columns"
      ]
    },
    {
      "cell_type": "markdown",
      "id": "67f74280-74ee-4450-bc83-55df651c9164",
      "metadata": {
        "id": "67f74280-74ee-4450-bc83-55df651c9164"
      },
      "source": [
        "V1 to V28 columns has been hidden on purpose due to various privacy reasons and also it is mentioned that V1 to V28 are the principle components obtained after PCA reduction"
      ]
    },
    {
      "cell_type": "code",
      "execution_count": null,
      "id": "a4143370-9d0a-4506-81ec-11dbf5ecc78d",
      "metadata": {
        "colab": {
          "base_uri": "https://localhost:8080/"
        },
        "id": "a4143370-9d0a-4506-81ec-11dbf5ecc78d",
        "outputId": "7e4a1894-06d7-40e3-aea9-e4922d6e4cac"
      },
      "outputs": [
        {
          "output_type": "stream",
          "name": "stdout",
          "text": [
            "<class 'pandas.core.frame.DataFrame'>\n",
            "RangeIndex: 284807 entries, 0 to 284806\n",
            "Data columns (total 31 columns):\n",
            " #   Column  Non-Null Count   Dtype  \n",
            "---  ------  --------------   -----  \n",
            " 0   Time    284807 non-null  float64\n",
            " 1   V1      284807 non-null  float64\n",
            " 2   V2      284807 non-null  float64\n",
            " 3   V3      284807 non-null  float64\n",
            " 4   V4      284807 non-null  float64\n",
            " 5   V5      284807 non-null  float64\n",
            " 6   V6      284807 non-null  float64\n",
            " 7   V7      284807 non-null  float64\n",
            " 8   V8      284807 non-null  float64\n",
            " 9   V9      284807 non-null  float64\n",
            " 10  V10     284807 non-null  float64\n",
            " 11  V11     284807 non-null  float64\n",
            " 12  V12     284807 non-null  float64\n",
            " 13  V13     284807 non-null  float64\n",
            " 14  V14     284807 non-null  float64\n",
            " 15  V15     284807 non-null  float64\n",
            " 16  V16     284807 non-null  float64\n",
            " 17  V17     284807 non-null  float64\n",
            " 18  V18     284807 non-null  float64\n",
            " 19  V19     284807 non-null  float64\n",
            " 20  V20     284807 non-null  float64\n",
            " 21  V21     284807 non-null  float64\n",
            " 22  V22     284807 non-null  float64\n",
            " 23  V23     284807 non-null  float64\n",
            " 24  V24     284807 non-null  float64\n",
            " 25  V25     284807 non-null  float64\n",
            " 26  V26     284807 non-null  float64\n",
            " 27  V27     284807 non-null  float64\n",
            " 28  V28     284807 non-null  float64\n",
            " 29  Amount  284807 non-null  float64\n",
            " 30  Class   284807 non-null  int64  \n",
            "dtypes: float64(30), int64(1)\n",
            "memory usage: 67.4 MB\n"
          ]
        }
      ],
      "source": [
        "credit_data.info()"
      ]
    },
    {
      "cell_type": "markdown",
      "id": "4493501e-eb1b-4774-b16e-ddc19e3695f0",
      "metadata": {
        "id": "4493501e-eb1b-4774-b16e-ddc19e3695f0"
      },
      "source": [
        "<p style=\"font-size: 17px; color: blue;\">\n",
        " Features V1, V2, … V28 are the principal components obtained with PCA. The only features which have not been transformed with PCA are 'Time' and 'Amount'. </p>\n",
        "\n",
        "- **Feature 'Time' contains the seconds elapsed between each transaction and the first transaction in the dataset.**\n",
        "- **The feature 'Amount' is the transaction Amount, this feature can be used for example-dependant cost-sensitive learning.**\n",
        "- **Feature 'Class' is the response variable and it takes value 1 in case of fraud and 0 otherwise.**\n",
        "\n"
      ]
    },
    {
      "cell_type": "code",
      "execution_count": null,
      "id": "df4f9854-9388-4d71-a7f2-080aced389f8",
      "metadata": {
        "colab": {
          "base_uri": "https://localhost:8080/"
        },
        "id": "df4f9854-9388-4d71-a7f2-080aced389f8",
        "outputId": "d28fab82-1266-4782-dcfd-3c968b5a898a"
      },
      "outputs": [
        {
          "output_type": "execute_result",
          "data": {
            "text/plain": [
              "0    284315\n",
              "1       492\n",
              "Name: Class, dtype: int64"
            ]
          },
          "metadata": {},
          "execution_count": 284
        }
      ],
      "source": [
        "credit_data.Class.value_counts()"
      ]
    },
    {
      "cell_type": "markdown",
      "id": "56c1e2da-c082-4e38-9744-a3149ae104b2",
      "metadata": {
        "id": "56c1e2da-c082-4e38-9744-a3149ae104b2"
      },
      "source": [
        "<div style = \"color:red;\">\n",
        "Observation:<br>\n",
        "- class is categorical data with 2 categories: 0 and 1.<br>\n",
        "- highly imbalanced dataset with 492 anomaly transactions.\n",
        "</div>"
      ]
    },
    {
      "cell_type": "code",
      "execution_count": null,
      "id": "549f5719-37fa-4460-b75d-91f9475c473a",
      "metadata": {
        "colab": {
          "base_uri": "https://localhost:8080/"
        },
        "id": "549f5719-37fa-4460-b75d-91f9475c473a",
        "outputId": "fff92630-294e-44be-f146-aca2f5231ef5"
      },
      "outputs": [
        {
          "output_type": "stream",
          "name": "stdout",
          "text": [
            "There are only 492 number of fraudulent transactions out of total 284807 total transactions.\n"
          ]
        }
      ],
      "source": [
        "print(f'There are only {credit_data[credit_data.Class == 1].shape[0]} number of fraudulent transactions out of total {credit_data.shape[0]} total transactions.')"
      ]
    },
    {
      "cell_type": "code",
      "execution_count": null,
      "id": "f49ae0c2-4167-442b-866a-8e461d23bd96",
      "metadata": {
        "colab": {
          "base_uri": "https://localhost:8080/"
        },
        "id": "f49ae0c2-4167-442b-866a-8e461d23bd96",
        "outputId": "c40d2e43-8516-4bd6-ef12-7b2200cf94db"
      },
      "outputs": [
        {
          "output_type": "stream",
          "name": "stdout",
          "text": [
            "Fraud transaction happened only 0.173 % of time.\n"
          ]
        }
      ],
      "source": [
        "print(f'Fraud transaction happened only {round(credit_data[credit_data.Class == 1].shape[0]/credit_data.shape[0] * 100 , 3)} % of time.')"
      ]
    },
    {
      "cell_type": "markdown",
      "id": "e55c3aab-a629-4826-bdad-83aa0aa3f28e",
      "metadata": {
        "id": "e55c3aab-a629-4826-bdad-83aa0aa3f28e"
      },
      "source": [
        "###Our data is highly imbalanced(as we can the skewness in the target classes) and if we try training any s**upervised algorithm** with this data, then it will most likely mark fraud transaction as geniuene."
      ]
    },
    {
      "cell_type": "markdown",
      "id": "6e0ef80c-21e5-401a-a4c1-7a61c0d8daa0",
      "metadata": {
        "id": "6e0ef80c-21e5-401a-a4c1-7a61c0d8daa0"
      },
      "source": [
        "**Let us understand about the imbalanaced data**\n",
        "<p style=\"font-size: 28px; color: blue;\">What is Imbalanced Data?</p>\n",
        "<p>Imbalanced data refers to a situation in machine learning where one category or class of data (called the minority class) is much less common than another category (the majority class). This imbalance can be a problem because machine learning models may not work well when they are heavily biased towards the majority class.</p>\n",
        "\n",
        "<p style=\"font-size: 18px; color: blue;\">Techniques to Handle Imbalanced Data</p>\n",
        "<p><strong>Resampling Techniques:</strong> These methods involve adjusting the number of examples in each class. Oversampling creates more copies of the minority class to balance the dataset, while undersampling reduces the number of majority class examples to balance the dataset.</p>\n",
        "\n",
        "<p><strong>Cost-Sensitive Learning:</strong> This approach involves modifying the loss function of the model to give more weight to the minority class. It assigns a higher \"cost\" to mistakes in the minority class, making the model more sensitive to misclassifying examples from the minority class.</p>\n",
        "\n",
        "<p><strong>Ensemble Methods:</strong> These methods are like teamwork for models. Instead of relying on one model, you use multiple models and combine their predictions. This can help effectively handle imbalanced data.</p>\n",
        "\n",
        "<p><strong>Thresholding:</strong> You can change the decision threshold of your model. By making the threshold higher, you make your model more cautious, making it more likely to classify examples as the minority class. Lowering the threshold makes it more likely to classify examples as the majority class.</p>\n",
        "\n",
        "<p><strong>Generative Adversarial Networks (GANs):</strong> GANs are used to create artificial new examples of the minority class. These artificial synthetic examples are generated by the GAN to balance out the dataset, making it more even.</p>\n"
      ]
    },
    {
      "cell_type": "code",
      "execution_count": null,
      "id": "af20f393-8a21-40c2-acf6-6c949e117a8f",
      "metadata": {
        "colab": {
          "base_uri": "https://localhost:8080/",
          "height": 350
        },
        "id": "af20f393-8a21-40c2-acf6-6c949e117a8f",
        "outputId": "bc8f343b-949e-4f6c-a7ad-19a6f8a0965d"
      },
      "outputs": [
        {
          "output_type": "execute_result",
          "data": {
            "text/plain": [
              "                Time            V1            V2            V3            V4  \\\n",
              "count  284807.000000  2.848070e+05  2.848070e+05  2.848070e+05  2.848070e+05   \n",
              "mean    94813.859575  1.168375e-15  3.416908e-16 -1.379537e-15  2.074095e-15   \n",
              "std     47488.145955  1.958696e+00  1.651309e+00  1.516255e+00  1.415869e+00   \n",
              "min         0.000000 -5.640751e+01 -7.271573e+01 -4.832559e+01 -5.683171e+00   \n",
              "25%     54201.500000 -9.203734e-01 -5.985499e-01 -8.903648e-01 -8.486401e-01   \n",
              "50%     84692.000000  1.810880e-02  6.548556e-02  1.798463e-01 -1.984653e-02   \n",
              "75%    139320.500000  1.315642e+00  8.037239e-01  1.027196e+00  7.433413e-01   \n",
              "max    172792.000000  2.454930e+00  2.205773e+01  9.382558e+00  1.687534e+01   \n",
              "\n",
              "                 V5            V6            V7            V8            V9  \\\n",
              "count  2.848070e+05  2.848070e+05  2.848070e+05  2.848070e+05  2.848070e+05   \n",
              "mean   9.604066e-16  1.487313e-15 -5.556467e-16  1.213481e-16 -2.406331e-15   \n",
              "std    1.380247e+00  1.332271e+00  1.237094e+00  1.194353e+00  1.098632e+00   \n",
              "min   -1.137433e+02 -2.616051e+01 -4.355724e+01 -7.321672e+01 -1.343407e+01   \n",
              "25%   -6.915971e-01 -7.682956e-01 -5.540759e-01 -2.086297e-01 -6.430976e-01   \n",
              "50%   -5.433583e-02 -2.741871e-01  4.010308e-02  2.235804e-02 -5.142873e-02   \n",
              "75%    6.119264e-01  3.985649e-01  5.704361e-01  3.273459e-01  5.971390e-01   \n",
              "max    3.480167e+01  7.330163e+01  1.205895e+02  2.000721e+01  1.559499e+01   \n",
              "\n",
              "       ...           V21           V22           V23           V24  \\\n",
              "count  ...  2.848070e+05  2.848070e+05  2.848070e+05  2.848070e+05   \n",
              "mean   ...  1.654067e-16 -3.568593e-16  2.578648e-16  4.473266e-15   \n",
              "std    ...  7.345240e-01  7.257016e-01  6.244603e-01  6.056471e-01   \n",
              "min    ... -3.483038e+01 -1.093314e+01 -4.480774e+01 -2.836627e+00   \n",
              "25%    ... -2.283949e-01 -5.423504e-01 -1.618463e-01 -3.545861e-01   \n",
              "50%    ... -2.945017e-02  6.781943e-03 -1.119293e-02  4.097606e-02   \n",
              "75%    ...  1.863772e-01  5.285536e-01  1.476421e-01  4.395266e-01   \n",
              "max    ...  2.720284e+01  1.050309e+01  2.252841e+01  4.584549e+00   \n",
              "\n",
              "                V25           V26           V27           V28         Amount  \\\n",
              "count  2.848070e+05  2.848070e+05  2.848070e+05  2.848070e+05  284807.000000   \n",
              "mean   5.340915e-16  1.683437e-15 -3.660091e-16 -1.227390e-16      88.349619   \n",
              "std    5.212781e-01  4.822270e-01  4.036325e-01  3.300833e-01     250.120109   \n",
              "min   -1.029540e+01 -2.604551e+00 -2.256568e+01 -1.543008e+01       0.000000   \n",
              "25%   -3.171451e-01 -3.269839e-01 -7.083953e-02 -5.295979e-02       5.600000   \n",
              "50%    1.659350e-02 -5.213911e-02  1.342146e-03  1.124383e-02      22.000000   \n",
              "75%    3.507156e-01  2.409522e-01  9.104512e-02  7.827995e-02      77.165000   \n",
              "max    7.519589e+00  3.517346e+00  3.161220e+01  3.384781e+01   25691.160000   \n",
              "\n",
              "               Class  \n",
              "count  284807.000000  \n",
              "mean        0.001727  \n",
              "std         0.041527  \n",
              "min         0.000000  \n",
              "25%         0.000000  \n",
              "50%         0.000000  \n",
              "75%         0.000000  \n",
              "max         1.000000  \n",
              "\n",
              "[8 rows x 31 columns]"
            ],
            "text/html": [
              "\n",
              "  <div id=\"df-5fc014b0-7deb-4940-9459-90755f8d3032\" class=\"colab-df-container\">\n",
              "    <div>\n",
              "<style scoped>\n",
              "    .dataframe tbody tr th:only-of-type {\n",
              "        vertical-align: middle;\n",
              "    }\n",
              "\n",
              "    .dataframe tbody tr th {\n",
              "        vertical-align: top;\n",
              "    }\n",
              "\n",
              "    .dataframe thead th {\n",
              "        text-align: right;\n",
              "    }\n",
              "</style>\n",
              "<table border=\"1\" class=\"dataframe\">\n",
              "  <thead>\n",
              "    <tr style=\"text-align: right;\">\n",
              "      <th></th>\n",
              "      <th>Time</th>\n",
              "      <th>V1</th>\n",
              "      <th>V2</th>\n",
              "      <th>V3</th>\n",
              "      <th>V4</th>\n",
              "      <th>V5</th>\n",
              "      <th>V6</th>\n",
              "      <th>V7</th>\n",
              "      <th>V8</th>\n",
              "      <th>V9</th>\n",
              "      <th>...</th>\n",
              "      <th>V21</th>\n",
              "      <th>V22</th>\n",
              "      <th>V23</th>\n",
              "      <th>V24</th>\n",
              "      <th>V25</th>\n",
              "      <th>V26</th>\n",
              "      <th>V27</th>\n",
              "      <th>V28</th>\n",
              "      <th>Amount</th>\n",
              "      <th>Class</th>\n",
              "    </tr>\n",
              "  </thead>\n",
              "  <tbody>\n",
              "    <tr>\n",
              "      <th>count</th>\n",
              "      <td>284807.000000</td>\n",
              "      <td>2.848070e+05</td>\n",
              "      <td>2.848070e+05</td>\n",
              "      <td>2.848070e+05</td>\n",
              "      <td>2.848070e+05</td>\n",
              "      <td>2.848070e+05</td>\n",
              "      <td>2.848070e+05</td>\n",
              "      <td>2.848070e+05</td>\n",
              "      <td>2.848070e+05</td>\n",
              "      <td>2.848070e+05</td>\n",
              "      <td>...</td>\n",
              "      <td>2.848070e+05</td>\n",
              "      <td>2.848070e+05</td>\n",
              "      <td>2.848070e+05</td>\n",
              "      <td>2.848070e+05</td>\n",
              "      <td>2.848070e+05</td>\n",
              "      <td>2.848070e+05</td>\n",
              "      <td>2.848070e+05</td>\n",
              "      <td>2.848070e+05</td>\n",
              "      <td>284807.000000</td>\n",
              "      <td>284807.000000</td>\n",
              "    </tr>\n",
              "    <tr>\n",
              "      <th>mean</th>\n",
              "      <td>94813.859575</td>\n",
              "      <td>1.168375e-15</td>\n",
              "      <td>3.416908e-16</td>\n",
              "      <td>-1.379537e-15</td>\n",
              "      <td>2.074095e-15</td>\n",
              "      <td>9.604066e-16</td>\n",
              "      <td>1.487313e-15</td>\n",
              "      <td>-5.556467e-16</td>\n",
              "      <td>1.213481e-16</td>\n",
              "      <td>-2.406331e-15</td>\n",
              "      <td>...</td>\n",
              "      <td>1.654067e-16</td>\n",
              "      <td>-3.568593e-16</td>\n",
              "      <td>2.578648e-16</td>\n",
              "      <td>4.473266e-15</td>\n",
              "      <td>5.340915e-16</td>\n",
              "      <td>1.683437e-15</td>\n",
              "      <td>-3.660091e-16</td>\n",
              "      <td>-1.227390e-16</td>\n",
              "      <td>88.349619</td>\n",
              "      <td>0.001727</td>\n",
              "    </tr>\n",
              "    <tr>\n",
              "      <th>std</th>\n",
              "      <td>47488.145955</td>\n",
              "      <td>1.958696e+00</td>\n",
              "      <td>1.651309e+00</td>\n",
              "      <td>1.516255e+00</td>\n",
              "      <td>1.415869e+00</td>\n",
              "      <td>1.380247e+00</td>\n",
              "      <td>1.332271e+00</td>\n",
              "      <td>1.237094e+00</td>\n",
              "      <td>1.194353e+00</td>\n",
              "      <td>1.098632e+00</td>\n",
              "      <td>...</td>\n",
              "      <td>7.345240e-01</td>\n",
              "      <td>7.257016e-01</td>\n",
              "      <td>6.244603e-01</td>\n",
              "      <td>6.056471e-01</td>\n",
              "      <td>5.212781e-01</td>\n",
              "      <td>4.822270e-01</td>\n",
              "      <td>4.036325e-01</td>\n",
              "      <td>3.300833e-01</td>\n",
              "      <td>250.120109</td>\n",
              "      <td>0.041527</td>\n",
              "    </tr>\n",
              "    <tr>\n",
              "      <th>min</th>\n",
              "      <td>0.000000</td>\n",
              "      <td>-5.640751e+01</td>\n",
              "      <td>-7.271573e+01</td>\n",
              "      <td>-4.832559e+01</td>\n",
              "      <td>-5.683171e+00</td>\n",
              "      <td>-1.137433e+02</td>\n",
              "      <td>-2.616051e+01</td>\n",
              "      <td>-4.355724e+01</td>\n",
              "      <td>-7.321672e+01</td>\n",
              "      <td>-1.343407e+01</td>\n",
              "      <td>...</td>\n",
              "      <td>-3.483038e+01</td>\n",
              "      <td>-1.093314e+01</td>\n",
              "      <td>-4.480774e+01</td>\n",
              "      <td>-2.836627e+00</td>\n",
              "      <td>-1.029540e+01</td>\n",
              "      <td>-2.604551e+00</td>\n",
              "      <td>-2.256568e+01</td>\n",
              "      <td>-1.543008e+01</td>\n",
              "      <td>0.000000</td>\n",
              "      <td>0.000000</td>\n",
              "    </tr>\n",
              "    <tr>\n",
              "      <th>25%</th>\n",
              "      <td>54201.500000</td>\n",
              "      <td>-9.203734e-01</td>\n",
              "      <td>-5.985499e-01</td>\n",
              "      <td>-8.903648e-01</td>\n",
              "      <td>-8.486401e-01</td>\n",
              "      <td>-6.915971e-01</td>\n",
              "      <td>-7.682956e-01</td>\n",
              "      <td>-5.540759e-01</td>\n",
              "      <td>-2.086297e-01</td>\n",
              "      <td>-6.430976e-01</td>\n",
              "      <td>...</td>\n",
              "      <td>-2.283949e-01</td>\n",
              "      <td>-5.423504e-01</td>\n",
              "      <td>-1.618463e-01</td>\n",
              "      <td>-3.545861e-01</td>\n",
              "      <td>-3.171451e-01</td>\n",
              "      <td>-3.269839e-01</td>\n",
              "      <td>-7.083953e-02</td>\n",
              "      <td>-5.295979e-02</td>\n",
              "      <td>5.600000</td>\n",
              "      <td>0.000000</td>\n",
              "    </tr>\n",
              "    <tr>\n",
              "      <th>50%</th>\n",
              "      <td>84692.000000</td>\n",
              "      <td>1.810880e-02</td>\n",
              "      <td>6.548556e-02</td>\n",
              "      <td>1.798463e-01</td>\n",
              "      <td>-1.984653e-02</td>\n",
              "      <td>-5.433583e-02</td>\n",
              "      <td>-2.741871e-01</td>\n",
              "      <td>4.010308e-02</td>\n",
              "      <td>2.235804e-02</td>\n",
              "      <td>-5.142873e-02</td>\n",
              "      <td>...</td>\n",
              "      <td>-2.945017e-02</td>\n",
              "      <td>6.781943e-03</td>\n",
              "      <td>-1.119293e-02</td>\n",
              "      <td>4.097606e-02</td>\n",
              "      <td>1.659350e-02</td>\n",
              "      <td>-5.213911e-02</td>\n",
              "      <td>1.342146e-03</td>\n",
              "      <td>1.124383e-02</td>\n",
              "      <td>22.000000</td>\n",
              "      <td>0.000000</td>\n",
              "    </tr>\n",
              "    <tr>\n",
              "      <th>75%</th>\n",
              "      <td>139320.500000</td>\n",
              "      <td>1.315642e+00</td>\n",
              "      <td>8.037239e-01</td>\n",
              "      <td>1.027196e+00</td>\n",
              "      <td>7.433413e-01</td>\n",
              "      <td>6.119264e-01</td>\n",
              "      <td>3.985649e-01</td>\n",
              "      <td>5.704361e-01</td>\n",
              "      <td>3.273459e-01</td>\n",
              "      <td>5.971390e-01</td>\n",
              "      <td>...</td>\n",
              "      <td>1.863772e-01</td>\n",
              "      <td>5.285536e-01</td>\n",
              "      <td>1.476421e-01</td>\n",
              "      <td>4.395266e-01</td>\n",
              "      <td>3.507156e-01</td>\n",
              "      <td>2.409522e-01</td>\n",
              "      <td>9.104512e-02</td>\n",
              "      <td>7.827995e-02</td>\n",
              "      <td>77.165000</td>\n",
              "      <td>0.000000</td>\n",
              "    </tr>\n",
              "    <tr>\n",
              "      <th>max</th>\n",
              "      <td>172792.000000</td>\n",
              "      <td>2.454930e+00</td>\n",
              "      <td>2.205773e+01</td>\n",
              "      <td>9.382558e+00</td>\n",
              "      <td>1.687534e+01</td>\n",
              "      <td>3.480167e+01</td>\n",
              "      <td>7.330163e+01</td>\n",
              "      <td>1.205895e+02</td>\n",
              "      <td>2.000721e+01</td>\n",
              "      <td>1.559499e+01</td>\n",
              "      <td>...</td>\n",
              "      <td>2.720284e+01</td>\n",
              "      <td>1.050309e+01</td>\n",
              "      <td>2.252841e+01</td>\n",
              "      <td>4.584549e+00</td>\n",
              "      <td>7.519589e+00</td>\n",
              "      <td>3.517346e+00</td>\n",
              "      <td>3.161220e+01</td>\n",
              "      <td>3.384781e+01</td>\n",
              "      <td>25691.160000</td>\n",
              "      <td>1.000000</td>\n",
              "    </tr>\n",
              "  </tbody>\n",
              "</table>\n",
              "<p>8 rows × 31 columns</p>\n",
              "</div>\n",
              "    <div class=\"colab-df-buttons\">\n",
              "\n",
              "  <div class=\"colab-df-container\">\n",
              "    <button class=\"colab-df-convert\" onclick=\"convertToInteractive('df-5fc014b0-7deb-4940-9459-90755f8d3032')\"\n",
              "            title=\"Convert this dataframe to an interactive table.\"\n",
              "            style=\"display:none;\">\n",
              "\n",
              "  <svg xmlns=\"http://www.w3.org/2000/svg\" height=\"24px\" viewBox=\"0 -960 960 960\">\n",
              "    <path d=\"M120-120v-720h720v720H120Zm60-500h600v-160H180v160Zm220 220h160v-160H400v160Zm0 220h160v-160H400v160ZM180-400h160v-160H180v160Zm440 0h160v-160H620v160ZM180-180h160v-160H180v160Zm440 0h160v-160H620v160Z\"/>\n",
              "  </svg>\n",
              "    </button>\n",
              "\n",
              "  <style>\n",
              "    .colab-df-container {\n",
              "      display:flex;\n",
              "      gap: 12px;\n",
              "    }\n",
              "\n",
              "    .colab-df-convert {\n",
              "      background-color: #E8F0FE;\n",
              "      border: none;\n",
              "      border-radius: 50%;\n",
              "      cursor: pointer;\n",
              "      display: none;\n",
              "      fill: #1967D2;\n",
              "      height: 32px;\n",
              "      padding: 0 0 0 0;\n",
              "      width: 32px;\n",
              "    }\n",
              "\n",
              "    .colab-df-convert:hover {\n",
              "      background-color: #E2EBFA;\n",
              "      box-shadow: 0px 1px 2px rgba(60, 64, 67, 0.3), 0px 1px 3px 1px rgba(60, 64, 67, 0.15);\n",
              "      fill: #174EA6;\n",
              "    }\n",
              "\n",
              "    .colab-df-buttons div {\n",
              "      margin-bottom: 4px;\n",
              "    }\n",
              "\n",
              "    [theme=dark] .colab-df-convert {\n",
              "      background-color: #3B4455;\n",
              "      fill: #D2E3FC;\n",
              "    }\n",
              "\n",
              "    [theme=dark] .colab-df-convert:hover {\n",
              "      background-color: #434B5C;\n",
              "      box-shadow: 0px 1px 3px 1px rgba(0, 0, 0, 0.15);\n",
              "      filter: drop-shadow(0px 1px 2px rgba(0, 0, 0, 0.3));\n",
              "      fill: #FFFFFF;\n",
              "    }\n",
              "  </style>\n",
              "\n",
              "    <script>\n",
              "      const buttonEl =\n",
              "        document.querySelector('#df-5fc014b0-7deb-4940-9459-90755f8d3032 button.colab-df-convert');\n",
              "      buttonEl.style.display =\n",
              "        google.colab.kernel.accessAllowed ? 'block' : 'none';\n",
              "\n",
              "      async function convertToInteractive(key) {\n",
              "        const element = document.querySelector('#df-5fc014b0-7deb-4940-9459-90755f8d3032');\n",
              "        const dataTable =\n",
              "          await google.colab.kernel.invokeFunction('convertToInteractive',\n",
              "                                                    [key], {});\n",
              "        if (!dataTable) return;\n",
              "\n",
              "        const docLinkHtml = 'Like what you see? Visit the ' +\n",
              "          '<a target=\"_blank\" href=https://colab.research.google.com/notebooks/data_table.ipynb>data table notebook</a>'\n",
              "          + ' to learn more about interactive tables.';\n",
              "        element.innerHTML = '';\n",
              "        dataTable['output_type'] = 'display_data';\n",
              "        await google.colab.output.renderOutput(dataTable, element);\n",
              "        const docLink = document.createElement('div');\n",
              "        docLink.innerHTML = docLinkHtml;\n",
              "        element.appendChild(docLink);\n",
              "      }\n",
              "    </script>\n",
              "  </div>\n",
              "\n",
              "\n",
              "<div id=\"df-7c1e49b2-c61c-497e-b030-fa0b9839e86b\">\n",
              "  <button class=\"colab-df-quickchart\" onclick=\"quickchart('df-7c1e49b2-c61c-497e-b030-fa0b9839e86b')\"\n",
              "            title=\"Suggest charts.\"\n",
              "            style=\"display:none;\">\n",
              "\n",
              "<svg xmlns=\"http://www.w3.org/2000/svg\" height=\"24px\"viewBox=\"0 0 24 24\"\n",
              "     width=\"24px\">\n",
              "    <g>\n",
              "        <path d=\"M19 3H5c-1.1 0-2 .9-2 2v14c0 1.1.9 2 2 2h14c1.1 0 2-.9 2-2V5c0-1.1-.9-2-2-2zM9 17H7v-7h2v7zm4 0h-2V7h2v10zm4 0h-2v-4h2v4z\"/>\n",
              "    </g>\n",
              "</svg>\n",
              "  </button>\n",
              "\n",
              "<style>\n",
              "  .colab-df-quickchart {\n",
              "      --bg-color: #E8F0FE;\n",
              "      --fill-color: #1967D2;\n",
              "      --hover-bg-color: #E2EBFA;\n",
              "      --hover-fill-color: #174EA6;\n",
              "      --disabled-fill-color: #AAA;\n",
              "      --disabled-bg-color: #DDD;\n",
              "  }\n",
              "\n",
              "  [theme=dark] .colab-df-quickchart {\n",
              "      --bg-color: #3B4455;\n",
              "      --fill-color: #D2E3FC;\n",
              "      --hover-bg-color: #434B5C;\n",
              "      --hover-fill-color: #FFFFFF;\n",
              "      --disabled-bg-color: #3B4455;\n",
              "      --disabled-fill-color: #666;\n",
              "  }\n",
              "\n",
              "  .colab-df-quickchart {\n",
              "    background-color: var(--bg-color);\n",
              "    border: none;\n",
              "    border-radius: 50%;\n",
              "    cursor: pointer;\n",
              "    display: none;\n",
              "    fill: var(--fill-color);\n",
              "    height: 32px;\n",
              "    padding: 0;\n",
              "    width: 32px;\n",
              "  }\n",
              "\n",
              "  .colab-df-quickchart:hover {\n",
              "    background-color: var(--hover-bg-color);\n",
              "    box-shadow: 0 1px 2px rgba(60, 64, 67, 0.3), 0 1px 3px 1px rgba(60, 64, 67, 0.15);\n",
              "    fill: var(--button-hover-fill-color);\n",
              "  }\n",
              "\n",
              "  .colab-df-quickchart-complete:disabled,\n",
              "  .colab-df-quickchart-complete:disabled:hover {\n",
              "    background-color: var(--disabled-bg-color);\n",
              "    fill: var(--disabled-fill-color);\n",
              "    box-shadow: none;\n",
              "  }\n",
              "\n",
              "  .colab-df-spinner {\n",
              "    border: 2px solid var(--fill-color);\n",
              "    border-color: transparent;\n",
              "    border-bottom-color: var(--fill-color);\n",
              "    animation:\n",
              "      spin 1s steps(1) infinite;\n",
              "  }\n",
              "\n",
              "  @keyframes spin {\n",
              "    0% {\n",
              "      border-color: transparent;\n",
              "      border-bottom-color: var(--fill-color);\n",
              "      border-left-color: var(--fill-color);\n",
              "    }\n",
              "    20% {\n",
              "      border-color: transparent;\n",
              "      border-left-color: var(--fill-color);\n",
              "      border-top-color: var(--fill-color);\n",
              "    }\n",
              "    30% {\n",
              "      border-color: transparent;\n",
              "      border-left-color: var(--fill-color);\n",
              "      border-top-color: var(--fill-color);\n",
              "      border-right-color: var(--fill-color);\n",
              "    }\n",
              "    40% {\n",
              "      border-color: transparent;\n",
              "      border-right-color: var(--fill-color);\n",
              "      border-top-color: var(--fill-color);\n",
              "    }\n",
              "    60% {\n",
              "      border-color: transparent;\n",
              "      border-right-color: var(--fill-color);\n",
              "    }\n",
              "    80% {\n",
              "      border-color: transparent;\n",
              "      border-right-color: var(--fill-color);\n",
              "      border-bottom-color: var(--fill-color);\n",
              "    }\n",
              "    90% {\n",
              "      border-color: transparent;\n",
              "      border-bottom-color: var(--fill-color);\n",
              "    }\n",
              "  }\n",
              "</style>\n",
              "\n",
              "  <script>\n",
              "    async function quickchart(key) {\n",
              "      const quickchartButtonEl =\n",
              "        document.querySelector('#' + key + ' button');\n",
              "      quickchartButtonEl.disabled = true;  // To prevent multiple clicks.\n",
              "      quickchartButtonEl.classList.add('colab-df-spinner');\n",
              "      try {\n",
              "        const charts = await google.colab.kernel.invokeFunction(\n",
              "            'suggestCharts', [key], {});\n",
              "      } catch (error) {\n",
              "        console.error('Error during call to suggestCharts:', error);\n",
              "      }\n",
              "      quickchartButtonEl.classList.remove('colab-df-spinner');\n",
              "      quickchartButtonEl.classList.add('colab-df-quickchart-complete');\n",
              "    }\n",
              "    (() => {\n",
              "      let quickchartButtonEl =\n",
              "        document.querySelector('#df-7c1e49b2-c61c-497e-b030-fa0b9839e86b button');\n",
              "      quickchartButtonEl.style.display =\n",
              "        google.colab.kernel.accessAllowed ? 'block' : 'none';\n",
              "    })();\n",
              "  </script>\n",
              "</div>\n",
              "    </div>\n",
              "  </div>\n"
            ]
          },
          "metadata": {},
          "execution_count": 287
        }
      ],
      "source": [
        "credit_data.describe()"
      ]
    },
    {
      "cell_type": "markdown",
      "source": [
        "Checking if there is any NULL elements in the data"
      ],
      "metadata": {
        "id": "0G_gGnuGidvH"
      },
      "id": "0G_gGnuGidvH"
    },
    {
      "cell_type": "code",
      "execution_count": null,
      "id": "48f6afe9-0b43-4fa5-b942-ada36ba63352",
      "metadata": {
        "colab": {
          "base_uri": "https://localhost:8080/"
        },
        "id": "48f6afe9-0b43-4fa5-b942-ada36ba63352",
        "outputId": "9add6573-ca49-427e-ec22-462651b6e379"
      },
      "outputs": [
        {
          "output_type": "execute_result",
          "data": {
            "text/plain": [
              "Time      0\n",
              "V1        0\n",
              "V2        0\n",
              "V3        0\n",
              "V4        0\n",
              "V5        0\n",
              "V6        0\n",
              "V7        0\n",
              "V8        0\n",
              "V9        0\n",
              "V10       0\n",
              "V11       0\n",
              "V12       0\n",
              "V13       0\n",
              "V14       0\n",
              "V15       0\n",
              "V16       0\n",
              "V17       0\n",
              "V18       0\n",
              "V19       0\n",
              "V20       0\n",
              "V21       0\n",
              "V22       0\n",
              "V23       0\n",
              "V24       0\n",
              "V25       0\n",
              "V26       0\n",
              "V27       0\n",
              "V28       0\n",
              "Amount    0\n",
              "Class     0\n",
              "dtype: int64"
            ]
          },
          "metadata": {},
          "execution_count": 288
        }
      ],
      "source": [
        "credit_data.isna().sum()"
      ]
    },
    {
      "cell_type": "code",
      "execution_count": null,
      "id": "db2d0e0c-e48f-4a66-a365-e5591dcc7901",
      "metadata": {
        "colab": {
          "base_uri": "https://localhost:8080/"
        },
        "id": "db2d0e0c-e48f-4a66-a365-e5591dcc7901",
        "outputId": "213e94f1-99d5-4cf2-ad9d-f6b3c784fc66"
      },
      "outputs": [
        {
          "output_type": "execute_result",
          "data": {
            "text/plain": [
              "1081"
            ]
          },
          "metadata": {},
          "execution_count": 289
        }
      ],
      "source": [
        "credit_data.duplicated().sum()"
      ]
    },
    {
      "cell_type": "markdown",
      "id": "71f33444-4b1a-4e32-ae29-78ef5368e2b4",
      "metadata": {
        "id": "71f33444-4b1a-4e32-ae29-78ef5368e2b4"
      },
      "source": [
        "<div style = \"color:red;\">\n",
        "Observation:<br>\n",
        "- no missing values<br>\n",
        "- 1081 transactions have been duplicated( maybe same amount transaction done twice)\n",
        "</div>"
      ]
    },
    {
      "cell_type": "code",
      "execution_count": null,
      "id": "57957d6c-f6d0-4a1c-a4db-e07a3ccd41c9",
      "metadata": {
        "id": "57957d6c-f6d0-4a1c-a4db-e07a3ccd41c9"
      },
      "outputs": [],
      "source": [
        "credit_data.drop_duplicates(inplace = True)"
      ]
    },
    {
      "cell_type": "markdown",
      "id": "c16404fd-1d18-4779-8291-ed74cb531b88",
      "metadata": {
        "id": "c16404fd-1d18-4779-8291-ed74cb531b88"
      },
      "source": [
        "#### Pandas Profiler - Auto EDA"
      ]
    },
    {
      "cell_type": "code",
      "execution_count": null,
      "id": "319bfa76-d4ea-45b6-ba81-e47b7b40615c",
      "metadata": {
        "id": "319bfa76-d4ea-45b6-ba81-e47b7b40615c"
      },
      "outputs": [],
      "source": [
        "# report = ProfileReport(credit_data, title=\"Profiling Report\")\n",
        "# report.to_file('ProfileReport.html')"
      ]
    },
    {
      "cell_type": "code",
      "execution_count": null,
      "id": "61b50d06-a8c2-47dd-9f37-47377dd57a5d",
      "metadata": {
        "colab": {
          "base_uri": "https://localhost:8080/"
        },
        "id": "61b50d06-a8c2-47dd-9f37-47377dd57a5d",
        "outputId": "92d105c0-2380-4038-cf2b-64adc958eaa8"
      },
      "outputs": [
        {
          "output_type": "stream",
          "name": "stdout",
          "text": [
            " Minimum transaction amount: 0.0\n",
            " Maximum transaction amount: 25691.16\n"
          ]
        }
      ],
      "source": [
        "# lets see the transactions count !\n",
        "\n",
        "print(f' Minimum transaction amount: {credit_data.Amount.min()}')\n",
        "print(f' Maximum transaction amount: {credit_data.Amount.max()}')\n"
      ]
    },
    {
      "cell_type": "code",
      "execution_count": null,
      "id": "883976d1-42b4-4230-811e-c1ddc8ae0b3f",
      "metadata": {
        "colab": {
          "base_uri": "https://localhost:8080/"
        },
        "id": "883976d1-42b4-4230-811e-c1ddc8ae0b3f",
        "outputId": "11457887-a2f0-4dd1-9950-7bb9c5ae4560"
      },
      "outputs": [
        {
          "output_type": "execute_result",
          "data": {
            "text/plain": [
              "count    283726.000000\n",
              "mean         88.472687\n",
              "std         250.399437\n",
              "min           0.000000\n",
              "25%           5.600000\n",
              "50%          22.000000\n",
              "75%          77.510000\n",
              "max       25691.160000\n",
              "Name: Amount, dtype: float64"
            ]
          },
          "metadata": {},
          "execution_count": 293
        }
      ],
      "source": [
        "credit_data.Amount.describe()"
      ]
    },
    {
      "cell_type": "markdown",
      "id": "fb23c9dc-1444-41c3-95e2-a287e9092fbe",
      "metadata": {
        "id": "fb23c9dc-1444-41c3-95e2-a287e9092fbe"
      },
      "source": [
        "<div style = \"color:red;\">\n",
        "Observation:<br>\n",
        "- 0 rupees transaction of credit card means?\n",
        "</div>"
      ]
    },
    {
      "cell_type": "code",
      "execution_count": null,
      "id": "ee1d4b01-5491-4817-8394-18492636e843",
      "metadata": {
        "colab": {
          "base_uri": "https://localhost:8080/",
          "height": 424
        },
        "id": "ee1d4b01-5491-4817-8394-18492636e843",
        "outputId": "f9344d3f-dbbd-4074-85ed-08cede1d3fe5"
      },
      "outputs": [
        {
          "output_type": "execute_result",
          "data": {
            "text/plain": [
              "<seaborn.axisgrid.FacetGrid at 0x7f4a1f13dc30>"
            ]
          },
          "metadata": {},
          "execution_count": 294
        },
        {
          "output_type": "display_data",
          "data": {
            "text/plain": [
              "<Figure size 400x400 with 1 Axes>"
            ],
            "image/png": "[encoded data removed]"
          },
          "metadata": {}
        }
      ],
      "source": [
        "\n",
        "sns.displot(data = credit_data, x = \"Amount\", kind = 'kde', height=4)\n"
      ]
    },
    {
      "cell_type": "code",
      "execution_count": null,
      "id": "b59ae99c-68c9-4375-b3af-ad284f4eef96",
      "metadata": {
        "colab": {
          "base_uri": "https://localhost:8080/",
          "height": 256
        },
        "id": "b59ae99c-68c9-4375-b3af-ad284f4eef96",
        "outputId": "95120473-dcad-4c2f-e670-565706360137"
      },
      "outputs": [
        {
          "output_type": "execute_result",
          "data": {
            "text/plain": [
              "        Time        V1        V2        V3        V4        V5        V6  \\\n",
              "541    406.0 -2.312227  1.951992 -1.609851  3.997906 -0.522188 -1.426545   \n",
              "623    472.0 -3.043541 -3.157307  1.088463  2.288644  1.359805 -1.064823   \n",
              "4920  4462.0 -2.303350  1.759247 -0.359745  2.330243 -0.821628 -0.075788   \n",
              "6108  6986.0 -4.397974  1.358367 -2.592844  2.679787 -1.128131 -1.706536   \n",
              "6329  7519.0  1.234235  3.019740 -4.304597  4.732795  3.624201 -1.357746   \n",
              "\n",
              "            V7        V8        V9  ...       V21       V22       V23  \\\n",
              "541  -2.537387  1.391657 -2.770089  ...  0.517232 -0.035049 -0.465211   \n",
              "623   0.325574 -0.067794 -0.270953  ...  0.661696  0.435477  1.375966   \n",
              "4920  0.562320 -0.399147 -0.238253  ... -0.294166 -0.932391  0.172726   \n",
              "6108 -3.496197 -0.248778 -0.247768  ...  0.573574  0.176968 -0.436207   \n",
              "6329  1.713445 -0.496358 -1.282858  ... -0.379068 -0.704181 -0.656805   \n",
              "\n",
              "           V24       V25       V26       V27       V28  Amount  Class  \n",
              "541   0.320198  0.044519  0.177840  0.261145 -0.143276    0.00      1  \n",
              "623  -0.293803  0.279798 -0.145362 -0.252773  0.035764  529.00      1  \n",
              "4920 -0.087330 -0.156114 -0.542628  0.039566 -0.153029  239.93      1  \n",
              "6108 -0.053502  0.252405 -0.657488 -0.827136  0.849573   59.00      1  \n",
              "6329 -1.632653  1.488901  0.566797 -0.010016  0.146793    1.00      1  \n",
              "\n",
              "[5 rows x 31 columns]"
            ],
            "text/html": [
              "\n",
              "  <div id=\"df-a9269e5f-eeb2-4823-a9c2-9bab760a94ec\" class=\"colab-df-container\">\n",
              "    <div>\n",
              "<style scoped>\n",
              "    .dataframe tbody tr th:only-of-type {\n",
              "        vertical-align: middle;\n",
              "    }\n",
              "\n",
              "    .dataframe tbody tr th {\n",
              "        vertical-align: top;\n",
              "    }\n",
              "\n",
              "    .dataframe thead th {\n",
              "        text-align: right;\n",
              "    }\n",
              "</style>\n",
              "<table border=\"1\" class=\"dataframe\">\n",
              "  <thead>\n",
              "    <tr style=\"text-align: right;\">\n",
              "      <th></th>\n",
              "      <th>Time</th>\n",
              "      <th>V1</th>\n",
              "      <th>V2</th>\n",
              "      <th>V3</th>\n",
              "      <th>V4</th>\n",
              "      <th>V5</th>\n",
              "      <th>V6</th>\n",
              "      <th>V7</th>\n",
              "      <th>V8</th>\n",
              "      <th>V9</th>\n",
              "      <th>...</th>\n",
              "      <th>V21</th>\n",
              "      <th>V22</th>\n",
              "      <th>V23</th>\n",
              "      <th>V24</th>\n",
              "      <th>V25</th>\n",
              "      <th>V26</th>\n",
              "      <th>V27</th>\n",
              "      <th>V28</th>\n",
              "      <th>Amount</th>\n",
              "      <th>Class</th>\n",
              "    </tr>\n",
              "  </thead>\n",
              "  <tbody>\n",
              "    <tr>\n",
              "      <th>541</th>\n",
              "      <td>406.0</td>\n",
              "      <td>-2.312227</td>\n",
              "      <td>1.951992</td>\n",
              "      <td>-1.609851</td>\n",
              "      <td>3.997906</td>\n",
              "      <td>-0.522188</td>\n",
              "      <td>-1.426545</td>\n",
              "      <td>-2.537387</td>\n",
              "      <td>1.391657</td>\n",
              "      <td>-2.770089</td>\n",
              "      <td>...</td>\n",
              "      <td>0.517232</td>\n",
              "      <td>-0.035049</td>\n",
              "      <td>-0.465211</td>\n",
              "      <td>0.320198</td>\n",
              "      <td>0.044519</td>\n",
              "      <td>0.177840</td>\n",
              "      <td>0.261145</td>\n",
              "      <td>-0.143276</td>\n",
              "      <td>0.00</td>\n",
              "      <td>1</td>\n",
              "    </tr>\n",
              "    <tr>\n",
              "      <th>623</th>\n",
              "      <td>472.0</td>\n",
              "      <td>-3.043541</td>\n",
              "      <td>-3.157307</td>\n",
              "      <td>1.088463</td>\n",
              "      <td>2.288644</td>\n",
              "      <td>1.359805</td>\n",
              "      <td>-1.064823</td>\n",
              "      <td>0.325574</td>\n",
              "      <td>-0.067794</td>\n",
              "      <td>-0.270953</td>\n",
              "      <td>...</td>\n",
              "      <td>0.661696</td>\n",
              "      <td>0.435477</td>\n",
              "      <td>1.375966</td>\n",
              "      <td>-0.293803</td>\n",
              "      <td>0.279798</td>\n",
              "      <td>-0.145362</td>\n",
              "      <td>-0.252773</td>\n",
              "      <td>0.035764</td>\n",
              "      <td>529.00</td>\n",
              "      <td>1</td>\n",
              "    </tr>\n",
              "    <tr>\n",
              "      <th>4920</th>\n",
              "      <td>4462.0</td>\n",
              "      <td>-2.303350</td>\n",
              "      <td>1.759247</td>\n",
              "      <td>-0.359745</td>\n",
              "      <td>2.330243</td>\n",
              "      <td>-0.821628</td>\n",
              "      <td>-0.075788</td>\n",
              "      <td>0.562320</td>\n",
              "      <td>-0.399147</td>\n",
              "      <td>-0.238253</td>\n",
              "      <td>...</td>\n",
              "      <td>-0.294166</td>\n",
              "      <td>-0.932391</td>\n",
              "      <td>0.172726</td>\n",
              "      <td>-0.087330</td>\n",
              "      <td>-0.156114</td>\n",
              "      <td>-0.542628</td>\n",
              "      <td>0.039566</td>\n",
              "      <td>-0.153029</td>\n",
              "      <td>239.93</td>\n",
              "      <td>1</td>\n",
              "    </tr>\n",
              "    <tr>\n",
              "      <th>6108</th>\n",
              "      <td>6986.0</td>\n",
              "      <td>-4.397974</td>\n",
              "      <td>1.358367</td>\n",
              "      <td>-2.592844</td>\n",
              "      <td>2.679787</td>\n",
              "      <td>-1.128131</td>\n",
              "      <td>-1.706536</td>\n",
              "      <td>-3.496197</td>\n",
              "      <td>-0.248778</td>\n",
              "      <td>-0.247768</td>\n",
              "      <td>...</td>\n",
              "      <td>0.573574</td>\n",
              "      <td>0.176968</td>\n",
              "      <td>-0.436207</td>\n",
              "      <td>-0.053502</td>\n",
              "      <td>0.252405</td>\n",
              "      <td>-0.657488</td>\n",
              "      <td>-0.827136</td>\n",
              "      <td>0.849573</td>\n",
              "      <td>59.00</td>\n",
              "      <td>1</td>\n",
              "    </tr>\n",
              "    <tr>\n",
              "      <th>6329</th>\n",
              "      <td>7519.0</td>\n",
              "      <td>1.234235</td>\n",
              "      <td>3.019740</td>\n",
              "      <td>-4.304597</td>\n",
              "      <td>4.732795</td>\n",
              "      <td>3.624201</td>\n",
              "      <td>-1.357746</td>\n",
              "      <td>1.713445</td>\n",
              "      <td>-0.496358</td>\n",
              "      <td>-1.282858</td>\n",
              "      <td>...</td>\n",
              "      <td>-0.379068</td>\n",
              "      <td>-0.704181</td>\n",
              "      <td>-0.656805</td>\n",
              "      <td>-1.632653</td>\n",
              "      <td>1.488901</td>\n",
              "      <td>0.566797</td>\n",
              "      <td>-0.010016</td>\n",
              "      <td>0.146793</td>\n",
              "      <td>1.00</td>\n",
              "      <td>1</td>\n",
              "    </tr>\n",
              "  </tbody>\n",
              "</table>\n",
              "<p>5 rows × 31 columns</p>\n",
              "</div>\n",
              "    <div class=\"colab-df-buttons\">\n",
              "\n",
              "  <div class=\"colab-df-container\">\n",
              "    <button class=\"colab-df-convert\" onclick=\"convertToInteractive('df-a9269e5f-eeb2-4823-a9c2-9bab760a94ec')\"\n",
              "            title=\"Convert this dataframe to an interactive table.\"\n",
              "            style=\"display:none;\">\n",
              "\n",
              "  <svg xmlns=\"http://www.w3.org/2000/svg\" height=\"24px\" viewBox=\"0 -960 960 960\">\n",
              "    <path d=\"M120-120v-720h720v720H120Zm60-500h600v-160H180v160Zm220 220h160v-160H400v160Zm0 220h160v-160H400v160ZM180-400h160v-160H180v160Zm440 0h160v-160H620v160ZM180-180h160v-160H180v160Zm440 0h160v-160H620v160Z\"/>\n",
              "  </svg>\n",
              "    </button>\n",
              "\n",
              "  <style>\n",
              "    .colab-df-container {\n",
              "      display:flex;\n",
              "      gap: 12px;\n",
              "    }\n",
              "\n",
              "    .colab-df-convert {\n",
              "      background-color: #E8F0FE;\n",
              "      border: none;\n",
              "      border-radius: 50%;\n",
              "      cursor: pointer;\n",
              "      display: none;\n",
              "      fill: #1967D2;\n",
              "      height: 32px;\n",
              "      padding: 0 0 0 0;\n",
              "      width: 32px;\n",
              "    }\n",
              "\n",
              "    .colab-df-convert:hover {\n",
              "      background-color: #E2EBFA;\n",
              "      box-shadow: 0px 1px 2px rgba(60, 64, 67, 0.3), 0px 1px 3px 1px rgba(60, 64, 67, 0.15);\n",
              "      fill: #174EA6;\n",
              "    }\n",
              "\n",
              "    .colab-df-buttons div {\n",
              "      margin-bottom: 4px;\n",
              "    }\n",
              "\n",
              "    [theme=dark] .colab-df-convert {\n",
              "      background-color: #3B4455;\n",
              "      fill: #D2E3FC;\n",
              "    }\n",
              "\n",
              "    [theme=dark] .colab-df-convert:hover {\n",
              "      background-color: #434B5C;\n",
              "      box-shadow: 0px 1px 3px 1px rgba(0, 0, 0, 0.15);\n",
              "      filter: drop-shadow(0px 1px 2px rgba(0, 0, 0, 0.3));\n",
              "      fill: #FFFFFF;\n",
              "    }\n",
              "  </style>\n",
              "\n",
              "    <script>\n",
              "      const buttonEl =\n",
              "        document.querySelector('#df-a9269e5f-eeb2-4823-a9c2-9bab760a94ec button.colab-df-convert');\n",
              "      buttonEl.style.display =\n",
              "        google.colab.kernel.accessAllowed ? 'block' : 'none';\n",
              "\n",
              "      async function convertToInteractive(key) {\n",
              "        const element = document.querySelector('#df-a9269e5f-eeb2-4823-a9c2-9bab760a94ec');\n",
              "        const dataTable =\n",
              "          await google.colab.kernel.invokeFunction('convertToInteractive',\n",
              "                                                    [key], {});\n",
              "        if (!dataTable) return;\n",
              "\n",
              "        const docLinkHtml = 'Like what you see? Visit the ' +\n",
              "          '<a target=\"_blank\" href=https://colab.research.google.com/notebooks/data_table.ipynb>data table notebook</a>'\n",
              "          + ' to learn more about interactive tables.';\n",
              "        element.innerHTML = '';\n",
              "        dataTable['output_type'] = 'display_data';\n",
              "        await google.colab.output.renderOutput(dataTable, element);\n",
              "        const docLink = document.createElement('div');\n",
              "        docLink.innerHTML = docLinkHtml;\n",
              "        element.appendChild(docLink);\n",
              "      }\n",
              "    </script>\n",
              "  </div>\n",
              "\n",
              "\n",
              "<div id=\"df-0e386ef2-807b-48d9-b2ff-cb85d05621b7\">\n",
              "  <button class=\"colab-df-quickchart\" onclick=\"quickchart('df-0e386ef2-807b-48d9-b2ff-cb85d05621b7')\"\n",
              "            title=\"Suggest charts.\"\n",
              "            style=\"display:none;\">\n",
              "\n",
              "<svg xmlns=\"http://www.w3.org/2000/svg\" height=\"24px\"viewBox=\"0 0 24 24\"\n",
              "     width=\"24px\">\n",
              "    <g>\n",
              "        <path d=\"M19 3H5c-1.1 0-2 .9-2 2v14c0 1.1.9 2 2 2h14c1.1 0 2-.9 2-2V5c0-1.1-.9-2-2-2zM9 17H7v-7h2v7zm4 0h-2V7h2v10zm4 0h-2v-4h2v4z\"/>\n",
              "    </g>\n",
              "</svg>\n",
              "  </button>\n",
              "\n",
              "<style>\n",
              "  .colab-df-quickchart {\n",
              "      --bg-color: #E8F0FE;\n",
              "      --fill-color: #1967D2;\n",
              "      --hover-bg-color: #E2EBFA;\n",
              "      --hover-fill-color: #174EA6;\n",
              "      --disabled-fill-color: #AAA;\n",
              "      --disabled-bg-color: #DDD;\n",
              "  }\n",
              "\n",
              "  [theme=dark] .colab-df-quickchart {\n",
              "      --bg-color: #3B4455;\n",
              "      --fill-color: #D2E3FC;\n",
              "      --hover-bg-color: #434B5C;\n",
              "      --hover-fill-color: #FFFFFF;\n",
              "      --disabled-bg-color: #3B4455;\n",
              "      --disabled-fill-color: #666;\n",
              "  }\n",
              "\n",
              "  .colab-df-quickchart {\n",
              "    background-color: var(--bg-color);\n",
              "    border: none;\n",
              "    border-radius: 50%;\n",
              "    cursor: pointer;\n",
              "    display: none;\n",
              "    fill: var(--fill-color);\n",
              "    height: 32px;\n",
              "    padding: 0;\n",
              "    width: 32px;\n",
              "  }\n",
              "\n",
              "  .colab-df-quickchart:hover {\n",
              "    background-color: var(--hover-bg-color);\n",
              "    box-shadow: 0 1px 2px rgba(60, 64, 67, 0.3), 0 1px 3px 1px rgba(60, 64, 67, 0.15);\n",
              "    fill: var(--button-hover-fill-color);\n",
              "  }\n",
              "\n",
              "  .colab-df-quickchart-complete:disabled,\n",
              "  .colab-df-quickchart-complete:disabled:hover {\n",
              "    background-color: var(--disabled-bg-color);\n",
              "    fill: var(--disabled-fill-color);\n",
              "    box-shadow: none;\n",
              "  }\n",
              "\n",
              "  .colab-df-spinner {\n",
              "    border: 2px solid var(--fill-color);\n",
              "    border-color: transparent;\n",
              "    border-bottom-color: var(--fill-color);\n",
              "    animation:\n",
              "      spin 1s steps(1) infinite;\n",
              "  }\n",
              "\n",
              "  @keyframes spin {\n",
              "    0% {\n",
              "      border-color: transparent;\n",
              "      border-bottom-color: var(--fill-color);\n",
              "      border-left-color: var(--fill-color);\n",
              "    }\n",
              "    20% {\n",
              "      border-color: transparent;\n",
              "      border-left-color: var(--fill-color);\n",
              "      border-top-color: var(--fill-color);\n",
              "    }\n",
              "    30% {\n",
              "      border-color: transparent;\n",
              "      border-left-color: var(--fill-color);\n",
              "      border-top-color: var(--fill-color);\n",
              "      border-right-color: var(--fill-color);\n",
              "    }\n",
              "    40% {\n",
              "      border-color: transparent;\n",
              "      border-right-color: var(--fill-color);\n",
              "      border-top-color: var(--fill-color);\n",
              "    }\n",
              "    60% {\n",
              "      border-color: transparent;\n",
              "      border-right-color: var(--fill-color);\n",
              "    }\n",
              "    80% {\n",
              "      border-color: transparent;\n",
              "      border-right-color: var(--fill-color);\n",
              "      border-bottom-color: var(--fill-color);\n",
              "    }\n",
              "    90% {\n",
              "      border-color: transparent;\n",
              "      border-bottom-color: var(--fill-color);\n",
              "    }\n",
              "  }\n",
              "</style>\n",
              "\n",
              "  <script>\n",
              "    async function quickchart(key) {\n",
              "      const quickchartButtonEl =\n",
              "        document.querySelector('#' + key + ' button');\n",
              "      quickchartButtonEl.disabled = true;  // To prevent multiple clicks.\n",
              "      quickchartButtonEl.classList.add('colab-df-spinner');\n",
              "      try {\n",
              "        const charts = await google.colab.kernel.invokeFunction(\n",
              "            'suggestCharts', [key], {});\n",
              "      } catch (error) {\n",
              "        console.error('Error during call to suggestCharts:', error);\n",
              "      }\n",
              "      quickchartButtonEl.classList.remove('colab-df-spinner');\n",
              "      quickchartButtonEl.classList.add('colab-df-quickchart-complete');\n",
              "    }\n",
              "    (() => {\n",
              "      let quickchartButtonEl =\n",
              "        document.querySelector('#df-0e386ef2-807b-48d9-b2ff-cb85d05621b7 button');\n",
              "      quickchartButtonEl.style.display =\n",
              "        google.colab.kernel.accessAllowed ? 'block' : 'none';\n",
              "    })();\n",
              "  </script>\n",
              "</div>\n",
              "    </div>\n",
              "  </div>\n"
            ]
          },
          "metadata": {},
          "execution_count": 295
        }
      ],
      "source": [
        "fraud_df = credit_data[credit_data.Class == 1]\n",
        "nonfraud_df = credit_data[credit_data.Class == 0]\n",
        "\n",
        "\n",
        "fraud_df.head()"
      ]
    },
    {
      "cell_type": "code",
      "execution_count": null,
      "id": "4f401891-45e3-4a65-9f91-7bda4211261c",
      "metadata": {
        "colab": {
          "base_uri": "https://localhost:8080/",
          "height": 482
        },
        "id": "4f401891-45e3-4a65-9f91-7bda4211261c",
        "outputId": "a5c82db4-f7a0-4e45-bffb-fba831fd732c"
      },
      "outputs": [
        {
          "output_type": "execute_result",
          "data": {
            "text/plain": [
              "Text(0.5, 0, 'Time')"
            ]
          },
          "metadata": {},
          "execution_count": 296
        },
        {
          "output_type": "display_data",
          "data": {
            "text/plain": [
              "<Figure size 500x500 with 1 Axes>"
            ],
            "image/png": "[encoded data removed]"
          },
          "metadata": {}
        }
      ],
      "source": [
        "plt.figure(figsize = (5,5))\n",
        "\n",
        "plt.subplot(1,1,1)\n",
        "plt.scatter(fraud_df.Time, fraud_df.Amount)\n",
        "# plt.scatter(nonfraud_df.Time, nonfraud_df.Amount)\n",
        "\n",
        "plt.ylabel('Fraud Amount')\n",
        "plt.xlabel('Time')"
      ]
    },
    {
      "cell_type": "markdown",
      "id": "4c7bbee7-019e-469f-bb39-04b73b1e0330",
      "metadata": {
        "id": "4c7bbee7-019e-469f-bb39-04b73b1e0330"
      },
      "source": [
        "<div style = 'color:red'>\n",
        "most of the fraud amount is near 0 and less than 200  and only few of them are above 1500$.\n"
      ]
    },
    {
      "cell_type": "code",
      "source": [
        "plt.figure(figsize = (5,5))\n",
        "\n",
        "plt.subplot(1,1,1)\n",
        "# plt.scatter(fraud_df.Time, fraud_df.Amount)\n",
        "plt.scatter(nonfraud_df.Time, nonfraud_df.Amount)\n",
        "\n",
        "plt.ylabel('NonFraud Amount')\n",
        "plt.xlabel('Time')"
      ],
      "metadata": {
        "colab": {
          "base_uri": "https://localhost:8080/",
          "height": 482
        },
        "id": "gZScH1CVU7_X",
        "outputId": "7b2eeaae-9c0a-42f0-bb15-75a44e9ec0f9"
      },
      "id": "gZScH1CVU7_X",
      "execution_count": null,
      "outputs": [
        {
          "output_type": "execute_result",
          "data": {
            "text/plain": [
              "Text(0.5, 0, 'Time')"
            ]
          },
          "metadata": {},
          "execution_count": 297
        },
        {
          "output_type": "display_data",
          "data": {
            "text/plain": [
              "<Figure size 500x500 with 1 Axes>"
            ],
            "image/png": "[encoded data removed]"
          },
          "metadata": {}
        }
      ]
    },
    {
      "cell_type": "code",
      "execution_count": null,
      "id": "f8c7a421-daa8-423e-bb4a-4ff81be8d2ea",
      "metadata": {
        "colab": {
          "base_uri": "https://localhost:8080/"
        },
        "id": "f8c7a421-daa8-423e-bb4a-4ff81be8d2ea",
        "outputId": "90926e46-7516-4275-b707-e88db733a737"
      },
      "outputs": [
        {
          "output_type": "stream",
          "name": "stdout",
          "text": [
            " There are 25  number of frauds with amount 0.00 $ out of 473 frauds.\n"
          ]
        }
      ],
      "source": [
        "print(f' There are {fraud_df[fraud_df.Amount == 0].shape[0]}  number of frauds with amount 0.00 $ out of {fraud_df.shape[0]} frauds.')"
      ]
    },
    {
      "cell_type": "code",
      "execution_count": null,
      "id": "2722b8a2-15da-4b23-991a-e716a405f8b1",
      "metadata": {
        "colab": {
          "base_uri": "https://localhost:8080/"
        },
        "id": "2722b8a2-15da-4b23-991a-e716a405f8b1",
        "outputId": "b6a9decc-788a-44e8-ffb4-082899f88044"
      },
      "outputs": [
        {
          "output_type": "stream",
          "name": "stdout",
          "text": [
            " There are only 9  number of frauds with amount greater than equal to 1000$, out of 473 frauds.\n"
          ]
        }
      ],
      "source": [
        "print(f' There are only {fraud_df[fraud_df.Amount >= 1000 ].shape[0]}  number of frauds with amount greater than equal to 1000$, out of {fraud_df.shape[0]} frauds.')"
      ]
    },
    {
      "cell_type": "code",
      "execution_count": null,
      "id": "d5ed403c-7ce8-4617-bcf1-56cfd2bf7f1b",
      "metadata": {
        "colab": {
          "base_uri": "https://localhost:8080/"
        },
        "id": "d5ed403c-7ce8-4617-bcf1-56cfd2bf7f1b",
        "outputId": "68c9049e-2550-49a9-d492-70d4bd342f76"
      },
      "outputs": [
        {
          "output_type": "stream",
          "name": "stdout",
          "text": [
            " Maximum fraud amount: 2125.87\n"
          ]
        }
      ],
      "source": [
        "print(f' Maximum fraud amount: {fraud_df.Amount.max()}')"
      ]
    },
    {
      "cell_type": "code",
      "execution_count": null,
      "id": "53d6e1e2-8013-4775-979a-04c9042be6a0",
      "metadata": {
        "colab": {
          "base_uri": "https://localhost:8080/",
          "height": 475
        },
        "id": "53d6e1e2-8013-4775-979a-04c9042be6a0",
        "outputId": "aa3af214-cd18-4f92-bddd-22e89ac9eb6f"
      },
      "outputs": [
        {
          "output_type": "execute_result",
          "data": {
            "text/plain": [
              "<Axes: >"
            ]
          },
          "metadata": {},
          "execution_count": 301
        },
        {
          "output_type": "display_data",
          "data": {
            "text/plain": [
              "<Figure size 640x480 with 2 Axes>"
            ],
            "image/png": "[encoded data removed]"
          },
          "metadata": {}
        }
      ],
      "source": [
        "sns.heatmap(credit_data.corr())"
      ]
    },
    {
      "cell_type": "markdown",
      "id": "0cc3f570-e8ad-43bc-a86b-c65326adc0f0",
      "metadata": {
        "id": "0cc3f570-e8ad-43bc-a86b-c65326adc0f0"
      },
      "source": [
        "no features are much corelated with each other. maybe they are but we cant see them cause of imbalanced dataset.\n",
        "\n"
      ]
    },
    {
      "cell_type": "markdown",
      "id": "31c0298b-83ac-47f0-a6f4-61d3d5c442e1",
      "metadata": {
        "id": "31c0298b-83ac-47f0-a6f4-61d3d5c442e1"
      },
      "source": [
        "# scaling and splitting"
      ]
    },
    {
      "cell_type": "markdown",
      "id": "c7776eda-365c-4658-9a83-09918f956fab",
      "metadata": {
        "id": "c7776eda-365c-4658-9a83-09918f956fab"
      },
      "source": [
        "#### scaling the remaining columns time and amount using robust scaler cause robust scalar handles outliers pretty well.\n"
      ]
    },
    {
      "cell_type": "markdown",
      "id": "7504db00-2690-48a6-8886-ba50df1b119b",
      "metadata": {
        "id": "7504db00-2690-48a6-8886-ba50df1b119b"
      },
      "source": [
        "<img src = 'https://media.geeksforgeeks.org/wp-content/uploads/20230428205714/for4.png'>"
      ]
    },
    {
      "cell_type": "code",
      "execution_count": null,
      "id": "8af95219-8de3-4c23-85ec-2f7bb2a9a320",
      "metadata": {
        "id": "8af95219-8de3-4c23-85ec-2f7bb2a9a320"
      },
      "outputs": [],
      "source": [
        "from sklearn.preprocessing import RobustScaler\n",
        "\n",
        "robust_scaler = RobustScaler()\n",
        "\n",
        "credit_data['scaled_amount'] = robust_scaler.fit_transform(credit_data.Amount.values.reshape(-1,1))\n",
        "credit_data['scaled_time'] = robust_scaler.fit_transform(credit_data.Time.values.reshape(-1,1))\n",
        "credit_data.drop(['Time','Amount'], axis = 1 , inplace = True)"
      ]
    },
    {
      "cell_type": "code",
      "execution_count": null,
      "id": "aade42e6-59af-4f5c-a166-96ca797684ca",
      "metadata": {
        "colab": {
          "base_uri": "https://localhost:8080/",
          "height": 273
        },
        "id": "aade42e6-59af-4f5c-a166-96ca797684ca",
        "outputId": "0818630b-0d66-4f53-deb0-26ecfc9d0ed5"
      },
      "outputs": [
        {
          "output_type": "stream",
          "name": "stdout",
          "text": [
            "Final Scaled data looks like:\n"
          ]
        },
        {
          "output_type": "execute_result",
          "data": {
            "text/plain": [
              "         V1        V2        V3        V4        V5        V6        V7  \\\n",
              "0 -1.359807 -0.072781  2.536347  1.378155 -0.338321  0.462388  0.239599   \n",
              "1  1.191857  0.266151  0.166480  0.448154  0.060018 -0.082361 -0.078803   \n",
              "2 -1.358354 -1.340163  1.773209  0.379780 -0.503198  1.800499  0.791461   \n",
              "3 -0.966272 -0.185226  1.792993 -0.863291 -0.010309  1.247203  0.237609   \n",
              "4 -1.158233  0.877737  1.548718  0.403034 -0.407193  0.095921  0.592941   \n",
              "\n",
              "         V8        V9       V10  ...       V22       V23       V24       V25  \\\n",
              "0  0.098698  0.363787  0.090794  ...  0.277838 -0.110474  0.066928  0.128539   \n",
              "1  0.085102 -0.255425 -0.166974  ... -0.638672  0.101288 -0.339846  0.167170   \n",
              "2  0.247676 -1.514654  0.207643  ...  0.771679  0.909412 -0.689281 -0.327642   \n",
              "3  0.377436 -1.387024 -0.054952  ...  0.005274 -0.190321 -1.175575  0.647376   \n",
              "4 -0.270533  0.817739  0.753074  ...  0.798278 -0.137458  0.141267 -0.206010   \n",
              "\n",
              "        V26       V27       V28  Class  scaled_amount  scaled_time  \n",
              "0 -0.189115  0.133558 -0.021053      0       1.774718    -0.995290  \n",
              "1  0.125895 -0.008983  0.014724      0      -0.268530    -0.995290  \n",
              "2 -0.139097 -0.055353 -0.059752      0       4.959811    -0.995279  \n",
              "3 -0.221929  0.062723  0.061458      0       1.411487    -0.995279  \n",
              "4  0.502292  0.219422  0.215153      0       0.667362    -0.995267  \n",
              "\n",
              "[5 rows x 31 columns]"
            ],
            "text/html": [
              "\n",
              "  <div id=\"df-df41ebde-3852-4cfc-b21d-274c985f22f7\" class=\"colab-df-container\">\n",
              "    <div>\n",
              "<style scoped>\n",
              "    .dataframe tbody tr th:only-of-type {\n",
              "        vertical-align: middle;\n",
              "    }\n",
              "\n",
              "    .dataframe tbody tr th {\n",
              "        vertical-align: top;\n",
              "    }\n",
              "\n",
              "    .dataframe thead th {\n",
              "        text-align: right;\n",
              "    }\n",
              "</style>\n",
              "<table border=\"1\" class=\"dataframe\">\n",
              "  <thead>\n",
              "    <tr style=\"text-align: right;\">\n",
              "      <th></th>\n",
              "      <th>V1</th>\n",
              "      <th>V2</th>\n",
              "      <th>V3</th>\n",
              "      <th>V4</th>\n",
              "      <th>V5</th>\n",
              "      <th>V6</th>\n",
              "      <th>V7</th>\n",
              "      <th>V8</th>\n",
              "      <th>V9</th>\n",
              "      <th>V10</th>\n",
              "      <th>...</th>\n",
              "      <th>V22</th>\n",
              "      <th>V23</th>\n",
              "      <th>V24</th>\n",
              "      <th>V25</th>\n",
              "      <th>V26</th>\n",
              "      <th>V27</th>\n",
              "      <th>V28</th>\n",
              "      <th>Class</th>\n",
              "      <th>scaled_amount</th>\n",
              "      <th>scaled_time</th>\n",
              "    </tr>\n",
              "  </thead>\n",
              "  <tbody>\n",
              "    <tr>\n",
              "      <th>0</th>\n",
              "      <td>-1.359807</td>\n",
              "      <td>-0.072781</td>\n",
              "      <td>2.536347</td>\n",
              "      <td>1.378155</td>\n",
              "      <td>-0.338321</td>\n",
              "      <td>0.462388</td>\n",
              "      <td>0.239599</td>\n",
              "      <td>0.098698</td>\n",
              "      <td>0.363787</td>\n",
              "      <td>0.090794</td>\n",
              "      <td>...</td>\n",
              "      <td>0.277838</td>\n",
              "      <td>-0.110474</td>\n",
              "      <td>0.066928</td>\n",
              "      <td>0.128539</td>\n",
              "      <td>-0.189115</td>\n",
              "      <td>0.133558</td>\n",
              "      <td>-0.021053</td>\n",
              "      <td>0</td>\n",
              "      <td>1.774718</td>\n",
              "      <td>-0.995290</td>\n",
              "    </tr>\n",
              "    <tr>\n",
              "      <th>1</th>\n",
              "      <td>1.191857</td>\n",
              "      <td>0.266151</td>\n",
              "      <td>0.166480</td>\n",
              "      <td>0.448154</td>\n",
              "      <td>0.060018</td>\n",
              "      <td>-0.082361</td>\n",
              "      <td>-0.078803</td>\n",
              "      <td>0.085102</td>\n",
              "      <td>-0.255425</td>\n",
              "      <td>-0.166974</td>\n",
              "      <td>...</td>\n",
              "      <td>-0.638672</td>\n",
              "      <td>0.101288</td>\n",
              "      <td>-0.339846</td>\n",
              "      <td>0.167170</td>\n",
              "      <td>0.125895</td>\n",
              "      <td>-0.008983</td>\n",
              "      <td>0.014724</td>\n",
              "      <td>0</td>\n",
              "      <td>-0.268530</td>\n",
              "      <td>-0.995290</td>\n",
              "    </tr>\n",
              "    <tr>\n",
              "      <th>2</th>\n",
              "      <td>-1.358354</td>\n",
              "      <td>-1.340163</td>\n",
              "      <td>1.773209</td>\n",
              "      <td>0.379780</td>\n",
              "      <td>-0.503198</td>\n",
              "      <td>1.800499</td>\n",
              "      <td>0.791461</td>\n",
              "      <td>0.247676</td>\n",
              "      <td>-1.514654</td>\n",
              "      <td>0.207643</td>\n",
              "      <td>...</td>\n",
              "      <td>0.771679</td>\n",
              "      <td>0.909412</td>\n",
              "      <td>-0.689281</td>\n",
              "      <td>-0.327642</td>\n",
              "      <td>-0.139097</td>\n",
              "      <td>-0.055353</td>\n",
              "      <td>-0.059752</td>\n",
              "      <td>0</td>\n",
              "      <td>4.959811</td>\n",
              "      <td>-0.995279</td>\n",
              "    </tr>\n",
              "    <tr>\n",
              "      <th>3</th>\n",
              "      <td>-0.966272</td>\n",
              "      <td>-0.185226</td>\n",
              "      <td>1.792993</td>\n",
              "      <td>-0.863291</td>\n",
              "      <td>-0.010309</td>\n",
              "      <td>1.247203</td>\n",
              "      <td>0.237609</td>\n",
              "      <td>0.377436</td>\n",
              "      <td>-1.387024</td>\n",
              "      <td>-0.054952</td>\n",
              "      <td>...</td>\n",
              "      <td>0.005274</td>\n",
              "      <td>-0.190321</td>\n",
              "      <td>-1.175575</td>\n",
              "      <td>0.647376</td>\n",
              "      <td>-0.221929</td>\n",
              "      <td>0.062723</td>\n",
              "      <td>0.061458</td>\n",
              "      <td>0</td>\n",
              "      <td>1.411487</td>\n",
              "      <td>-0.995279</td>\n",
              "    </tr>\n",
              "    <tr>\n",
              "      <th>4</th>\n",
              "      <td>-1.158233</td>\n",
              "      <td>0.877737</td>\n",
              "      <td>1.548718</td>\n",
              "      <td>0.403034</td>\n",
              "      <td>-0.407193</td>\n",
              "      <td>0.095921</td>\n",
              "      <td>0.592941</td>\n",
              "      <td>-0.270533</td>\n",
              "      <td>0.817739</td>\n",
              "      <td>0.753074</td>\n",
              "      <td>...</td>\n",
              "      <td>0.798278</td>\n",
              "      <td>-0.137458</td>\n",
              "      <td>0.141267</td>\n",
              "      <td>-0.206010</td>\n",
              "      <td>0.502292</td>\n",
              "      <td>0.219422</td>\n",
              "      <td>0.215153</td>\n",
              "      <td>0</td>\n",
              "      <td>0.667362</td>\n",
              "      <td>-0.995267</td>\n",
              "    </tr>\n",
              "  </tbody>\n",
              "</table>\n",
              "<p>5 rows × 31 columns</p>\n",
              "</div>\n",
              "    <div class=\"colab-df-buttons\">\n",
              "\n",
              "  <div class=\"colab-df-container\">\n",
              "    <button class=\"colab-df-convert\" onclick=\"convertToInteractive('df-df41ebde-3852-4cfc-b21d-274c985f22f7')\"\n",
              "            title=\"Convert this dataframe to an interactive table.\"\n",
              "            style=\"display:none;\">\n",
              "\n",
              "  <svg xmlns=\"http://www.w3.org/2000/svg\" height=\"24px\" viewBox=\"0 -960 960 960\">\n",
              "    <path d=\"M120-120v-720h720v720H120Zm60-500h600v-160H180v160Zm220 220h160v-160H400v160Zm0 220h160v-160H400v160ZM180-400h160v-160H180v160Zm440 0h160v-160H620v160ZM180-180h160v-160H180v160Zm440 0h160v-160H620v160Z\"/>\n",
              "  </svg>\n",
              "    </button>\n",
              "\n",
              "  <style>\n",
              "    .colab-df-container {\n",
              "      display:flex;\n",
              "      gap: 12px;\n",
              "    }\n",
              "\n",
              "    .colab-df-convert {\n",
              "      background-color: #E8F0FE;\n",
              "      border: none;\n",
              "      border-radius: 50%;\n",
              "      cursor: pointer;\n",
              "      display: none;\n",
              "      fill: #1967D2;\n",
              "      height: 32px;\n",
              "      padding: 0 0 0 0;\n",
              "      width: 32px;\n",
              "    }\n",
              "\n",
              "    .colab-df-convert:hover {\n",
              "      background-color: #E2EBFA;\n",
              "      box-shadow: 0px 1px 2px rgba(60, 64, 67, 0.3), 0px 1px 3px 1px rgba(60, 64, 67, 0.15);\n",
              "      fill: #174EA6;\n",
              "    }\n",
              "\n",
              "    .colab-df-buttons div {\n",
              "      margin-bottom: 4px;\n",
              "    }\n",
              "\n",
              "    [theme=dark] .colab-df-convert {\n",
              "      background-color: #3B4455;\n",
              "      fill: #D2E3FC;\n",
              "    }\n",
              "\n",
              "    [theme=dark] .colab-df-convert:hover {\n",
              "      background-color: #434B5C;\n",
              "      box-shadow: 0px 1px 3px 1px rgba(0, 0, 0, 0.15);\n",
              "      filter: drop-shadow(0px 1px 2px rgba(0, 0, 0, 0.3));\n",
              "      fill: #FFFFFF;\n",
              "    }\n",
              "  </style>\n",
              "\n",
              "    <script>\n",
              "      const buttonEl =\n",
              "        document.querySelector('#df-df41ebde-3852-4cfc-b21d-274c985f22f7 button.colab-df-convert');\n",
              "      buttonEl.style.display =\n",
              "        google.colab.kernel.accessAllowed ? 'block' : 'none';\n",
              "\n",
              "      async function convertToInteractive(key) {\n",
              "        const element = document.querySelector('#df-df41ebde-3852-4cfc-b21d-274c985f22f7');\n",
              "        const dataTable =\n",
              "          await google.colab.kernel.invokeFunction('convertToInteractive',\n",
              "                                                    [key], {});\n",
              "        if (!dataTable) return;\n",
              "\n",
              "        const docLinkHtml = 'Like what you see? Visit the ' +\n",
              "          '<a target=\"_blank\" href=https://colab.research.google.com/notebooks/data_table.ipynb>data table notebook</a>'\n",
              "          + ' to learn more about interactive tables.';\n",
              "        element.innerHTML = '';\n",
              "        dataTable['output_type'] = 'display_data';\n",
              "        await google.colab.output.renderOutput(dataTable, element);\n",
              "        const docLink = document.createElement('div');\n",
              "        docLink.innerHTML = docLinkHtml;\n",
              "        element.appendChild(docLink);\n",
              "      }\n",
              "    </script>\n",
              "  </div>\n",
              "\n",
              "\n",
              "<div id=\"df-f33f17a3-9ada-47ff-bd03-c247826023e3\">\n",
              "  <button class=\"colab-df-quickchart\" onclick=\"quickchart('df-f33f17a3-9ada-47ff-bd03-c247826023e3')\"\n",
              "            title=\"Suggest charts.\"\n",
              "            style=\"display:none;\">\n",
              "\n",
              "<svg xmlns=\"http://www.w3.org/2000/svg\" height=\"24px\"viewBox=\"0 0 24 24\"\n",
              "     width=\"24px\">\n",
              "    <g>\n",
              "        <path d=\"M19 3H5c-1.1 0-2 .9-2 2v14c0 1.1.9 2 2 2h14c1.1 0 2-.9 2-2V5c0-1.1-.9-2-2-2zM9 17H7v-7h2v7zm4 0h-2V7h2v10zm4 0h-2v-4h2v4z\"/>\n",
              "    </g>\n",
              "</svg>\n",
              "  </button>\n",
              "\n",
              "<style>\n",
              "  .colab-df-quickchart {\n",
              "      --bg-color: #E8F0FE;\n",
              "      --fill-color: #1967D2;\n",
              "      --hover-bg-color: #E2EBFA;\n",
              "      --hover-fill-color: #174EA6;\n",
              "      --disabled-fill-color: #AAA;\n",
              "      --disabled-bg-color: #DDD;\n",
              "  }\n",
              "\n",
              "  [theme=dark] .colab-df-quickchart {\n",
              "      --bg-color: #3B4455;\n",
              "      --fill-color: #D2E3FC;\n",
              "      --hover-bg-color: #434B5C;\n",
              "      --hover-fill-color: #FFFFFF;\n",
              "      --disabled-bg-color: #3B4455;\n",
              "      --disabled-fill-color: #666;\n",
              "  }\n",
              "\n",
              "  .colab-df-quickchart {\n",
              "    background-color: var(--bg-color);\n",
              "    border: none;\n",
              "    border-radius: 50%;\n",
              "    cursor: pointer;\n",
              "    display: none;\n",
              "    fill: var(--fill-color);\n",
              "    height: 32px;\n",
              "    padding: 0;\n",
              "    width: 32px;\n",
              "  }\n",
              "\n",
              "  .colab-df-quickchart:hover {\n",
              "    background-color: var(--hover-bg-color);\n",
              "    box-shadow: 0 1px 2px rgba(60, 64, 67, 0.3), 0 1px 3px 1px rgba(60, 64, 67, 0.15);\n",
              "    fill: var(--button-hover-fill-color);\n",
              "  }\n",
              "\n",
              "  .colab-df-quickchart-complete:disabled,\n",
              "  .colab-df-quickchart-complete:disabled:hover {\n",
              "    background-color: var(--disabled-bg-color);\n",
              "    fill: var(--disabled-fill-color);\n",
              "    box-shadow: none;\n",
              "  }\n",
              "\n",
              "  .colab-df-spinner {\n",
              "    border: 2px solid var(--fill-color);\n",
              "    border-color: transparent;\n",
              "    border-bottom-color: var(--fill-color);\n",
              "    animation:\n",
              "      spin 1s steps(1) infinite;\n",
              "  }\n",
              "\n",
              "  @keyframes spin {\n",
              "    0% {\n",
              "      border-color: transparent;\n",
              "      border-bottom-color: var(--fill-color);\n",
              "      border-left-color: var(--fill-color);\n",
              "    }\n",
              "    20% {\n",
              "      border-color: transparent;\n",
              "      border-left-color: var(--fill-color);\n",
              "      border-top-color: var(--fill-color);\n",
              "    }\n",
              "    30% {\n",
              "      border-color: transparent;\n",
              "      border-left-color: var(--fill-color);\n",
              "      border-top-color: var(--fill-color);\n",
              "      border-right-color: var(--fill-color);\n",
              "    }\n",
              "    40% {\n",
              "      border-color: transparent;\n",
              "      border-right-color: var(--fill-color);\n",
              "      border-top-color: var(--fill-color);\n",
              "    }\n",
              "    60% {\n",
              "      border-color: transparent;\n",
              "      border-right-color: var(--fill-color);\n",
              "    }\n",
              "    80% {\n",
              "      border-color: transparent;\n",
              "      border-right-color: var(--fill-color);\n",
              "      border-bottom-color: var(--fill-color);\n",
              "    }\n",
              "    90% {\n",
              "      border-color: transparent;\n",
              "      border-bottom-color: var(--fill-color);\n",
              "    }\n",
              "  }\n",
              "</style>\n",
              "\n",
              "  <script>\n",
              "    async function quickchart(key) {\n",
              "      const quickchartButtonEl =\n",
              "        document.querySelector('#' + key + ' button');\n",
              "      quickchartButtonEl.disabled = true;  // To prevent multiple clicks.\n",
              "      quickchartButtonEl.classList.add('colab-df-spinner');\n",
              "      try {\n",
              "        const charts = await google.colab.kernel.invokeFunction(\n",
              "            'suggestCharts', [key], {});\n",
              "      } catch (error) {\n",
              "        console.error('Error during call to suggestCharts:', error);\n",
              "      }\n",
              "      quickchartButtonEl.classList.remove('colab-df-spinner');\n",
              "      quickchartButtonEl.classList.add('colab-df-quickchart-complete');\n",
              "    }\n",
              "    (() => {\n",
              "      let quickchartButtonEl =\n",
              "        document.querySelector('#df-f33f17a3-9ada-47ff-bd03-c247826023e3 button');\n",
              "      quickchartButtonEl.style.display =\n",
              "        google.colab.kernel.accessAllowed ? 'block' : 'none';\n",
              "    })();\n",
              "  </script>\n",
              "</div>\n",
              "    </div>\n",
              "  </div>\n"
            ]
          },
          "metadata": {},
          "execution_count": 303
        }
      ],
      "source": [
        "print('Final Scaled data looks like:')\n",
        "credit_data.head()"
      ]
    },
    {
      "cell_type": "markdown",
      "id": "f9601d16-9303-4377-8de2-795d8dc01654",
      "metadata": {
        "id": "f9601d16-9303-4377-8de2-795d8dc01654"
      },
      "source": [
        "<p style=\"font-size: 18px; color: blue;\">\n",
        "We need to create a sub-sample of our actual dataframe i.e undersampling </p>\n",
        "\n",
        "**1) It would reduce the overfitting error where most of the data are being predicted as geniuene due to imbalanced dataset.** <br>\n",
        "\n",
        "**2) It would allow us to see the actual correlation between various features , which we are not able to see right now due to the imbalance in dataset.**\n",
        "\n"
      ]
    },
    {
      "cell_type": "code",
      "execution_count": null,
      "id": "f37c77c5-921d-4b14-81ee-ef15649aeee0",
      "metadata": {
        "id": "f37c77c5-921d-4b14-81ee-ef15649aeee0"
      },
      "outputs": [],
      "source": [
        "from sklearn.utils import shuffle\n",
        "credit_data = shuffle(credit_data)"
      ]
    },
    {
      "cell_type": "code",
      "execution_count": null,
      "id": "d56ca291-ff41-4e0e-9b05-5aef57a2691c",
      "metadata": {
        "id": "d56ca291-ff41-4e0e-9b05-5aef57a2691c"
      },
      "outputs": [],
      "source": [
        "fraud_df = credit_data[credit_data.Class == 1]\n",
        "geniuene_df = credit_data[credit_data.Class == 0]"
      ]
    },
    {
      "cell_type": "code",
      "execution_count": null,
      "id": "7591e4d0-b5ae-432e-8bf8-e8fd775dde0e",
      "metadata": {
        "colab": {
          "base_uri": "https://localhost:8080/"
        },
        "id": "7591e4d0-b5ae-432e-8bf8-e8fd775dde0e",
        "outputId": "547b3570-2298-4e62-92bb-ac76e41a4081"
      },
      "outputs": [
        {
          "output_type": "execute_result",
          "data": {
            "text/plain": [
              "(473, 31)"
            ]
          },
          "metadata": {},
          "execution_count": 306
        }
      ],
      "source": [
        "fraud_df.shape"
      ]
    },
    {
      "cell_type": "code",
      "execution_count": null,
      "id": "7aabf290-485b-4830-99b6-343d54c04a67",
      "metadata": {
        "id": "7aabf290-485b-4830-99b6-343d54c04a67"
      },
      "outputs": [],
      "source": [
        "geniuene_df = geniuene_df[0:fraud_df.shape[0]]"
      ]
    },
    {
      "cell_type": "code",
      "execution_count": null,
      "id": "cd59bd4c-3c41-4c87-ab83-1a76eaf15585",
      "metadata": {
        "colab": {
          "base_uri": "https://localhost:8080/"
        },
        "id": "cd59bd4c-3c41-4c87-ab83-1a76eaf15585",
        "outputId": "e43b3670-fed8-4599-fb38-fe7dabe733b7"
      },
      "outputs": [
        {
          "output_type": "execute_result",
          "data": {
            "text/plain": [
              "(473, 31)"
            ]
          },
          "metadata": {},
          "execution_count": 308
        }
      ],
      "source": [
        "geniuene_df.shape"
      ]
    },
    {
      "cell_type": "code",
      "execution_count": null,
      "id": "59e6e91d-470b-4c0f-9691-25f770527f88",
      "metadata": {
        "id": "59e6e91d-470b-4c0f-9691-25f770527f88"
      },
      "outputs": [],
      "source": [
        "new_df = pd.concat([fraud_df, geniuene_df])\n",
        "new_df = shuffle(new_df)"
      ]
    },
    {
      "cell_type": "code",
      "execution_count": null,
      "id": "242a01be-aa7b-41d4-83a8-50e6cd10c7f8",
      "metadata": {
        "colab": {
          "base_uri": "https://localhost:8080/"
        },
        "id": "242a01be-aa7b-41d4-83a8-50e6cd10c7f8",
        "outputId": "5871a175-4cd9-41c6-fa18-ebd713b0b509"
      },
      "outputs": [
        {
          "output_type": "execute_result",
          "data": {
            "text/plain": [
              "0"
            ]
          },
          "metadata": {},
          "execution_count": 310
        }
      ],
      "source": [
        "new_df.isna().sum().max()"
      ]
    },
    {
      "cell_type": "code",
      "execution_count": null,
      "id": "d9ed5324-dcfa-4950-8c38-37417a042b81",
      "metadata": {
        "colab": {
          "base_uri": "https://localhost:8080/"
        },
        "id": "d9ed5324-dcfa-4950-8c38-37417a042b81",
        "outputId": "acb037e5-c0b9-41e8-8332-1bc596ae22ab"
      },
      "outputs": [
        {
          "output_type": "execute_result",
          "data": {
            "text/plain": [
              "(946, 31)"
            ]
          },
          "metadata": {},
          "execution_count": 311
        }
      ],
      "source": [
        "new_df.shape\n"
      ]
    },
    {
      "cell_type": "code",
      "execution_count": null,
      "id": "8dea6a98-0111-4505-9ed5-66c9d55ac84a",
      "metadata": {
        "colab": {
          "base_uri": "https://localhost:8080/"
        },
        "id": "8dea6a98-0111-4505-9ed5-66c9d55ac84a",
        "outputId": "8dc5a2c0-59c2-428d-da0b-ea05996978d6"
      },
      "outputs": [
        {
          "output_type": "execute_result",
          "data": {
            "text/plain": [
              "0    473\n",
              "1    473\n",
              "Name: Class, dtype: int64"
            ]
          },
          "metadata": {},
          "execution_count": 312
        }
      ],
      "source": [
        "new_df.Class.value_counts()\n",
        "# equally distributed"
      ]
    },
    {
      "cell_type": "code",
      "execution_count": null,
      "id": "880bce8b-1a1d-4d76-bd97-0662189b0480",
      "metadata": {
        "colab": {
          "base_uri": "https://localhost:8080/",
          "height": 489
        },
        "id": "880bce8b-1a1d-4d76-bd97-0662189b0480",
        "outputId": "1d902bfd-cae8-4099-b02a-8315e3cd1e32"
      },
      "outputs": [
        {
          "output_type": "execute_result",
          "data": {
            "text/plain": [
              "Text(0.5, 1.0, 'Equally distributed new dataframe')"
            ]
          },
          "metadata": {},
          "execution_count": 313
        },
        {
          "output_type": "display_data",
          "data": {
            "text/plain": [
              "<Figure size 640x480 with 1 Axes>"
            ],
            "image/png": "[encoded data removed]"
          },
          "metadata": {}
        }
      ],
      "source": [
        "sns.countplot(data = new_df, x= 'Class')\n",
        "plt.title('Equally distributed new dataframe')"
      ]
    },
    {
      "cell_type": "markdown",
      "id": "632eb646-fed9-4146-9c89-38f4ee5c04f1",
      "metadata": {
        "id": "632eb646-fed9-4146-9c89-38f4ee5c04f1"
      },
      "source": [
        " lets work with this new df"
      ]
    },
    {
      "cell_type": "code",
      "execution_count": null,
      "id": "f955058c-3225-45fc-92b4-392b72db52d9",
      "metadata": {
        "colab": {
          "base_uri": "https://localhost:8080/",
          "height": 521
        },
        "id": "f955058c-3225-45fc-92b4-392b72db52d9",
        "outputId": "4087e31f-580f-4de8-fffa-19b8cb41cca5"
      },
      "outputs": [
        {
          "output_type": "stream",
          "name": "stdout",
          "text": [
            "After undersampling and scaling\n"
          ]
        },
        {
          "output_type": "display_data",
          "data": {
            "text/plain": [
              "<Figure size 640x480 with 2 Axes>"
            ],
            "image/png": "[encoded data removed]"
          },
          "metadata": {}
        }
      ],
      "source": [
        "sns.heatmap(new_df.corr())\n",
        "print(\"After undersampling and scaling\")"
      ]
    },
    {
      "cell_type": "code",
      "execution_count": null,
      "id": "22f84ffa-8d22-49f3-9628-ad3cf259b0dd",
      "metadata": {
        "colab": {
          "base_uri": "https://localhost:8080/",
          "height": 452
        },
        "id": "22f84ffa-8d22-49f3-9628-ad3cf259b0dd",
        "outputId": "16412f4f-2c9d-4bc2-c791-9b930bfe2a2d"
      },
      "outputs": [
        {
          "output_type": "execute_result",
          "data": {
            "text/plain": [
              "<Axes: >"
            ]
          },
          "metadata": {},
          "execution_count": 315
        },
        {
          "output_type": "display_data",
          "data": {
            "text/plain": [
              "<Figure size 640x480 with 2 Axes>"
            ],
            "image/png": "[encoded data removed]"
          },
          "metadata": {}
        }
      ],
      "source": [
        "sns.heatmap(new_df.corr()[['Class']])"
      ]
    },
    {
      "cell_type": "code",
      "execution_count": null,
      "id": "d325bd6f-57b9-4eb6-8edf-9d27abe6dd8e",
      "metadata": {
        "colab": {
          "base_uri": "https://localhost:8080/"
        },
        "id": "d325bd6f-57b9-4eb6-8edf-9d27abe6dd8e",
        "outputId": "229237b8-fac8-4bcf-b78a-b258f76dd877"
      },
      "outputs": [
        {
          "output_type": "execute_result",
          "data": {
            "text/plain": [
              "Class            1.000000\n",
              "V4               0.706228\n",
              "V11              0.681638\n",
              "V2               0.465487\n",
              "V19              0.258854\n",
              "V20              0.218671\n",
              "scaled_amount    0.121391\n",
              "V27              0.121009\n",
              "V21              0.116428\n",
              "V8               0.107446\n",
              "V28              0.087790\n",
              "V26              0.043751\n",
              "V22              0.027330\n",
              "V25              0.014124\n",
              "V13             -0.026719\n",
              "V15             -0.028423\n",
              "V23             -0.055409\n",
              "scaled_time     -0.123344\n",
              "V24             -0.134868\n",
              "V5              -0.361501\n",
              "V1              -0.406522\n",
              "V6              -0.432162\n",
              "V18             -0.444674\n",
              "V7              -0.463553\n",
              "V17             -0.551211\n",
              "V9              -0.552040\n",
              "V3              -0.554235\n",
              "V16             -0.582524\n",
              "V10             -0.626384\n",
              "V12             -0.680719\n",
              "V14             -0.746199\n",
              "Name: Class, dtype: float64"
            ]
          },
          "metadata": {},
          "execution_count": 316
        }
      ],
      "source": [
        "correlation_with_class = new_df.corr()['Class']\n",
        "sorted_correlation = correlation_with_class.sort_values(ascending = False)\n",
        "\n",
        "sorted_correlation"
      ]
    },
    {
      "cell_type": "markdown",
      "id": "4edb0633-7df6-473a-8c7f-7a4674e8a930",
      "metadata": {
        "id": "4edb0633-7df6-473a-8c7f-7a4674e8a930"
      },
      "source": [
        "<div style = \"color:red;\">\n",
        "V4, V11, V2, V19 having positive correlation with class.\n",
        "V16, V10, V12, V14 having negative correlation with class."
      ]
    },
    {
      "cell_type": "code",
      "execution_count": null,
      "id": "4e52e52f-9742-4b30-b5ae-18a8cb3ee2df",
      "metadata": {
        "id": "4e52e52f-9742-4b30-b5ae-18a8cb3ee2df"
      },
      "outputs": [],
      "source": [
        "# train test split\n",
        "X = new_df.drop('Class', axis = 1)\n",
        "y = new_df['Class']"
      ]
    },
    {
      "cell_type": "code",
      "execution_count": null,
      "id": "79593c58-3e32-4009-8794-00f25ea1cf84",
      "metadata": {
        "id": "79593c58-3e32-4009-8794-00f25ea1cf84"
      },
      "outputs": [],
      "source": [
        "from sklearn.model_selection import train_test_split\n",
        "\n",
        "X_train, X_test, y_train, y_test = train_test_split(X, y, test_size=0.2, random_state=42)"
      ]
    },
    {
      "cell_type": "code",
      "execution_count": null,
      "id": "1bc3722e-173e-40aa-a7ec-d881a18c41c5",
      "metadata": {
        "colab": {
          "base_uri": "https://localhost:8080/",
          "height": 256
        },
        "id": "1bc3722e-173e-40aa-a7ec-d881a18c41c5",
        "outputId": "10586d22-75b4-48f6-8fc6-02357acfd2d0"
      },
      "outputs": [
        {
          "output_type": "execute_result",
          "data": {
            "text/plain": [
              "              V1        V2        V3        V4        V5        V6        V7  \\\n",
              "120505 -4.793667  3.418911 -5.074445  4.035987 -3.527875 -1.923242 -5.065981   \n",
              "268375 -5.238808  0.623013 -5.784507  1.678889 -0.364432 -0.477295 -4.276132   \n",
              "92777  -6.133987  2.941499 -5.593986  3.258845 -5.315512 -0.637328 -4.476488   \n",
              "10497   1.189784  0.942289  0.082334  3.024050  0.412406 -0.214415  0.053558   \n",
              "623    -3.043541 -3.157307  1.088463  2.288644  1.359805 -1.064823  0.325574   \n",
              "\n",
              "              V8        V9       V10  ...       V21       V22       V23  \\\n",
              "120505  1.996885 -3.097379 -6.447202  ...  1.168618  0.289531 -0.371888   \n",
              "268375 -0.695173 -2.971644 -5.529131  ... -0.326140  1.509239 -0.215966   \n",
              "92777   1.695994 -1.606743 -5.117259  ...  0.868340  0.793736  0.217347   \n",
              "10497  -0.110353  0.883798 -0.554224  ... -0.502636 -1.047398 -0.056752   \n",
              "623    -0.067794 -0.270953 -0.838587  ...  0.661696  0.435477  1.375966   \n",
              "\n",
              "             V24       V25       V26       V27       V28  scaled_amount  \\\n",
              "120505  0.144761  0.084735 -0.197431  0.328672  0.835395       1.082603   \n",
              "268375 -0.245727  0.893041  0.865758  0.854657 -0.964482       0.250035   \n",
              "92777  -0.021985  0.145882  0.665088 -1.684186  0.310195       3.795022   \n",
              "10497  -0.340688  0.541235 -0.098300 -0.003041  0.049819      -0.253233   \n",
              "623    -0.293803  0.279798 -0.145362 -0.252773  0.035764       7.050480   \n",
              "\n",
              "        scaled_time  \n",
              "120505    -0.103904  \n",
              "268375     0.922382  \n",
              "92777     -0.242081  \n",
              "10497     -0.792924  \n",
              "623       -0.989744  \n",
              "\n",
              "[5 rows x 30 columns]"
            ],
            "text/html": [
              "\n",
              "  <div id=\"df-733f7836-2329-4524-be6c-8d3b757b3e8f\" class=\"colab-df-container\">\n",
              "    <div>\n",
              "<style scoped>\n",
              "    .dataframe tbody tr th:only-of-type {\n",
              "        vertical-align: middle;\n",
              "    }\n",
              "\n",
              "    .dataframe tbody tr th {\n",
              "        vertical-align: top;\n",
              "    }\n",
              "\n",
              "    .dataframe thead th {\n",
              "        text-align: right;\n",
              "    }\n",
              "</style>\n",
              "<table border=\"1\" class=\"dataframe\">\n",
              "  <thead>\n",
              "    <tr style=\"text-align: right;\">\n",
              "      <th></th>\n",
              "      <th>V1</th>\n",
              "      <th>V2</th>\n",
              "      <th>V3</th>\n",
              "      <th>V4</th>\n",
              "      <th>V5</th>\n",
              "      <th>V6</th>\n",
              "      <th>V7</th>\n",
              "      <th>V8</th>\n",
              "      <th>V9</th>\n",
              "      <th>V10</th>\n",
              "      <th>...</th>\n",
              "      <th>V21</th>\n",
              "      <th>V22</th>\n",
              "      <th>V23</th>\n",
              "      <th>V24</th>\n",
              "      <th>V25</th>\n",
              "      <th>V26</th>\n",
              "      <th>V27</th>\n",
              "      <th>V28</th>\n",
              "      <th>scaled_amount</th>\n",
              "      <th>scaled_time</th>\n",
              "    </tr>\n",
              "  </thead>\n",
              "  <tbody>\n",
              "    <tr>\n",
              "      <th>120505</th>\n",
              "      <td>-4.793667</td>\n",
              "      <td>3.418911</td>\n",
              "      <td>-5.074445</td>\n",
              "      <td>4.035987</td>\n",
              "      <td>-3.527875</td>\n",
              "      <td>-1.923242</td>\n",
              "      <td>-5.065981</td>\n",
              "      <td>1.996885</td>\n",
              "      <td>-3.097379</td>\n",
              "      <td>-6.447202</td>\n",
              "      <td>...</td>\n",
              "      <td>1.168618</td>\n",
              "      <td>0.289531</td>\n",
              "      <td>-0.371888</td>\n",
              "      <td>0.144761</td>\n",
              "      <td>0.084735</td>\n",
              "      <td>-0.197431</td>\n",
              "      <td>0.328672</td>\n",
              "      <td>0.835395</td>\n",
              "      <td>1.082603</td>\n",
              "      <td>-0.103904</td>\n",
              "    </tr>\n",
              "    <tr>\n",
              "      <th>268375</th>\n",
              "      <td>-5.238808</td>\n",
              "      <td>0.623013</td>\n",
              "      <td>-5.784507</td>\n",
              "      <td>1.678889</td>\n",
              "      <td>-0.364432</td>\n",
              "      <td>-0.477295</td>\n",
              "      <td>-4.276132</td>\n",
              "      <td>-0.695173</td>\n",
              "      <td>-2.971644</td>\n",
              "      <td>-5.529131</td>\n",
              "      <td>...</td>\n",
              "      <td>-0.326140</td>\n",
              "      <td>1.509239</td>\n",
              "      <td>-0.215966</td>\n",
              "      <td>-0.245727</td>\n",
              "      <td>0.893041</td>\n",
              "      <td>0.865758</td>\n",
              "      <td>0.854657</td>\n",
              "      <td>-0.964482</td>\n",
              "      <td>0.250035</td>\n",
              "      <td>0.922382</td>\n",
              "    </tr>\n",
              "    <tr>\n",
              "      <th>92777</th>\n",
              "      <td>-6.133987</td>\n",
              "      <td>2.941499</td>\n",
              "      <td>-5.593986</td>\n",
              "      <td>3.258845</td>\n",
              "      <td>-5.315512</td>\n",
              "      <td>-0.637328</td>\n",
              "      <td>-4.476488</td>\n",
              "      <td>1.695994</td>\n",
              "      <td>-1.606743</td>\n",
              "      <td>-5.117259</td>\n",
              "      <td>...</td>\n",
              "      <td>0.868340</td>\n",
              "      <td>0.793736</td>\n",
              "      <td>0.217347</td>\n",
              "      <td>-0.021985</td>\n",
              "      <td>0.145882</td>\n",
              "      <td>0.665088</td>\n",
              "      <td>-1.684186</td>\n",
              "      <td>0.310195</td>\n",
              "      <td>3.795022</td>\n",
              "      <td>-0.242081</td>\n",
              "    </tr>\n",
              "    <tr>\n",
              "      <th>10497</th>\n",
              "      <td>1.189784</td>\n",
              "      <td>0.942289</td>\n",
              "      <td>0.082334</td>\n",
              "      <td>3.024050</td>\n",
              "      <td>0.412406</td>\n",
              "      <td>-0.214415</td>\n",
              "      <td>0.053558</td>\n",
              "      <td>-0.110353</td>\n",
              "      <td>0.883798</td>\n",
              "      <td>-0.554224</td>\n",
              "      <td>...</td>\n",
              "      <td>-0.502636</td>\n",
              "      <td>-1.047398</td>\n",
              "      <td>-0.056752</td>\n",
              "      <td>-0.340688</td>\n",
              "      <td>0.541235</td>\n",
              "      <td>-0.098300</td>\n",
              "      <td>-0.003041</td>\n",
              "      <td>0.049819</td>\n",
              "      <td>-0.253233</td>\n",
              "      <td>-0.792924</td>\n",
              "    </tr>\n",
              "    <tr>\n",
              "      <th>623</th>\n",
              "      <td>-3.043541</td>\n",
              "      <td>-3.157307</td>\n",
              "      <td>1.088463</td>\n",
              "      <td>2.288644</td>\n",
              "      <td>1.359805</td>\n",
              "      <td>-1.064823</td>\n",
              "      <td>0.325574</td>\n",
              "      <td>-0.067794</td>\n",
              "      <td>-0.270953</td>\n",
              "      <td>-0.838587</td>\n",
              "      <td>...</td>\n",
              "      <td>0.661696</td>\n",
              "      <td>0.435477</td>\n",
              "      <td>1.375966</td>\n",
              "      <td>-0.293803</td>\n",
              "      <td>0.279798</td>\n",
              "      <td>-0.145362</td>\n",
              "      <td>-0.252773</td>\n",
              "      <td>0.035764</td>\n",
              "      <td>7.050480</td>\n",
              "      <td>-0.989744</td>\n",
              "    </tr>\n",
              "  </tbody>\n",
              "</table>\n",
              "<p>5 rows × 30 columns</p>\n",
              "</div>\n",
              "    <div class=\"colab-df-buttons\">\n",
              "\n",
              "  <div class=\"colab-df-container\">\n",
              "    <button class=\"colab-df-convert\" onclick=\"convertToInteractive('df-733f7836-2329-4524-be6c-8d3b757b3e8f')\"\n",
              "            title=\"Convert this dataframe to an interactive table.\"\n",
              "            style=\"display:none;\">\n",
              "\n",
              "  <svg xmlns=\"http://www.w3.org/2000/svg\" height=\"24px\" viewBox=\"0 -960 960 960\">\n",
              "    <path d=\"M120-120v-720h720v720H120Zm60-500h600v-160H180v160Zm220 220h160v-160H400v160Zm0 220h160v-160H400v160ZM180-400h160v-160H180v160Zm440 0h160v-160H620v160ZM180-180h160v-160H180v160Zm440 0h160v-160H620v160Z\"/>\n",
              "  </svg>\n",
              "    </button>\n",
              "\n",
              "  <style>\n",
              "    .colab-df-container {\n",
              "      display:flex;\n",
              "      gap: 12px;\n",
              "    }\n",
              "\n",
              "    .colab-df-convert {\n",
              "      background-color: #E8F0FE;\n",
              "      border: none;\n",
              "      border-radius: 50%;\n",
              "      cursor: pointer;\n",
              "      display: none;\n",
              "      fill: #1967D2;\n",
              "      height: 32px;\n",
              "      padding: 0 0 0 0;\n",
              "      width: 32px;\n",
              "    }\n",
              "\n",
              "    .colab-df-convert:hover {\n",
              "      background-color: #E2EBFA;\n",
              "      box-shadow: 0px 1px 2px rgba(60, 64, 67, 0.3), 0px 1px 3px 1px rgba(60, 64, 67, 0.15);\n",
              "      fill: #174EA6;\n",
              "    }\n",
              "\n",
              "    .colab-df-buttons div {\n",
              "      margin-bottom: 4px;\n",
              "    }\n",
              "\n",
              "    [theme=dark] .colab-df-convert {\n",
              "      background-color: #3B4455;\n",
              "      fill: #D2E3FC;\n",
              "    }\n",
              "\n",
              "    [theme=dark] .colab-df-convert:hover {\n",
              "      background-color: #434B5C;\n",
              "      box-shadow: 0px 1px 3px 1px rgba(0, 0, 0, 0.15);\n",
              "      filter: drop-shadow(0px 1px 2px rgba(0, 0, 0, 0.3));\n",
              "      fill: #FFFFFF;\n",
              "    }\n",
              "  </style>\n",
              "\n",
              "    <script>\n",
              "      const buttonEl =\n",
              "        document.querySelector('#df-733f7836-2329-4524-be6c-8d3b757b3e8f button.colab-df-convert');\n",
              "      buttonEl.style.display =\n",
              "        google.colab.kernel.accessAllowed ? 'block' : 'none';\n",
              "\n",
              "      async function convertToInteractive(key) {\n",
              "        const element = document.querySelector('#df-733f7836-2329-4524-be6c-8d3b757b3e8f');\n",
              "        const dataTable =\n",
              "          await google.colab.kernel.invokeFunction('convertToInteractive',\n",
              "                                                    [key], {});\n",
              "        if (!dataTable) return;\n",
              "\n",
              "        const docLinkHtml = 'Like what you see? Visit the ' +\n",
              "          '<a target=\"_blank\" href=https://colab.research.google.com/notebooks/data_table.ipynb>data table notebook</a>'\n",
              "          + ' to learn more about interactive tables.';\n",
              "        element.innerHTML = '';\n",
              "        dataTable['output_type'] = 'display_data';\n",
              "        await google.colab.output.renderOutput(dataTable, element);\n",
              "        const docLink = document.createElement('div');\n",
              "        docLink.innerHTML = docLinkHtml;\n",
              "        element.appendChild(docLink);\n",
              "      }\n",
              "    </script>\n",
              "  </div>\n",
              "\n",
              "\n",
              "<div id=\"df-db052514-f589-4cd1-8539-e1d90e3eb257\">\n",
              "  <button class=\"colab-df-quickchart\" onclick=\"quickchart('df-db052514-f589-4cd1-8539-e1d90e3eb257')\"\n",
              "            title=\"Suggest charts.\"\n",
              "            style=\"display:none;\">\n",
              "\n",
              "<svg xmlns=\"http://www.w3.org/2000/svg\" height=\"24px\"viewBox=\"0 0 24 24\"\n",
              "     width=\"24px\">\n",
              "    <g>\n",
              "        <path d=\"M19 3H5c-1.1 0-2 .9-2 2v14c0 1.1.9 2 2 2h14c1.1 0 2-.9 2-2V5c0-1.1-.9-2-2-2zM9 17H7v-7h2v7zm4 0h-2V7h2v10zm4 0h-2v-4h2v4z\"/>\n",
              "    </g>\n",
              "</svg>\n",
              "  </button>\n",
              "\n",
              "<style>\n",
              "  .colab-df-quickchart {\n",
              "      --bg-color: #E8F0FE;\n",
              "      --fill-color: #1967D2;\n",
              "      --hover-bg-color: #E2EBFA;\n",
              "      --hover-fill-color: #174EA6;\n",
              "      --disabled-fill-color: #AAA;\n",
              "      --disabled-bg-color: #DDD;\n",
              "  }\n",
              "\n",
              "  [theme=dark] .colab-df-quickchart {\n",
              "      --bg-color: #3B4455;\n",
              "      --fill-color: #D2E3FC;\n",
              "      --hover-bg-color: #434B5C;\n",
              "      --hover-fill-color: #FFFFFF;\n",
              "      --disabled-bg-color: #3B4455;\n",
              "      --disabled-fill-color: #666;\n",
              "  }\n",
              "\n",
              "  .colab-df-quickchart {\n",
              "    background-color: var(--bg-color);\n",
              "    border: none;\n",
              "    border-radius: 50%;\n",
              "    cursor: pointer;\n",
              "    display: none;\n",
              "    fill: var(--fill-color);\n",
              "    height: 32px;\n",
              "    padding: 0;\n",
              "    width: 32px;\n",
              "  }\n",
              "\n",
              "  .colab-df-quickchart:hover {\n",
              "    background-color: var(--hover-bg-color);\n",
              "    box-shadow: 0 1px 2px rgba(60, 64, 67, 0.3), 0 1px 3px 1px rgba(60, 64, 67, 0.15);\n",
              "    fill: var(--button-hover-fill-color);\n",
              "  }\n",
              "\n",
              "  .colab-df-quickchart-complete:disabled,\n",
              "  .colab-df-quickchart-complete:disabled:hover {\n",
              "    background-color: var(--disabled-bg-color);\n",
              "    fill: var(--disabled-fill-color);\n",
              "    box-shadow: none;\n",
              "  }\n",
              "\n",
              "  .colab-df-spinner {\n",
              "    border: 2px solid var(--fill-color);\n",
              "    border-color: transparent;\n",
              "    border-bottom-color: var(--fill-color);\n",
              "    animation:\n",
              "      spin 1s steps(1) infinite;\n",
              "  }\n",
              "\n",
              "  @keyframes spin {\n",
              "    0% {\n",
              "      border-color: transparent;\n",
              "      border-bottom-color: var(--fill-color);\n",
              "      border-left-color: var(--fill-color);\n",
              "    }\n",
              "    20% {\n",
              "      border-color: transparent;\n",
              "      border-left-color: var(--fill-color);\n",
              "      border-top-color: var(--fill-color);\n",
              "    }\n",
              "    30% {\n",
              "      border-color: transparent;\n",
              "      border-left-color: var(--fill-color);\n",
              "      border-top-color: var(--fill-color);\n",
              "      border-right-color: var(--fill-color);\n",
              "    }\n",
              "    40% {\n",
              "      border-color: transparent;\n",
              "      border-right-color: var(--fill-color);\n",
              "      border-top-color: var(--fill-color);\n",
              "    }\n",
              "    60% {\n",
              "      border-color: transparent;\n",
              "      border-right-color: var(--fill-color);\n",
              "    }\n",
              "    80% {\n",
              "      border-color: transparent;\n",
              "      border-right-color: var(--fill-color);\n",
              "      border-bottom-color: var(--fill-color);\n",
              "    }\n",
              "    90% {\n",
              "      border-color: transparent;\n",
              "      border-bottom-color: var(--fill-color);\n",
              "    }\n",
              "  }\n",
              "</style>\n",
              "\n",
              "  <script>\n",
              "    async function quickchart(key) {\n",
              "      const quickchartButtonEl =\n",
              "        document.querySelector('#' + key + ' button');\n",
              "      quickchartButtonEl.disabled = true;  // To prevent multiple clicks.\n",
              "      quickchartButtonEl.classList.add('colab-df-spinner');\n",
              "      try {\n",
              "        const charts = await google.colab.kernel.invokeFunction(\n",
              "            'suggestCharts', [key], {});\n",
              "      } catch (error) {\n",
              "        console.error('Error during call to suggestCharts:', error);\n",
              "      }\n",
              "      quickchartButtonEl.classList.remove('colab-df-spinner');\n",
              "      quickchartButtonEl.classList.add('colab-df-quickchart-complete');\n",
              "    }\n",
              "    (() => {\n",
              "      let quickchartButtonEl =\n",
              "        document.querySelector('#df-db052514-f589-4cd1-8539-e1d90e3eb257 button');\n",
              "      quickchartButtonEl.style.display =\n",
              "        google.colab.kernel.accessAllowed ? 'block' : 'none';\n",
              "    })();\n",
              "  </script>\n",
              "</div>\n",
              "    </div>\n",
              "  </div>\n"
            ]
          },
          "metadata": {},
          "execution_count": 319
        }
      ],
      "source": [
        "X_train.head()"
      ]
    },
    {
      "cell_type": "code",
      "execution_count": null,
      "id": "d2fd7647-e183-4751-8902-6dac24d87b3c",
      "metadata": {
        "colab": {
          "base_uri": "https://localhost:8080/"
        },
        "id": "d2fd7647-e183-4751-8902-6dac24d87b3c",
        "outputId": "f244782b-d323-4b6c-8249-234cf9e88195"
      },
      "outputs": [
        {
          "output_type": "execute_result",
          "data": {
            "text/plain": [
              "(756, 30)"
            ]
          },
          "metadata": {},
          "execution_count": 320
        }
      ],
      "source": [
        "X_train.shape"
      ]
    },
    {
      "cell_type": "code",
      "execution_count": null,
      "id": "c2191dd4-d8c2-488c-94c5-a0228799096b",
      "metadata": {
        "colab": {
          "base_uri": "https://localhost:8080/"
        },
        "id": "c2191dd4-d8c2-488c-94c5-a0228799096b",
        "outputId": "4d8a84a5-90f1-4609-e516-dfa7bed61b5e"
      },
      "outputs": [
        {
          "output_type": "execute_result",
          "data": {
            "text/plain": [
              "(190, 30)"
            ]
          },
          "metadata": {},
          "execution_count": 321
        }
      ],
      "source": [
        "X_test.shape"
      ]
    },
    {
      "cell_type": "markdown",
      "source": [
        "Now that we have successfully re-sampled the data, we can apply supervised learning algotithms. We will be applying binary classifier algorithms. The perfomance metrics of the algorithms used will be printed alongside"
      ],
      "metadata": {
        "id": "794WteS8jrYy"
      },
      "id": "794WteS8jrYy"
    },
    {
      "cell_type": "markdown",
      "id": "8432f65b-8d24-4784-ab33-2ff8ef39711d",
      "metadata": {
        "id": "8432f65b-8d24-4784-ab33-2ff8ef39711d"
      },
      "source": [
        "### Supervised - Classifiers"
      ]
    },
    {
      "cell_type": "code",
      "execution_count": null,
      "id": "40f62613-6690-432f-bd42-ee05cae58047",
      "metadata": {
        "id": "40f62613-6690-432f-bd42-ee05cae58047"
      },
      "outputs": [],
      "source": [
        "from sklearn.linear_model import LogisticRegression\n",
        "from sklearn.svm import SVC\n",
        "from sklearn.ensemble import RandomForestClassifier\n",
        "\n",
        "from sklearn.model_selection import cross_val_score"
      ]
    },
    {
      "cell_type": "code",
      "execution_count": null,
      "id": "dc3bcbcc-eb35-4305-850c-a981ebcecc4e",
      "metadata": {
        "id": "dc3bcbcc-eb35-4305-850c-a981ebcecc4e"
      },
      "outputs": [],
      "source": [
        "from sklearn.metrics import accuracy_score,classification_report,confusion_matrix\n",
        "from sklearn.model_selection import train_test_split,cross_val_predict"
      ]
    },
    {
      "cell_type": "markdown",
      "id": "e599be45-57b8-462d-8ada-96ef8501631c",
      "metadata": {
        "id": "e599be45-57b8-462d-8ada-96ef8501631c"
      },
      "source": [
        "Random Forest"
      ]
    },
    {
      "cell_type": "code",
      "execution_count": null,
      "id": "0ca2915e-1a7a-46e0-8826-4e629af500be",
      "metadata": {
        "colab": {
          "base_uri": "https://localhost:8080/"
        },
        "id": "0ca2915e-1a7a-46e0-8826-4e629af500be",
        "outputId": "7ab6139c-7a61-4284-bd88-44ec9c2c925e"
      },
      "outputs": [
        {
          "output_type": "stream",
          "name": "stdout",
          "text": [
            "Training Accuracy    : 91.14 %\n",
            "Model Accuracy Score : 94.21 %\n",
            "\u001b[1m--------------------------------------------------------\u001b[0m\n",
            "Classification_Report: \n",
            "               precision    recall  f1-score   support\n",
            "\n",
            "           0       0.91      1.00      0.95       110\n",
            "           1       1.00      0.86      0.93        80\n",
            "\n",
            "    accuracy                           0.94       190\n",
            "   macro avg       0.95      0.93      0.94       190\n",
            "weighted avg       0.95      0.94      0.94       190\n",
            "\n",
            "\u001b[1m--------------------------------------------------------\u001b[0m\n"
          ]
        }
      ],
      "source": [
        "random_forest = RandomForestClassifier(n_estimators=100, max_depth = 1)\n",
        "random_forest.fit(X_train, y_train)\n",
        "\n",
        "y_pred_rf = random_forest.predict(X_test)\n",
        "random_forest.score(X_train, y_train)\n",
        "\n",
        "random_forest_train = round(random_forest.score(X_train, y_train) * 100, 2)\n",
        "random_forest_accuracy = round(accuracy_score(y_pred_rf, y_test) * 100, 2)\n",
        "\n",
        "print(\"Training Accuracy    :\",random_forest_train ,\"%\")\n",
        "print(\"Model Accuracy Score :\",random_forest_accuracy ,\"%\")\n",
        "print(\"\\033[1m--------------------------------------------------------\\033[0m\")\n",
        "print(\"Classification_Report: \\n\",classification_report(y_test,y_pred_rf))\n",
        "print(\"\\033[1m--------------------------------------------------------\\033[0m\")"
      ]
    },
    {
      "cell_type": "code",
      "execution_count": null,
      "id": "83e1cc87-3272-468c-95f6-aa2eb3e6120d",
      "metadata": {
        "colab": {
          "base_uri": "https://localhost:8080/"
        },
        "id": "83e1cc87-3272-468c-95f6-aa2eb3e6120d",
        "outputId": "b65ce0d3-be04-419f-da53-06ad99bf6735"
      },
      "outputs": [
        {
          "output_type": "stream",
          "name": "stdout",
          "text": [
            "Cross-Validation Scores: [0.92105263 0.90728477 0.9205298  0.90728477 0.90728477]\n",
            "Average Accuracy: 0.9126873475078424\n"
          ]
        }
      ],
      "source": [
        "from sklearn.model_selection import cross_val_score\n",
        "cv_scores = cross_val_score(random_forest, X_train, y_train, cv=5, scoring='accuracy')\n",
        "print(\"Cross-Validation Scores:\", cv_scores)\n",
        "print(\"Average Accuracy:\", cv_scores.mean())"
      ]
    },
    {
      "cell_type": "markdown",
      "id": "ffaf68fb-317a-4d98-afa1-6d869e4d634f",
      "metadata": {
        "id": "ffaf68fb-317a-4d98-afa1-6d869e4d634f"
      },
      "source": [
        "SVM"
      ]
    },
    {
      "cell_type": "code",
      "execution_count": null,
      "id": "9a117f74-a0d9-4742-b394-c6bf4685cb49",
      "metadata": {
        "colab": {
          "base_uri": "https://localhost:8080/"
        },
        "id": "9a117f74-a0d9-4742-b394-c6bf4685cb49",
        "outputId": "57f5db35-de79-459c-8107-79d6330719e4"
      },
      "outputs": [
        {
          "output_type": "stream",
          "name": "stdout",
          "text": [
            "\u001b[1m--------------------------------------------------------\u001b[0m\n",
            "Classification_Report: \n",
            "               precision    recall  f1-score   support\n",
            "\n",
            "           0       0.92      0.98      0.95       110\n",
            "           1       0.97      0.89      0.93        80\n",
            "\n",
            "    accuracy                           0.94       190\n",
            "   macro avg       0.95      0.93      0.94       190\n",
            "weighted avg       0.94      0.94      0.94       190\n",
            "\n",
            "\u001b[1m--------------------------------------------------------\u001b[0m\n",
            "*************************************\n",
            "confusion matrix :[[108   2]\n",
            " [  9  71]]\n",
            "*************************************\n",
            "accuracy score :0.9421052631578948\n"
          ]
        }
      ],
      "source": [
        "svm = SVC( )\n",
        "model3=svm.fit(X_train,y_train)\n",
        "y_pred3=model3.predict(X_test)\n",
        "\n",
        "\n",
        "# print(f'classification report :{classification_report(y_test,y_pred3)}')\n",
        "print(\"\\033[1m--------------------------------------------------------\\033[0m\")\n",
        "print(\"Classification_Report: \\n\",classification_report(y_test,y_pred3))\n",
        "print(\"\\033[1m--------------------------------------------------------\\033[0m\")\n",
        "print('*************************************')\n",
        "print(f'confusion matrix :{confusion_matrix(y_test,y_pred3)}')\n",
        "print('*************************************')\n",
        "print(f'accuracy score :{accuracy_score(y_test,y_pred3)}')"
      ]
    },
    {
      "cell_type": "code",
      "execution_count": null,
      "id": "aa66ae10-6d7e-43d7-917f-2c3cdce47bf1",
      "metadata": {
        "colab": {
          "base_uri": "https://localhost:8080/"
        },
        "id": "aa66ae10-6d7e-43d7-917f-2c3cdce47bf1",
        "outputId": "caab2c20-11e2-4a3f-9824-99a003609e79"
      },
      "outputs": [
        {
          "output_type": "stream",
          "name": "stdout",
          "text": [
            "Cross-Validation Scores: [0.92763158 0.91390728 0.95364238 0.92715232 0.9205298 ]\n",
            "Average Accuracy: 0.93\n"
          ]
        }
      ],
      "source": [
        "from sklearn.model_selection import cross_val_score\n",
        "cv_scores = cross_val_score(svm, X_train, y_train, cv=5, scoring='accuracy')\n",
        "print(\"Cross-Validation Scores:\", cv_scores)\n",
        "print(\"Average Accuracy:\", round(cv_scores.mean(),2))"
      ]
    },
    {
      "cell_type": "markdown",
      "id": "045620f3-f89b-4ac8-b121-048780c5289e",
      "metadata": {
        "id": "045620f3-f89b-4ac8-b121-048780c5289e"
      },
      "source": [
        "Logistic Regression"
      ]
    },
    {
      "cell_type": "code",
      "execution_count": null,
      "id": "2b081776-2c25-4582-ae73-8a36619871ee",
      "metadata": {
        "colab": {
          "base_uri": "https://localhost:8080/"
        },
        "id": "2b081776-2c25-4582-ae73-8a36619871ee",
        "outputId": "f9544a85-fbbf-47df-f56d-5e0838105e17"
      },
      "outputs": [
        {
          "output_type": "stream",
          "name": "stdout",
          "text": [
            "\u001b[1m--------------------------------------------------------\u001b[0m\n",
            "Classification_Report: \n",
            "               precision    recall  f1-score   support\n",
            "\n",
            "           0       0.93      1.00      0.96       110\n",
            "           1       1.00      0.90      0.95        80\n",
            "\n",
            "    accuracy                           0.96       190\n",
            "   macro avg       0.97      0.95      0.96       190\n",
            "weighted avg       0.96      0.96      0.96       190\n",
            "\n",
            "\u001b[1m--------------------------------------------------------\u001b[0m\n",
            "Accuracy: 0.9578947368421052\n"
          ]
        }
      ],
      "source": [
        "model = LogisticRegression(penalty='l1', solver='liblinear')\n",
        "\n",
        "# Fit the model on the training data\n",
        "model.fit(X_train, y_train)\n",
        "\n",
        "# Make predictions on the testing data\n",
        "y_pred = model.predict(X_test)\n",
        "\n",
        "# Calculate accuracy\n",
        "\n",
        "print(\"\\033[1m--------------------------------------------------------\\033[0m\")\n",
        "print(\"Classification_Report: \\n\",classification_report(y_test,y_pred))\n",
        "print(\"\\033[1m--------------------------------------------------------\\033[0m\")\n",
        "accuracy = accuracy_score(y_test, y_pred)\n",
        "print(\"Accuracy:\", accuracy)"
      ]
    },
    {
      "cell_type": "code",
      "execution_count": null,
      "id": "66bd6345-d4c8-4bd5-a9fc-ee403593ab06",
      "metadata": {
        "colab": {
          "base_uri": "https://localhost:8080/"
        },
        "id": "66bd6345-d4c8-4bd5-a9fc-ee403593ab06",
        "outputId": "03b18682-e4c1-4195-de45-66defa38bac1"
      },
      "outputs": [
        {
          "output_type": "stream",
          "name": "stdout",
          "text": [
            "Cross-Validation Scores: [0.94078947 0.92715232 0.93377483 0.94701987 0.94701987]\n",
            "Average Accuracy: 0.9391512722202858\n"
          ]
        }
      ],
      "source": [
        "from sklearn.model_selection import cross_val_score\n",
        "cv_scores = cross_val_score(model, X_train, y_train, cv=5, scoring='accuracy')\n",
        "print(\"Cross-Validation Scores:\", cv_scores)\n",
        "print(\"Average Accuracy:\", cv_scores.mean())"
      ]
    },
    {
      "cell_type": "markdown",
      "source": [
        "On observation, it turns out the average accuracy of all the three models used are nearly equal to 92%. However the F1 score of the SV model is the greatest among others.\n",
        "\n",
        "This concludes our Notebook."
      ],
      "metadata": {
        "id": "K9F45NvtmLHL"
      },
      "id": "K9F45NvtmLHL"
    }
  ],
  "metadata": {
    "kernelspec": {
      "display_name": "Python 3 (ipykernel)",
      "language": "python",
      "name": "python3"
    },
    "language_info": {
      "codemirror_mode": {
        "name": "ipython",
        "version": 3
      },
      "file_extension": ".py",
      "mimetype": "text/x-python",
      "name": "python",
      "nbconvert_exporter": "python",
      "pygments_lexer": "ipython3",
      "version": "3.11.3"
    },
    "colab": {
      "provenance": []
    }
  },
  "nbformat": 4,
  "nbformat_minor": 5
}