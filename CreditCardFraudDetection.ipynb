{
 "cells": [
  {
   "cell_type": "markdown",
   "id": "49935568-2708-4945-b4b9-71ee3953c6f2",
   "metadata": {},
   "source": [
    "### Problem Statement: To determine whether the credit card transaction done was fraudulent(1) or genuine(0)."
   ]
  },
  {
   "cell_type": "markdown",
   "id": "7b30bb41-d55e-4a63-8503-a0dea36359f0",
   "metadata": {},
   "source": [
    "<hr>"
   ]
  },
  {
   "cell_type": "code",
   "execution_count": 1,
   "id": "f64ed69a-9220-4dec-a568-b66b97e36429",
   "metadata": {},
   "outputs": [],
   "source": [
    "# !pip install -r requirements.txt"
   ]
  },
  {
   "cell_type": "code",
   "execution_count": 2,
   "id": "12d45058-01c8-4971-8ae2-03be68225448",
   "metadata": {},
   "outputs": [],
   "source": [
    "# dataset source : https://www.kaggle.com/datasets/mlg-ulb/creditcardfraud/discussion/373669"
   ]
  },
  {
   "cell_type": "code",
   "execution_count": 3,
   "id": "ca680a31-847f-43ff-ac65-77f5577e8d20",
   "metadata": {},
   "outputs": [],
   "source": [
    "import numpy as np\n",
    "import pandas as pd\n",
    "import matplotlib.pyplot as plt\n",
    "%matplotlib inline \n",
    "import seaborn as sns\n",
    " \n",
    "from ydata_profiling import ProfileReport # for auto EDA\n",
    "\n",
    "\n",
    "import warnings \n",
    "warnings.filterwarnings(\"ignore\")"
   ]
  },
  {
   "cell_type": "code",
   "execution_count": 4,
   "id": "40f27bab-8094-4671-a453-7e7e67376bba",
   "metadata": {},
   "outputs": [],
   "source": [
    "# !pip install ydata-profiling"
   ]
  },
  {
   "cell_type": "code",
   "execution_count": 5,
   "id": "31540b8c-405b-4b39-8337-676a33a0e6ea",
   "metadata": {},
   "outputs": [],
   "source": [
    "credit_data = pd.read_csv(\"creditcard.csv\")"
   ]
  },
  {
   "cell_type": "code",
   "execution_count": 6,
   "id": "9e15a4ed-58aa-4375-92df-1e975ed812aa",
   "metadata": {},
   "outputs": [
    {
     "data": {
      "text/html": [
       "<div>\n",
       "<style scoped>\n",
       "    .dataframe tbody tr th:only-of-type {\n",
       "        vertical-align: middle;\n",
       "    }\n",
       "\n",
       "    .dataframe tbody tr th {\n",
       "        vertical-align: top;\n",
       "    }\n",
       "\n",
       "    .dataframe thead th {\n",
       "        text-align: right;\n",
       "    }\n",
       "</style>\n",
       "<table border=\"1\" class=\"dataframe\">\n",
       "  <thead>\n",
       "    <tr style=\"text-align: right;\">\n",
       "      <th></th>\n",
       "      <th>Time</th>\n",
       "      <th>V1</th>\n",
       "      <th>V2</th>\n",
       "      <th>V3</th>\n",
       "      <th>V4</th>\n",
       "      <th>V5</th>\n",
       "      <th>V6</th>\n",
       "      <th>V7</th>\n",
       "      <th>V8</th>\n",
       "      <th>V9</th>\n",
       "      <th>...</th>\n",
       "      <th>V21</th>\n",
       "      <th>V22</th>\n",
       "      <th>V23</th>\n",
       "      <th>V24</th>\n",
       "      <th>V25</th>\n",
       "      <th>V26</th>\n",
       "      <th>V27</th>\n",
       "      <th>V28</th>\n",
       "      <th>Amount</th>\n",
       "      <th>Class</th>\n",
       "    </tr>\n",
       "  </thead>\n",
       "  <tbody>\n",
       "    <tr>\n",
       "      <th>49993</th>\n",
       "      <td>44296.0</td>\n",
       "      <td>-1.525670</td>\n",
       "      <td>-0.629246</td>\n",
       "      <td>1.876750</td>\n",
       "      <td>-1.027794</td>\n",
       "      <td>-1.106091</td>\n",
       "      <td>-0.656054</td>\n",
       "      <td>-0.724725</td>\n",
       "      <td>0.696758</td>\n",
       "      <td>1.140440</td>\n",
       "      <td>...</td>\n",
       "      <td>0.362205</td>\n",
       "      <td>0.707107</td>\n",
       "      <td>-0.063647</td>\n",
       "      <td>0.437923</td>\n",
       "      <td>0.146038</td>\n",
       "      <td>0.301622</td>\n",
       "      <td>-0.018963</td>\n",
       "      <td>-0.101739</td>\n",
       "      <td>83.30</td>\n",
       "      <td>0</td>\n",
       "    </tr>\n",
       "    <tr>\n",
       "      <th>96647</th>\n",
       "      <td>65866.0</td>\n",
       "      <td>-5.114316</td>\n",
       "      <td>3.845382</td>\n",
       "      <td>-2.341091</td>\n",
       "      <td>0.441534</td>\n",
       "      <td>-1.933386</td>\n",
       "      <td>-0.271449</td>\n",
       "      <td>-1.969172</td>\n",
       "      <td>2.911121</td>\n",
       "      <td>-1.007325</td>\n",
       "      <td>...</td>\n",
       "      <td>0.136774</td>\n",
       "      <td>-1.380539</td>\n",
       "      <td>0.512094</td>\n",
       "      <td>-0.882313</td>\n",
       "      <td>-0.214806</td>\n",
       "      <td>-0.970785</td>\n",
       "      <td>-2.930789</td>\n",
       "      <td>-0.342024</td>\n",
       "      <td>11.90</td>\n",
       "      <td>0</td>\n",
       "    </tr>\n",
       "    <tr>\n",
       "      <th>93663</th>\n",
       "      <td>64533.0</td>\n",
       "      <td>1.261965</td>\n",
       "      <td>0.161640</td>\n",
       "      <td>-1.224711</td>\n",
       "      <td>0.043745</td>\n",
       "      <td>2.308316</td>\n",
       "      <td>3.276779</td>\n",
       "      <td>-0.234486</td>\n",
       "      <td>0.775000</td>\n",
       "      <td>-0.312174</td>\n",
       "      <td>...</td>\n",
       "      <td>-0.518345</td>\n",
       "      <td>-1.728405</td>\n",
       "      <td>0.179473</td>\n",
       "      <td>0.917647</td>\n",
       "      <td>0.405342</td>\n",
       "      <td>-0.822661</td>\n",
       "      <td>0.010820</td>\n",
       "      <td>0.025058</td>\n",
       "      <td>18.40</td>\n",
       "      <td>0</td>\n",
       "    </tr>\n",
       "    <tr>\n",
       "      <th>205308</th>\n",
       "      <td>135683.0</td>\n",
       "      <td>2.060413</td>\n",
       "      <td>-0.310339</td>\n",
       "      <td>-2.787377</td>\n",
       "      <td>-0.776837</td>\n",
       "      <td>2.499195</td>\n",
       "      <td>3.163703</td>\n",
       "      <td>-0.399284</td>\n",
       "      <td>0.715728</td>\n",
       "      <td>0.448370</td>\n",
       "      <td>...</td>\n",
       "      <td>0.242398</td>\n",
       "      <td>0.745062</td>\n",
       "      <td>0.039677</td>\n",
       "      <td>0.737419</td>\n",
       "      <td>0.303705</td>\n",
       "      <td>-0.087639</td>\n",
       "      <td>-0.000754</td>\n",
       "      <td>-0.065312</td>\n",
       "      <td>1.74</td>\n",
       "      <td>0</td>\n",
       "    </tr>\n",
       "    <tr>\n",
       "      <th>255916</th>\n",
       "      <td>157460.0</td>\n",
       "      <td>-0.569587</td>\n",
       "      <td>0.351394</td>\n",
       "      <td>0.427554</td>\n",
       "      <td>-0.892265</td>\n",
       "      <td>1.033150</td>\n",
       "      <td>-1.406179</td>\n",
       "      <td>1.174763</td>\n",
       "      <td>-0.553863</td>\n",
       "      <td>0.214019</td>\n",
       "      <td>...</td>\n",
       "      <td>-0.187892</td>\n",
       "      <td>-0.345102</td>\n",
       "      <td>0.245060</td>\n",
       "      <td>0.035538</td>\n",
       "      <td>-1.045496</td>\n",
       "      <td>-0.102883</td>\n",
       "      <td>-0.286118</td>\n",
       "      <td>0.072332</td>\n",
       "      <td>1.29</td>\n",
       "      <td>0</td>\n",
       "    </tr>\n",
       "  </tbody>\n",
       "</table>\n",
       "<p>5 rows × 31 columns</p>\n",
       "</div>"
      ],
      "text/plain": [
       "            Time        V1        V2        V3        V4        V5        V6   \n",
       "49993    44296.0 -1.525670 -0.629246  1.876750 -1.027794 -1.106091 -0.656054  \\\n",
       "96647    65866.0 -5.114316  3.845382 -2.341091  0.441534 -1.933386 -0.271449   \n",
       "93663    64533.0  1.261965  0.161640 -1.224711  0.043745  2.308316  3.276779   \n",
       "205308  135683.0  2.060413 -0.310339 -2.787377 -0.776837  2.499195  3.163703   \n",
       "255916  157460.0 -0.569587  0.351394  0.427554 -0.892265  1.033150 -1.406179   \n",
       "\n",
       "              V7        V8        V9  ...       V21       V22       V23   \n",
       "49993  -0.724725  0.696758  1.140440  ...  0.362205  0.707107 -0.063647  \\\n",
       "96647  -1.969172  2.911121 -1.007325  ...  0.136774 -1.380539  0.512094   \n",
       "93663  -0.234486  0.775000 -0.312174  ... -0.518345 -1.728405  0.179473   \n",
       "205308 -0.399284  0.715728  0.448370  ...  0.242398  0.745062  0.039677   \n",
       "255916  1.174763 -0.553863  0.214019  ... -0.187892 -0.345102  0.245060   \n",
       "\n",
       "             V24       V25       V26       V27       V28  Amount  Class  \n",
       "49993   0.437923  0.146038  0.301622 -0.018963 -0.101739   83.30      0  \n",
       "96647  -0.882313 -0.214806 -0.970785 -2.930789 -0.342024   11.90      0  \n",
       "93663   0.917647  0.405342 -0.822661  0.010820  0.025058   18.40      0  \n",
       "205308  0.737419  0.303705 -0.087639 -0.000754 -0.065312    1.74      0  \n",
       "255916  0.035538 -1.045496 -0.102883 -0.286118  0.072332    1.29      0  \n",
       "\n",
       "[5 rows x 31 columns]"
      ]
     },
     "execution_count": 6,
     "metadata": {},
     "output_type": "execute_result"
    }
   ],
   "source": [
    "credit_data.sample(5)"
   ]
  },
  {
   "cell_type": "code",
   "execution_count": 7,
   "id": "c0138882-3cf2-4e06-bb4d-43debf27adb7",
   "metadata": {},
   "outputs": [
    {
     "name": "stdout",
     "output_type": "stream",
     "text": [
      " We have 284807 credit card transactions data in our dataset.\n"
     ]
    }
   ],
   "source": [
    "print(f' We have {credit_data.shape[0]} credit card transactions data in our dataset.')"
   ]
  },
  {
   "cell_type": "code",
   "execution_count": 8,
   "id": "168377bf-eb39-494f-a112-368b57167d46",
   "metadata": {},
   "outputs": [
    {
     "data": {
      "text/plain": [
       "Index(['Time', 'V1', 'V2', 'V3', 'V4', 'V5', 'V6', 'V7', 'V8', 'V9', 'V10',\n",
       "       'V11', 'V12', 'V13', 'V14', 'V15', 'V16', 'V17', 'V18', 'V19', 'V20',\n",
       "       'V21', 'V22', 'V23', 'V24', 'V25', 'V26', 'V27', 'V28', 'Amount',\n",
       "       'Class'],\n",
       "      dtype='object')"
      ]
     },
     "execution_count": 8,
     "metadata": {},
     "output_type": "execute_result"
    }
   ],
   "source": [
    "credit_data.columns"
   ]
  },
  {
   "cell_type": "markdown",
   "id": "67f74280-74ee-4450-bc83-55df651c9164",
   "metadata": {},
   "source": [
    "V1 to V28 columns has been hidden on purpose due to various privacy reasons and also it is mentioned that V1 to V28 are the principle components obtained after PCA reduction"
   ]
  },
  {
   "cell_type": "code",
   "execution_count": 9,
   "id": "a4143370-9d0a-4506-81ec-11dbf5ecc78d",
   "metadata": {},
   "outputs": [
    {
     "name": "stdout",
     "output_type": "stream",
     "text": [
      "<class 'pandas.core.frame.DataFrame'>\n",
      "RangeIndex: 284807 entries, 0 to 284806\n",
      "Data columns (total 31 columns):\n",
      " #   Column  Non-Null Count   Dtype  \n",
      "---  ------  --------------   -----  \n",
      " 0   Time    284807 non-null  float64\n",
      " 1   V1      284807 non-null  float64\n",
      " 2   V2      284807 non-null  float64\n",
      " 3   V3      284807 non-null  float64\n",
      " 4   V4      284807 non-null  float64\n",
      " 5   V5      284807 non-null  float64\n",
      " 6   V6      284807 non-null  float64\n",
      " 7   V7      284807 non-null  float64\n",
      " 8   V8      284807 non-null  float64\n",
      " 9   V9      284807 non-null  float64\n",
      " 10  V10     284807 non-null  float64\n",
      " 11  V11     284807 non-null  float64\n",
      " 12  V12     284807 non-null  float64\n",
      " 13  V13     284807 non-null  float64\n",
      " 14  V14     284807 non-null  float64\n",
      " 15  V15     284807 non-null  float64\n",
      " 16  V16     284807 non-null  float64\n",
      " 17  V17     284807 non-null  float64\n",
      " 18  V18     284807 non-null  float64\n",
      " 19  V19     284807 non-null  float64\n",
      " 20  V20     284807 non-null  float64\n",
      " 21  V21     284807 non-null  float64\n",
      " 22  V22     284807 non-null  float64\n",
      " 23  V23     284807 non-null  float64\n",
      " 24  V24     284807 non-null  float64\n",
      " 25  V25     284807 non-null  float64\n",
      " 26  V26     284807 non-null  float64\n",
      " 27  V27     284807 non-null  float64\n",
      " 28  V28     284807 non-null  float64\n",
      " 29  Amount  284807 non-null  float64\n",
      " 30  Class   284807 non-null  int64  \n",
      "dtypes: float64(30), int64(1)\n",
      "memory usage: 67.4 MB\n"
     ]
    }
   ],
   "source": [
    "credit_data.info()"
   ]
  },
  {
   "cell_type": "markdown",
   "id": "4493501e-eb1b-4774-b16e-ddc19e3695f0",
   "metadata": {},
   "source": [
    "<p style=\"font-size: 17px; color: blue;\">\n",
    " Features V1, V2, … V28 are the principal components obtained with PCA. The only features which have not been transformed with PCA are 'Time' and 'Amount'. </p>\n",
    " \n",
    "- **Feature 'Time' contains the seconds elapsed between each transaction and the first transaction in the dataset.**\n",
    "- **The feature 'Amount' is the transaction Amount, this feature can be used for example-dependant cost-sensitive learning.**\n",
    "- **Feature 'Class' is the response variable and it takes value 1 in case of fraud and 0 otherwise.**\n",
    "\n"
   ]
  },
  {
   "cell_type": "code",
   "execution_count": 10,
   "id": "df4f9854-9388-4d71-a7f2-080aced389f8",
   "metadata": {},
   "outputs": [
    {
     "data": {
      "text/plain": [
       "Class\n",
       "0    284315\n",
       "1       492\n",
       "Name: count, dtype: int64"
      ]
     },
     "execution_count": 10,
     "metadata": {},
     "output_type": "execute_result"
    }
   ],
   "source": [
    "credit_data.Class.value_counts()"
   ]
  },
  {
   "cell_type": "markdown",
   "id": "56c1e2da-c082-4e38-9744-a3149ae104b2",
   "metadata": {},
   "source": [
    "<div style = \"color:red;\">\n",
    "Observation:<br>\n",
    "- class is categorical data with 2 categories: 0 and 1.<br>\n",
    "- highly imbalanced dataset with 492 anomaly transactions.\n",
    "</div>"
   ]
  },
  {
   "cell_type": "code",
   "execution_count": 11,
   "id": "549f5719-37fa-4460-b75d-91f9475c473a",
   "metadata": {},
   "outputs": [
    {
     "name": "stdout",
     "output_type": "stream",
     "text": [
      "There are only 492 number of fraudulent transactions out of total 284807 total transactions.\n"
     ]
    }
   ],
   "source": [
    "print(f'There are only {credit_data[credit_data.Class == 1].shape[0]} number of fraudulent transactions out of total {credit_data.shape[0]} total transactions.')"
   ]
  },
  {
   "cell_type": "code",
   "execution_count": 12,
   "id": "f49ae0c2-4167-442b-866a-8e461d23bd96",
   "metadata": {},
   "outputs": [
    {
     "name": "stdout",
     "output_type": "stream",
     "text": [
      "Fraud transaction happened only 0.173 % of time.\n"
     ]
    }
   ],
   "source": [
    "print(f'Fraud transaction happened only {round(credit_data[credit_data.Class == 1].shape[0]/credit_data.shape[0] * 100 , 3)} % of time.')"
   ]
  },
  {
   "cell_type": "markdown",
   "id": "e55c3aab-a629-4826-bdad-83aa0aa3f28e",
   "metadata": {},
   "source": [
    "### thus our data is highly imbalanced and if we try training any supervised algorithm with this data, then it will most likely mark fraud transaction as geniuene."
   ]
  },
  {
   "cell_type": "markdown",
   "id": "6e0ef80c-21e5-401a-a4c1-7a61c0d8daa0",
   "metadata": {},
   "source": [
    "<p style=\"font-size: 18px; color: blue;\">What is Imbalanced Data?</p>\r\n",
    "<p>Imbalanced data refers to a situation in machine learning where one category or class of data (called the minority class) is much less common than another category (the majority class). This imbalance can be a problem because machine learning models may not work well when they are heavily biased towards the majority class.</p>\r\n",
    "\r\n",
    "<p style=\"font-size: 18px; color: blue;\">Techniques to Handle Imbalanced Data</p>\r\n",
    "<p><strong>Resampling Techniques:</strong> These methods involve adjusting the number of examples in each class. Oversampling creates more copies of the minority class to balance the dataset, while undersampling reduces the number of majority class examples to balance the dataset.</p>\r\n",
    "\r\n",
    "<p><strong>Cost-Sensitive Learning:</strong> This approach involves modifying the loss function of the model to give more weight to the minority class. It assigns a higher \"cost\" to mistakes in the minority class, making the model more sensitive to misclassifying examples from the minority class.</p>\r\n",
    "\r\n",
    "<p><strong>Ensemble Methods:</strong> These methods are like teamwork for models. Instead of relying on one model, you use multiple models and combine their predictions. This can help effectively handle imbalanced data.</p>\r\n",
    "\r\n",
    "<p><strong>Thresholding:</strong> You can change the decision threshold of your model. By making the threshold higher, you make your model more cautious, making it more likely to classify examples as the minority class. Lowering the threshold makes it more likely to classify examples as the majority class.</p>\r\n",
    "\r\n",
    "<p><strong>Generative Adversarial Networks (GANs):</strong> GANs are used to create artificial new examples of the minority class. These artificial synthetic examples are generated by the GAN to balance out the dataset, making it more even.</p>\r\n"
   ]
  },
  {
   "cell_type": "code",
   "execution_count": 13,
   "id": "af20f393-8a21-40c2-acf6-6c949e117a8f",
   "metadata": {},
   "outputs": [
    {
     "data": {
      "text/html": [
       "<div>\n",
       "<style scoped>\n",
       "    .dataframe tbody tr th:only-of-type {\n",
       "        vertical-align: middle;\n",
       "    }\n",
       "\n",
       "    .dataframe tbody tr th {\n",
       "        vertical-align: top;\n",
       "    }\n",
       "\n",
       "    .dataframe thead th {\n",
       "        text-align: right;\n",
       "    }\n",
       "</style>\n",
       "<table border=\"1\" class=\"dataframe\">\n",
       "  <thead>\n",
       "    <tr style=\"text-align: right;\">\n",
       "      <th></th>\n",
       "      <th>Time</th>\n",
       "      <th>V1</th>\n",
       "      <th>V2</th>\n",
       "      <th>V3</th>\n",
       "      <th>V4</th>\n",
       "      <th>V5</th>\n",
       "      <th>V6</th>\n",
       "      <th>V7</th>\n",
       "      <th>V8</th>\n",
       "      <th>V9</th>\n",
       "      <th>...</th>\n",
       "      <th>V21</th>\n",
       "      <th>V22</th>\n",
       "      <th>V23</th>\n",
       "      <th>V24</th>\n",
       "      <th>V25</th>\n",
       "      <th>V26</th>\n",
       "      <th>V27</th>\n",
       "      <th>V28</th>\n",
       "      <th>Amount</th>\n",
       "      <th>Class</th>\n",
       "    </tr>\n",
       "  </thead>\n",
       "  <tbody>\n",
       "    <tr>\n",
       "      <th>count</th>\n",
       "      <td>284807.000000</td>\n",
       "      <td>2.848070e+05</td>\n",
       "      <td>2.848070e+05</td>\n",
       "      <td>2.848070e+05</td>\n",
       "      <td>2.848070e+05</td>\n",
       "      <td>2.848070e+05</td>\n",
       "      <td>2.848070e+05</td>\n",
       "      <td>2.848070e+05</td>\n",
       "      <td>2.848070e+05</td>\n",
       "      <td>2.848070e+05</td>\n",
       "      <td>...</td>\n",
       "      <td>2.848070e+05</td>\n",
       "      <td>2.848070e+05</td>\n",
       "      <td>2.848070e+05</td>\n",
       "      <td>2.848070e+05</td>\n",
       "      <td>2.848070e+05</td>\n",
       "      <td>2.848070e+05</td>\n",
       "      <td>2.848070e+05</td>\n",
       "      <td>2.848070e+05</td>\n",
       "      <td>284807.000000</td>\n",
       "      <td>284807.000000</td>\n",
       "    </tr>\n",
       "    <tr>\n",
       "      <th>mean</th>\n",
       "      <td>94813.859575</td>\n",
       "      <td>1.168375e-15</td>\n",
       "      <td>3.416908e-16</td>\n",
       "      <td>-1.379537e-15</td>\n",
       "      <td>2.074095e-15</td>\n",
       "      <td>9.604066e-16</td>\n",
       "      <td>1.487313e-15</td>\n",
       "      <td>-5.556467e-16</td>\n",
       "      <td>1.213481e-16</td>\n",
       "      <td>-2.406331e-15</td>\n",
       "      <td>...</td>\n",
       "      <td>1.654067e-16</td>\n",
       "      <td>-3.568593e-16</td>\n",
       "      <td>2.578648e-16</td>\n",
       "      <td>4.473266e-15</td>\n",
       "      <td>5.340915e-16</td>\n",
       "      <td>1.683437e-15</td>\n",
       "      <td>-3.660091e-16</td>\n",
       "      <td>-1.227390e-16</td>\n",
       "      <td>88.349619</td>\n",
       "      <td>0.001727</td>\n",
       "    </tr>\n",
       "    <tr>\n",
       "      <th>std</th>\n",
       "      <td>47488.145955</td>\n",
       "      <td>1.958696e+00</td>\n",
       "      <td>1.651309e+00</td>\n",
       "      <td>1.516255e+00</td>\n",
       "      <td>1.415869e+00</td>\n",
       "      <td>1.380247e+00</td>\n",
       "      <td>1.332271e+00</td>\n",
       "      <td>1.237094e+00</td>\n",
       "      <td>1.194353e+00</td>\n",
       "      <td>1.098632e+00</td>\n",
       "      <td>...</td>\n",
       "      <td>7.345240e-01</td>\n",
       "      <td>7.257016e-01</td>\n",
       "      <td>6.244603e-01</td>\n",
       "      <td>6.056471e-01</td>\n",
       "      <td>5.212781e-01</td>\n",
       "      <td>4.822270e-01</td>\n",
       "      <td>4.036325e-01</td>\n",
       "      <td>3.300833e-01</td>\n",
       "      <td>250.120109</td>\n",
       "      <td>0.041527</td>\n",
       "    </tr>\n",
       "    <tr>\n",
       "      <th>min</th>\n",
       "      <td>0.000000</td>\n",
       "      <td>-5.640751e+01</td>\n",
       "      <td>-7.271573e+01</td>\n",
       "      <td>-4.832559e+01</td>\n",
       "      <td>-5.683171e+00</td>\n",
       "      <td>-1.137433e+02</td>\n",
       "      <td>-2.616051e+01</td>\n",
       "      <td>-4.355724e+01</td>\n",
       "      <td>-7.321672e+01</td>\n",
       "      <td>-1.343407e+01</td>\n",
       "      <td>...</td>\n",
       "      <td>-3.483038e+01</td>\n",
       "      <td>-1.093314e+01</td>\n",
       "      <td>-4.480774e+01</td>\n",
       "      <td>-2.836627e+00</td>\n",
       "      <td>-1.029540e+01</td>\n",
       "      <td>-2.604551e+00</td>\n",
       "      <td>-2.256568e+01</td>\n",
       "      <td>-1.543008e+01</td>\n",
       "      <td>0.000000</td>\n",
       "      <td>0.000000</td>\n",
       "    </tr>\n",
       "    <tr>\n",
       "      <th>25%</th>\n",
       "      <td>54201.500000</td>\n",
       "      <td>-9.203734e-01</td>\n",
       "      <td>-5.985499e-01</td>\n",
       "      <td>-8.903648e-01</td>\n",
       "      <td>-8.486401e-01</td>\n",
       "      <td>-6.915971e-01</td>\n",
       "      <td>-7.682956e-01</td>\n",
       "      <td>-5.540759e-01</td>\n",
       "      <td>-2.086297e-01</td>\n",
       "      <td>-6.430976e-01</td>\n",
       "      <td>...</td>\n",
       "      <td>-2.283949e-01</td>\n",
       "      <td>-5.423504e-01</td>\n",
       "      <td>-1.618463e-01</td>\n",
       "      <td>-3.545861e-01</td>\n",
       "      <td>-3.171451e-01</td>\n",
       "      <td>-3.269839e-01</td>\n",
       "      <td>-7.083953e-02</td>\n",
       "      <td>-5.295979e-02</td>\n",
       "      <td>5.600000</td>\n",
       "      <td>0.000000</td>\n",
       "    </tr>\n",
       "    <tr>\n",
       "      <th>50%</th>\n",
       "      <td>84692.000000</td>\n",
       "      <td>1.810880e-02</td>\n",
       "      <td>6.548556e-02</td>\n",
       "      <td>1.798463e-01</td>\n",
       "      <td>-1.984653e-02</td>\n",
       "      <td>-5.433583e-02</td>\n",
       "      <td>-2.741871e-01</td>\n",
       "      <td>4.010308e-02</td>\n",
       "      <td>2.235804e-02</td>\n",
       "      <td>-5.142873e-02</td>\n",
       "      <td>...</td>\n",
       "      <td>-2.945017e-02</td>\n",
       "      <td>6.781943e-03</td>\n",
       "      <td>-1.119293e-02</td>\n",
       "      <td>4.097606e-02</td>\n",
       "      <td>1.659350e-02</td>\n",
       "      <td>-5.213911e-02</td>\n",
       "      <td>1.342146e-03</td>\n",
       "      <td>1.124383e-02</td>\n",
       "      <td>22.000000</td>\n",
       "      <td>0.000000</td>\n",
       "    </tr>\n",
       "    <tr>\n",
       "      <th>75%</th>\n",
       "      <td>139320.500000</td>\n",
       "      <td>1.315642e+00</td>\n",
       "      <td>8.037239e-01</td>\n",
       "      <td>1.027196e+00</td>\n",
       "      <td>7.433413e-01</td>\n",
       "      <td>6.119264e-01</td>\n",
       "      <td>3.985649e-01</td>\n",
       "      <td>5.704361e-01</td>\n",
       "      <td>3.273459e-01</td>\n",
       "      <td>5.971390e-01</td>\n",
       "      <td>...</td>\n",
       "      <td>1.863772e-01</td>\n",
       "      <td>5.285536e-01</td>\n",
       "      <td>1.476421e-01</td>\n",
       "      <td>4.395266e-01</td>\n",
       "      <td>3.507156e-01</td>\n",
       "      <td>2.409522e-01</td>\n",
       "      <td>9.104512e-02</td>\n",
       "      <td>7.827995e-02</td>\n",
       "      <td>77.165000</td>\n",
       "      <td>0.000000</td>\n",
       "    </tr>\n",
       "    <tr>\n",
       "      <th>max</th>\n",
       "      <td>172792.000000</td>\n",
       "      <td>2.454930e+00</td>\n",
       "      <td>2.205773e+01</td>\n",
       "      <td>9.382558e+00</td>\n",
       "      <td>1.687534e+01</td>\n",
       "      <td>3.480167e+01</td>\n",
       "      <td>7.330163e+01</td>\n",
       "      <td>1.205895e+02</td>\n",
       "      <td>2.000721e+01</td>\n",
       "      <td>1.559499e+01</td>\n",
       "      <td>...</td>\n",
       "      <td>2.720284e+01</td>\n",
       "      <td>1.050309e+01</td>\n",
       "      <td>2.252841e+01</td>\n",
       "      <td>4.584549e+00</td>\n",
       "      <td>7.519589e+00</td>\n",
       "      <td>3.517346e+00</td>\n",
       "      <td>3.161220e+01</td>\n",
       "      <td>3.384781e+01</td>\n",
       "      <td>25691.160000</td>\n",
       "      <td>1.000000</td>\n",
       "    </tr>\n",
       "  </tbody>\n",
       "</table>\n",
       "<p>8 rows × 31 columns</p>\n",
       "</div>"
      ],
      "text/plain": [
       "                Time            V1            V2            V3            V4   \n",
       "count  284807.000000  2.848070e+05  2.848070e+05  2.848070e+05  2.848070e+05  \\\n",
       "mean    94813.859575  1.168375e-15  3.416908e-16 -1.379537e-15  2.074095e-15   \n",
       "std     47488.145955  1.958696e+00  1.651309e+00  1.516255e+00  1.415869e+00   \n",
       "min         0.000000 -5.640751e+01 -7.271573e+01 -4.832559e+01 -5.683171e+00   \n",
       "25%     54201.500000 -9.203734e-01 -5.985499e-01 -8.903648e-01 -8.486401e-01   \n",
       "50%     84692.000000  1.810880e-02  6.548556e-02  1.798463e-01 -1.984653e-02   \n",
       "75%    139320.500000  1.315642e+00  8.037239e-01  1.027196e+00  7.433413e-01   \n",
       "max    172792.000000  2.454930e+00  2.205773e+01  9.382558e+00  1.687534e+01   \n",
       "\n",
       "                 V5            V6            V7            V8            V9   \n",
       "count  2.848070e+05  2.848070e+05  2.848070e+05  2.848070e+05  2.848070e+05  \\\n",
       "mean   9.604066e-16  1.487313e-15 -5.556467e-16  1.213481e-16 -2.406331e-15   \n",
       "std    1.380247e+00  1.332271e+00  1.237094e+00  1.194353e+00  1.098632e+00   \n",
       "min   -1.137433e+02 -2.616051e+01 -4.355724e+01 -7.321672e+01 -1.343407e+01   \n",
       "25%   -6.915971e-01 -7.682956e-01 -5.540759e-01 -2.086297e-01 -6.430976e-01   \n",
       "50%   -5.433583e-02 -2.741871e-01  4.010308e-02  2.235804e-02 -5.142873e-02   \n",
       "75%    6.119264e-01  3.985649e-01  5.704361e-01  3.273459e-01  5.971390e-01   \n",
       "max    3.480167e+01  7.330163e+01  1.205895e+02  2.000721e+01  1.559499e+01   \n",
       "\n",
       "       ...           V21           V22           V23           V24   \n",
       "count  ...  2.848070e+05  2.848070e+05  2.848070e+05  2.848070e+05  \\\n",
       "mean   ...  1.654067e-16 -3.568593e-16  2.578648e-16  4.473266e-15   \n",
       "std    ...  7.345240e-01  7.257016e-01  6.244603e-01  6.056471e-01   \n",
       "min    ... -3.483038e+01 -1.093314e+01 -4.480774e+01 -2.836627e+00   \n",
       "25%    ... -2.283949e-01 -5.423504e-01 -1.618463e-01 -3.545861e-01   \n",
       "50%    ... -2.945017e-02  6.781943e-03 -1.119293e-02  4.097606e-02   \n",
       "75%    ...  1.863772e-01  5.285536e-01  1.476421e-01  4.395266e-01   \n",
       "max    ...  2.720284e+01  1.050309e+01  2.252841e+01  4.584549e+00   \n",
       "\n",
       "                V25           V26           V27           V28         Amount   \n",
       "count  2.848070e+05  2.848070e+05  2.848070e+05  2.848070e+05  284807.000000  \\\n",
       "mean   5.340915e-16  1.683437e-15 -3.660091e-16 -1.227390e-16      88.349619   \n",
       "std    5.212781e-01  4.822270e-01  4.036325e-01  3.300833e-01     250.120109   \n",
       "min   -1.029540e+01 -2.604551e+00 -2.256568e+01 -1.543008e+01       0.000000   \n",
       "25%   -3.171451e-01 -3.269839e-01 -7.083953e-02 -5.295979e-02       5.600000   \n",
       "50%    1.659350e-02 -5.213911e-02  1.342146e-03  1.124383e-02      22.000000   \n",
       "75%    3.507156e-01  2.409522e-01  9.104512e-02  7.827995e-02      77.165000   \n",
       "max    7.519589e+00  3.517346e+00  3.161220e+01  3.384781e+01   25691.160000   \n",
       "\n",
       "               Class  \n",
       "count  284807.000000  \n",
       "mean        0.001727  \n",
       "std         0.041527  \n",
       "min         0.000000  \n",
       "25%         0.000000  \n",
       "50%         0.000000  \n",
       "75%         0.000000  \n",
       "max         1.000000  \n",
       "\n",
       "[8 rows x 31 columns]"
      ]
     },
     "execution_count": 13,
     "metadata": {},
     "output_type": "execute_result"
    }
   ],
   "source": [
    "credit_data.describe()"
   ]
  },
  {
   "cell_type": "markdown",
   "id": "df2f65d7-a687-4d29-9586-3bfa2d311533",
   "metadata": {},
   "source": []
  },
  {
   "cell_type": "code",
   "execution_count": 14,
   "id": "48f6afe9-0b43-4fa5-b942-ada36ba63352",
   "metadata": {},
   "outputs": [
    {
     "data": {
      "text/plain": [
       "Time      0\n",
       "V1        0\n",
       "V2        0\n",
       "V3        0\n",
       "V4        0\n",
       "V5        0\n",
       "V6        0\n",
       "V7        0\n",
       "V8        0\n",
       "V9        0\n",
       "V10       0\n",
       "V11       0\n",
       "V12       0\n",
       "V13       0\n",
       "V14       0\n",
       "V15       0\n",
       "V16       0\n",
       "V17       0\n",
       "V18       0\n",
       "V19       0\n",
       "V20       0\n",
       "V21       0\n",
       "V22       0\n",
       "V23       0\n",
       "V24       0\n",
       "V25       0\n",
       "V26       0\n",
       "V27       0\n",
       "V28       0\n",
       "Amount    0\n",
       "Class     0\n",
       "dtype: int64"
      ]
     },
     "execution_count": 14,
     "metadata": {},
     "output_type": "execute_result"
    }
   ],
   "source": [
    "credit_data.isna().sum()"
   ]
  },
  {
   "cell_type": "code",
   "execution_count": 15,
   "id": "db2d0e0c-e48f-4a66-a365-e5591dcc7901",
   "metadata": {},
   "outputs": [
    {
     "data": {
      "text/plain": [
       "1081"
      ]
     },
     "execution_count": 15,
     "metadata": {},
     "output_type": "execute_result"
    }
   ],
   "source": [
    "credit_data.duplicated().sum()"
   ]
  },
  {
   "cell_type": "markdown",
   "id": "71f33444-4b1a-4e32-ae29-78ef5368e2b4",
   "metadata": {},
   "source": [
    "<div style = \"color:red;\">\n",
    "Observation:<br>\n",
    "- no missing values<br>\n",
    "- 1081 transactions have been duplicated( maybe same amount transaction done twice)\n",
    "</div>"
   ]
  },
  {
   "cell_type": "code",
   "execution_count": 16,
   "id": "57957d6c-f6d0-4a1c-a4db-e07a3ccd41c9",
   "metadata": {},
   "outputs": [],
   "source": [
    "credit_data.drop_duplicates(inplace = True)"
   ]
  },
  {
   "cell_type": "markdown",
   "id": "c16404fd-1d18-4779-8291-ed74cb531b88",
   "metadata": {},
   "source": [
    "#### Pandas Profiler - Auto EDA"
   ]
  },
  {
   "cell_type": "code",
   "execution_count": 17,
   "id": "319bfa76-d4ea-45b6-ba81-e47b7b40615c",
   "metadata": {},
   "outputs": [],
   "source": [
    "# report = ProfileReport(credit_data, title=\"Profiling Report\")\n",
    "# report.to_file('ProfileReport.html')"
   ]
  },
  {
   "cell_type": "code",
   "execution_count": 18,
   "id": "61b50d06-a8c2-47dd-9f37-47377dd57a5d",
   "metadata": {},
   "outputs": [
    {
     "name": "stdout",
     "output_type": "stream",
     "text": [
      " Minimum transaction amount: 0.0\n",
      " Maximum transaction amount: 25691.16\n"
     ]
    }
   ],
   "source": [
    "# lets see the transactions count !\n",
    "\n",
    "print(f' Minimum transaction amount: {credit_data.Amount.min()}')\n",
    "print(f' Maximum transaction amount: {credit_data.Amount.max()}')\n"
   ]
  },
  {
   "cell_type": "code",
   "execution_count": 19,
   "id": "883976d1-42b4-4230-811e-c1ddc8ae0b3f",
   "metadata": {},
   "outputs": [
    {
     "data": {
      "text/plain": [
       "count    283726.000000\n",
       "mean         88.472687\n",
       "std         250.399437\n",
       "min           0.000000\n",
       "25%           5.600000\n",
       "50%          22.000000\n",
       "75%          77.510000\n",
       "max       25691.160000\n",
       "Name: Amount, dtype: float64"
      ]
     },
     "execution_count": 19,
     "metadata": {},
     "output_type": "execute_result"
    }
   ],
   "source": [
    "credit_data.Amount.describe()"
   ]
  },
  {
   "cell_type": "markdown",
   "id": "fb23c9dc-1444-41c3-95e2-a287e9092fbe",
   "metadata": {},
   "source": [
    "<div style = \"color:red;\">\n",
    "Observation:<br>\n",
    "- 0 rupees transaction of credit card means?\n",
    "</div>"
   ]
  },
  {
   "cell_type": "code",
   "execution_count": 20,
   "id": "ee1d4b01-5491-4817-8394-18492636e843",
   "metadata": {},
   "outputs": [
    {
     "data": {
      "text/plain": [
       "<seaborn.axisgrid.FacetGrid at 0x2aa4cbbb490>"
      ]
     },
     "execution_count": 20,
     "metadata": {},
     "output_type": "execute_result"
    },
    {
     "data": {
      "image/png": "[encoded data removed]",
      "text/plain": [
       "<Figure size 400x400 with 1 Axes>"
      ]
     },
     "metadata": {},
     "output_type": "display_data"
    }
   ],
   "source": [
    "\n",
    "sns.displot(data = credit_data, x = \"Amount\", kind = 'kde', height=4)\n"
   ]
  },
  {
   "cell_type": "code",
   "execution_count": 21,
   "id": "b59ae99c-68c9-4375-b3af-ad284f4eef96",
   "metadata": {},
   "outputs": [
    {
     "data": {
      "text/html": [
       "<div>\n",
       "<style scoped>\n",
       "    .dataframe tbody tr th:only-of-type {\n",
       "        vertical-align: middle;\n",
       "    }\n",
       "\n",
       "    .dataframe tbody tr th {\n",
       "        vertical-align: top;\n",
       "    }\n",
       "\n",
       "    .dataframe thead th {\n",
       "        text-align: right;\n",
       "    }\n",
       "</style>\n",
       "<table border=\"1\" class=\"dataframe\">\n",
       "  <thead>\n",
       "    <tr style=\"text-align: right;\">\n",
       "      <th></th>\n",
       "      <th>Time</th>\n",
       "      <th>V1</th>\n",
       "      <th>V2</th>\n",
       "      <th>V3</th>\n",
       "      <th>V4</th>\n",
       "      <th>V5</th>\n",
       "      <th>V6</th>\n",
       "      <th>V7</th>\n",
       "      <th>V8</th>\n",
       "      <th>V9</th>\n",
       "      <th>...</th>\n",
       "      <th>V21</th>\n",
       "      <th>V22</th>\n",
       "      <th>V23</th>\n",
       "      <th>V24</th>\n",
       "      <th>V25</th>\n",
       "      <th>V26</th>\n",
       "      <th>V27</th>\n",
       "      <th>V28</th>\n",
       "      <th>Amount</th>\n",
       "      <th>Class</th>\n",
       "    </tr>\n",
       "  </thead>\n",
       "  <tbody>\n",
       "    <tr>\n",
       "      <th>541</th>\n",
       "      <td>406.0</td>\n",
       "      <td>-2.312227</td>\n",
       "      <td>1.951992</td>\n",
       "      <td>-1.609851</td>\n",
       "      <td>3.997906</td>\n",
       "      <td>-0.522188</td>\n",
       "      <td>-1.426545</td>\n",
       "      <td>-2.537387</td>\n",
       "      <td>1.391657</td>\n",
       "      <td>-2.770089</td>\n",
       "      <td>...</td>\n",
       "      <td>0.517232</td>\n",
       "      <td>-0.035049</td>\n",
       "      <td>-0.465211</td>\n",
       "      <td>0.320198</td>\n",
       "      <td>0.044519</td>\n",
       "      <td>0.177840</td>\n",
       "      <td>0.261145</td>\n",
       "      <td>-0.143276</td>\n",
       "      <td>0.00</td>\n",
       "      <td>1</td>\n",
       "    </tr>\n",
       "    <tr>\n",
       "      <th>623</th>\n",
       "      <td>472.0</td>\n",
       "      <td>-3.043541</td>\n",
       "      <td>-3.157307</td>\n",
       "      <td>1.088463</td>\n",
       "      <td>2.288644</td>\n",
       "      <td>1.359805</td>\n",
       "      <td>-1.064823</td>\n",
       "      <td>0.325574</td>\n",
       "      <td>-0.067794</td>\n",
       "      <td>-0.270953</td>\n",
       "      <td>...</td>\n",
       "      <td>0.661696</td>\n",
       "      <td>0.435477</td>\n",
       "      <td>1.375966</td>\n",
       "      <td>-0.293803</td>\n",
       "      <td>0.279798</td>\n",
       "      <td>-0.145362</td>\n",
       "      <td>-0.252773</td>\n",
       "      <td>0.035764</td>\n",
       "      <td>529.00</td>\n",
       "      <td>1</td>\n",
       "    </tr>\n",
       "    <tr>\n",
       "      <th>4920</th>\n",
       "      <td>4462.0</td>\n",
       "      <td>-2.303350</td>\n",
       "      <td>1.759247</td>\n",
       "      <td>-0.359745</td>\n",
       "      <td>2.330243</td>\n",
       "      <td>-0.821628</td>\n",
       "      <td>-0.075788</td>\n",
       "      <td>0.562320</td>\n",
       "      <td>-0.399147</td>\n",
       "      <td>-0.238253</td>\n",
       "      <td>...</td>\n",
       "      <td>-0.294166</td>\n",
       "      <td>-0.932391</td>\n",
       "      <td>0.172726</td>\n",
       "      <td>-0.087330</td>\n",
       "      <td>-0.156114</td>\n",
       "      <td>-0.542628</td>\n",
       "      <td>0.039566</td>\n",
       "      <td>-0.153029</td>\n",
       "      <td>239.93</td>\n",
       "      <td>1</td>\n",
       "    </tr>\n",
       "    <tr>\n",
       "      <th>6108</th>\n",
       "      <td>6986.0</td>\n",
       "      <td>-4.397974</td>\n",
       "      <td>1.358367</td>\n",
       "      <td>-2.592844</td>\n",
       "      <td>2.679787</td>\n",
       "      <td>-1.128131</td>\n",
       "      <td>-1.706536</td>\n",
       "      <td>-3.496197</td>\n",
       "      <td>-0.248778</td>\n",
       "      <td>-0.247768</td>\n",
       "      <td>...</td>\n",
       "      <td>0.573574</td>\n",
       "      <td>0.176968</td>\n",
       "      <td>-0.436207</td>\n",
       "      <td>-0.053502</td>\n",
       "      <td>0.252405</td>\n",
       "      <td>-0.657488</td>\n",
       "      <td>-0.827136</td>\n",
       "      <td>0.849573</td>\n",
       "      <td>59.00</td>\n",
       "      <td>1</td>\n",
       "    </tr>\n",
       "    <tr>\n",
       "      <th>6329</th>\n",
       "      <td>7519.0</td>\n",
       "      <td>1.234235</td>\n",
       "      <td>3.019740</td>\n",
       "      <td>-4.304597</td>\n",
       "      <td>4.732795</td>\n",
       "      <td>3.624201</td>\n",
       "      <td>-1.357746</td>\n",
       "      <td>1.713445</td>\n",
       "      <td>-0.496358</td>\n",
       "      <td>-1.282858</td>\n",
       "      <td>...</td>\n",
       "      <td>-0.379068</td>\n",
       "      <td>-0.704181</td>\n",
       "      <td>-0.656805</td>\n",
       "      <td>-1.632653</td>\n",
       "      <td>1.488901</td>\n",
       "      <td>0.566797</td>\n",
       "      <td>-0.010016</td>\n",
       "      <td>0.146793</td>\n",
       "      <td>1.00</td>\n",
       "      <td>1</td>\n",
       "    </tr>\n",
       "  </tbody>\n",
       "</table>\n",
       "<p>5 rows × 31 columns</p>\n",
       "</div>"
      ],
      "text/plain": [
       "        Time        V1        V2        V3        V4        V5        V6   \n",
       "541    406.0 -2.312227  1.951992 -1.609851  3.997906 -0.522188 -1.426545  \\\n",
       "623    472.0 -3.043541 -3.157307  1.088463  2.288644  1.359805 -1.064823   \n",
       "4920  4462.0 -2.303350  1.759247 -0.359745  2.330243 -0.821628 -0.075788   \n",
       "6108  6986.0 -4.397974  1.358367 -2.592844  2.679787 -1.128131 -1.706536   \n",
       "6329  7519.0  1.234235  3.019740 -4.304597  4.732795  3.624201 -1.357746   \n",
       "\n",
       "            V7        V8        V9  ...       V21       V22       V23   \n",
       "541  -2.537387  1.391657 -2.770089  ...  0.517232 -0.035049 -0.465211  \\\n",
       "623   0.325574 -0.067794 -0.270953  ...  0.661696  0.435477  1.375966   \n",
       "4920  0.562320 -0.399147 -0.238253  ... -0.294166 -0.932391  0.172726   \n",
       "6108 -3.496197 -0.248778 -0.247768  ...  0.573574  0.176968 -0.436207   \n",
       "6329  1.713445 -0.496358 -1.282858  ... -0.379068 -0.704181 -0.656805   \n",
       "\n",
       "           V24       V25       V26       V27       V28  Amount  Class  \n",
       "541   0.320198  0.044519  0.177840  0.261145 -0.143276    0.00      1  \n",
       "623  -0.293803  0.279798 -0.145362 -0.252773  0.035764  529.00      1  \n",
       "4920 -0.087330 -0.156114 -0.542628  0.039566 -0.153029  239.93      1  \n",
       "6108 -0.053502  0.252405 -0.657488 -0.827136  0.849573   59.00      1  \n",
       "6329 -1.632653  1.488901  0.566797 -0.010016  0.146793    1.00      1  \n",
       "\n",
       "[5 rows x 31 columns]"
      ]
     },
     "execution_count": 21,
     "metadata": {},
     "output_type": "execute_result"
    }
   ],
   "source": [
    "fraud_df = credit_data[credit_data.Class == 1]\n",
    "\n",
    "fraud_df.head()"
   ]
  },
  {
   "cell_type": "code",
   "execution_count": 22,
   "id": "4f401891-45e3-4a65-9f91-7bda4211261c",
   "metadata": {},
   "outputs": [
    {
     "data": {
      "text/plain": [
       "Text(0.5, 0, 'Time')"
      ]
     },
     "execution_count": 22,
     "metadata": {},
     "output_type": "execute_result"
    },
    {
     "data": {
      "image/png": "[encoded data removed]",
      "text/plain": [
       "<Figure size 500x500 with 1 Axes>"
      ]
     },
     "metadata": {},
     "output_type": "display_data"
    }
   ],
   "source": [
    "plt.figure(figsize = (5,5))\n",
    "\n",
    "plt.subplot(1,1,1)\n",
    "plt.scatter(fraud_df.Time, fraud_df.Amount)\n",
    "plt.ylabel('Fraud Amount')\n",
    "plt.xlabel('Time')"
   ]
  },
  {
   "cell_type": "markdown",
   "id": "4c7bbee7-019e-469f-bb39-04b73b1e0330",
   "metadata": {},
   "source": [
    "<div style = 'color:red'>\n",
    "most of the fraud amount is near 0 and less than 200  and only few of them are above 1500$.\n"
   ]
  },
  {
   "cell_type": "code",
   "execution_count": 23,
   "id": "f8c7a421-daa8-423e-bb4a-4ff81be8d2ea",
   "metadata": {},
   "outputs": [
    {
     "name": "stdout",
     "output_type": "stream",
     "text": [
      " There are 25  number of frauds with amount 0.00 $ out of 473 frauds.\n"
     ]
    }
   ],
   "source": [
    "print(f' There are {fraud_df[fraud_df.Amount == 0].shape[0]}  number of frauds with amount 0.00 $ out of {fraud_df.shape[0]} frauds.')"
   ]
  },
  {
   "cell_type": "code",
   "execution_count": 24,
   "id": "2722b8a2-15da-4b23-991a-e716a405f8b1",
   "metadata": {},
   "outputs": [
    {
     "name": "stdout",
     "output_type": "stream",
     "text": [
      " There are only 9  number of frauds with amount greater than equal to 1000$, out of 473 frauds.\n"
     ]
    }
   ],
   "source": [
    "print(f' There are only {fraud_df[fraud_df.Amount >= 1000 ].shape[0]}  number of frauds with amount greater than equal to 1000$, out of {fraud_df.shape[0]} frauds.')"
   ]
  },
  {
   "cell_type": "code",
   "execution_count": 25,
   "id": "d5ed403c-7ce8-4617-bcf1-56cfd2bf7f1b",
   "metadata": {},
   "outputs": [
    {
     "name": "stdout",
     "output_type": "stream",
     "text": [
      " Maximum fraud amount: 2125.87\n"
     ]
    }
   ],
   "source": [
    "print(f' Maximum fraud amount: {fraud_df.Amount.max()}')"
   ]
  },
  {
   "cell_type": "code",
   "execution_count": 26,
   "id": "53d6e1e2-8013-4775-979a-04c9042be6a0",
   "metadata": {},
   "outputs": [
    {
     "data": {
      "text/plain": [
       "<Axes: >"
      ]
     },
     "execution_count": 26,
     "metadata": {},
     "output_type": "execute_result"
    },
    {
     "data": {
      "image/png": "[encoded data removed]",
      "text/plain": [
       "<Figure size 640x480 with 2 Axes>"
      ]
     },
     "metadata": {},
     "output_type": "display_data"
    }
   ],
   "source": [
    "sns.heatmap(credit_data.corr())"
   ]
  },
  {
   "cell_type": "markdown",
   "id": "0cc3f570-e8ad-43bc-a86b-c65326adc0f0",
   "metadata": {},
   "source": [
    "no features are much corelated with each other. maybe they are but we cant see them cause of imbalanced dataset. \n",
    "\n"
   ]
  },
  {
   "cell_type": "markdown",
   "id": "31c0298b-83ac-47f0-a6f4-61d3d5c442e1",
   "metadata": {},
   "source": [
    "# scaling and splitting "
   ]
  },
  {
   "cell_type": "markdown",
   "id": "c7776eda-365c-4658-9a83-09918f956fab",
   "metadata": {},
   "source": [
    "#### scaling the remaining columns time and amount using robust scaler cause robust scalar handles outliers pretty well.\n"
   ]
  },
  {
   "cell_type": "markdown",
   "id": "7504db00-2690-48a6-8886-ba50df1b119b",
   "metadata": {},
   "source": [
    "<img src = 'https://media.geeksforgeeks.org/wp-content/uploads/20230428205714/for4.png'>"
   ]
  },
  {
   "cell_type": "code",
   "execution_count": 27,
   "id": "8af95219-8de3-4c23-85ec-2f7bb2a9a320",
   "metadata": {},
   "outputs": [],
   "source": [
    "from sklearn.preprocessing import RobustScaler\n",
    "\n",
    "robust_scaler = RobustScaler()\n",
    "\n",
    "credit_data['scaled_amount'] = robust_scaler.fit_transform(credit_data.Amount.values.reshape(-1,1))\n",
    "credit_data['scaled_time'] = robust_scaler.fit_transform(credit_data.Time.values.reshape(-1,1))\n",
    "credit_data.drop(['Time','Amount'], axis = 1 , inplace = True)"
   ]
  },
  {
   "cell_type": "code",
   "execution_count": 28,
   "id": "aade42e6-59af-4f5c-a166-96ca797684ca",
   "metadata": {},
   "outputs": [
    {
     "name": "stdout",
     "output_type": "stream",
     "text": [
      "Final Scaled data looks like:\n"
     ]
    },
    {
     "data": {
      "text/html": [
       "<div>\n",
       "<style scoped>\n",
       "    .dataframe tbody tr th:only-of-type {\n",
       "        vertical-align: middle;\n",
       "    }\n",
       "\n",
       "    .dataframe tbody tr th {\n",
       "        vertical-align: top;\n",
       "    }\n",
       "\n",
       "    .dataframe thead th {\n",
       "        text-align: right;\n",
       "    }\n",
       "</style>\n",
       "<table border=\"1\" class=\"dataframe\">\n",
       "  <thead>\n",
       "    <tr style=\"text-align: right;\">\n",
       "      <th></th>\n",
       "      <th>V1</th>\n",
       "      <th>V2</th>\n",
       "      <th>V3</th>\n",
       "      <th>V4</th>\n",
       "      <th>V5</th>\n",
       "      <th>V6</th>\n",
       "      <th>V7</th>\n",
       "      <th>V8</th>\n",
       "      <th>V9</th>\n",
       "      <th>V10</th>\n",
       "      <th>...</th>\n",
       "      <th>V22</th>\n",
       "      <th>V23</th>\n",
       "      <th>V24</th>\n",
       "      <th>V25</th>\n",
       "      <th>V26</th>\n",
       "      <th>V27</th>\n",
       "      <th>V28</th>\n",
       "      <th>Class</th>\n",
       "      <th>scaled_amount</th>\n",
       "      <th>scaled_time</th>\n",
       "    </tr>\n",
       "  </thead>\n",
       "  <tbody>\n",
       "    <tr>\n",
       "      <th>0</th>\n",
       "      <td>-1.359807</td>\n",
       "      <td>-0.072781</td>\n",
       "      <td>2.536347</td>\n",
       "      <td>1.378155</td>\n",
       "      <td>-0.338321</td>\n",
       "      <td>0.462388</td>\n",
       "      <td>0.239599</td>\n",
       "      <td>0.098698</td>\n",
       "      <td>0.363787</td>\n",
       "      <td>0.090794</td>\n",
       "      <td>...</td>\n",
       "      <td>0.277838</td>\n",
       "      <td>-0.110474</td>\n",
       "      <td>0.066928</td>\n",
       "      <td>0.128539</td>\n",
       "      <td>-0.189115</td>\n",
       "      <td>0.133558</td>\n",
       "      <td>-0.021053</td>\n",
       "      <td>0</td>\n",
       "      <td>1.774718</td>\n",
       "      <td>-0.995290</td>\n",
       "    </tr>\n",
       "    <tr>\n",
       "      <th>1</th>\n",
       "      <td>1.191857</td>\n",
       "      <td>0.266151</td>\n",
       "      <td>0.166480</td>\n",
       "      <td>0.448154</td>\n",
       "      <td>0.060018</td>\n",
       "      <td>-0.082361</td>\n",
       "      <td>-0.078803</td>\n",
       "      <td>0.085102</td>\n",
       "      <td>-0.255425</td>\n",
       "      <td>-0.166974</td>\n",
       "      <td>...</td>\n",
       "      <td>-0.638672</td>\n",
       "      <td>0.101288</td>\n",
       "      <td>-0.339846</td>\n",
       "      <td>0.167170</td>\n",
       "      <td>0.125895</td>\n",
       "      <td>-0.008983</td>\n",
       "      <td>0.014724</td>\n",
       "      <td>0</td>\n",
       "      <td>-0.268530</td>\n",
       "      <td>-0.995290</td>\n",
       "    </tr>\n",
       "    <tr>\n",
       "      <th>2</th>\n",
       "      <td>-1.358354</td>\n",
       "      <td>-1.340163</td>\n",
       "      <td>1.773209</td>\n",
       "      <td>0.379780</td>\n",
       "      <td>-0.503198</td>\n",
       "      <td>1.800499</td>\n",
       "      <td>0.791461</td>\n",
       "      <td>0.247676</td>\n",
       "      <td>-1.514654</td>\n",
       "      <td>0.207643</td>\n",
       "      <td>...</td>\n",
       "      <td>0.771679</td>\n",
       "      <td>0.909412</td>\n",
       "      <td>-0.689281</td>\n",
       "      <td>-0.327642</td>\n",
       "      <td>-0.139097</td>\n",
       "      <td>-0.055353</td>\n",
       "      <td>-0.059752</td>\n",
       "      <td>0</td>\n",
       "      <td>4.959811</td>\n",
       "      <td>-0.995279</td>\n",
       "    </tr>\n",
       "    <tr>\n",
       "      <th>3</th>\n",
       "      <td>-0.966272</td>\n",
       "      <td>-0.185226</td>\n",
       "      <td>1.792993</td>\n",
       "      <td>-0.863291</td>\n",
       "      <td>-0.010309</td>\n",
       "      <td>1.247203</td>\n",
       "      <td>0.237609</td>\n",
       "      <td>0.377436</td>\n",
       "      <td>-1.387024</td>\n",
       "      <td>-0.054952</td>\n",
       "      <td>...</td>\n",
       "      <td>0.005274</td>\n",
       "      <td>-0.190321</td>\n",
       "      <td>-1.175575</td>\n",
       "      <td>0.647376</td>\n",
       "      <td>-0.221929</td>\n",
       "      <td>0.062723</td>\n",
       "      <td>0.061458</td>\n",
       "      <td>0</td>\n",
       "      <td>1.411487</td>\n",
       "      <td>-0.995279</td>\n",
       "    </tr>\n",
       "    <tr>\n",
       "      <th>4</th>\n",
       "      <td>-1.158233</td>\n",
       "      <td>0.877737</td>\n",
       "      <td>1.548718</td>\n",
       "      <td>0.403034</td>\n",
       "      <td>-0.407193</td>\n",
       "      <td>0.095921</td>\n",
       "      <td>0.592941</td>\n",
       "      <td>-0.270533</td>\n",
       "      <td>0.817739</td>\n",
       "      <td>0.753074</td>\n",
       "      <td>...</td>\n",
       "      <td>0.798278</td>\n",
       "      <td>-0.137458</td>\n",
       "      <td>0.141267</td>\n",
       "      <td>-0.206010</td>\n",
       "      <td>0.502292</td>\n",
       "      <td>0.219422</td>\n",
       "      <td>0.215153</td>\n",
       "      <td>0</td>\n",
       "      <td>0.667362</td>\n",
       "      <td>-0.995267</td>\n",
       "    </tr>\n",
       "  </tbody>\n",
       "</table>\n",
       "<p>5 rows × 31 columns</p>\n",
       "</div>"
      ],
      "text/plain": [
       "         V1        V2        V3        V4        V5        V6        V7   \n",
       "0 -1.359807 -0.072781  2.536347  1.378155 -0.338321  0.462388  0.239599  \\\n",
       "1  1.191857  0.266151  0.166480  0.448154  0.060018 -0.082361 -0.078803   \n",
       "2 -1.358354 -1.340163  1.773209  0.379780 -0.503198  1.800499  0.791461   \n",
       "3 -0.966272 -0.185226  1.792993 -0.863291 -0.010309  1.247203  0.237609   \n",
       "4 -1.158233  0.877737  1.548718  0.403034 -0.407193  0.095921  0.592941   \n",
       "\n",
       "         V8        V9       V10  ...       V22       V23       V24       V25   \n",
       "0  0.098698  0.363787  0.090794  ...  0.277838 -0.110474  0.066928  0.128539  \\\n",
       "1  0.085102 -0.255425 -0.166974  ... -0.638672  0.101288 -0.339846  0.167170   \n",
       "2  0.247676 -1.514654  0.207643  ...  0.771679  0.909412 -0.689281 -0.327642   \n",
       "3  0.377436 -1.387024 -0.054952  ...  0.005274 -0.190321 -1.175575  0.647376   \n",
       "4 -0.270533  0.817739  0.753074  ...  0.798278 -0.137458  0.141267 -0.206010   \n",
       "\n",
       "        V26       V27       V28  Class  scaled_amount  scaled_time  \n",
       "0 -0.189115  0.133558 -0.021053      0       1.774718    -0.995290  \n",
       "1  0.125895 -0.008983  0.014724      0      -0.268530    -0.995290  \n",
       "2 -0.139097 -0.055353 -0.059752      0       4.959811    -0.995279  \n",
       "3 -0.221929  0.062723  0.061458      0       1.411487    -0.995279  \n",
       "4  0.502292  0.219422  0.215153      0       0.667362    -0.995267  \n",
       "\n",
       "[5 rows x 31 columns]"
      ]
     },
     "execution_count": 28,
     "metadata": {},
     "output_type": "execute_result"
    }
   ],
   "source": [
    "print('Final Scaled data looks like:')\n",
    "credit_data.head()"
   ]
  },
  {
   "cell_type": "markdown",
   "id": "f9601d16-9303-4377-8de2-795d8dc01654",
   "metadata": {},
   "source": [
    "<p style=\"font-size: 18px; color: blue;\">\n",
    "We need to create a sub-sample of our actual dataframe i.e undersampling </p>\n",
    "\n",
    "**1) It would reduce the overfitting error where most of the data are being predicted as geniuene due to imbalanced dataset.** <br>\n",
    "\n",
    "**2) It would allow us to see the actual correlation between various features , which we are not able to see right now due to the imbalance in dataset.**\n",
    "\n"
   ]
  },
  {
   "cell_type": "code",
   "execution_count": 29,
   "id": "f37c77c5-921d-4b14-81ee-ef15649aeee0",
   "metadata": {},
   "outputs": [],
   "source": [
    "from sklearn.utils import shuffle\n",
    "credit_data = shuffle(credit_data)"
   ]
  },
  {
   "cell_type": "code",
   "execution_count": 30,
   "id": "d56ca291-ff41-4e0e-9b05-5aef57a2691c",
   "metadata": {},
   "outputs": [],
   "source": [
    "fraud_df = credit_data[credit_data.Class == 1]\n",
    "geniuene_df = credit_data[credit_data.Class == 0]"
   ]
  },
  {
   "cell_type": "code",
   "execution_count": 31,
   "id": "7591e4d0-b5ae-432e-8bf8-e8fd775dde0e",
   "metadata": {},
   "outputs": [
    {
     "data": {
      "text/plain": [
       "(473, 31)"
      ]
     },
     "execution_count": 31,
     "metadata": {},
     "output_type": "execute_result"
    }
   ],
   "source": [
    "fraud_df.shape"
   ]
  },
  {
   "cell_type": "code",
   "execution_count": 32,
   "id": "7aabf290-485b-4830-99b6-343d54c04a67",
   "metadata": {},
   "outputs": [],
   "source": [
    "geniuene_df = geniuene_df[0:fraud_df.shape[0]]"
   ]
  },
  {
   "cell_type": "code",
   "execution_count": 33,
   "id": "cd59bd4c-3c41-4c87-ab83-1a76eaf15585",
   "metadata": {},
   "outputs": [
    {
     "data": {
      "text/plain": [
       "(473, 31)"
      ]
     },
     "execution_count": 33,
     "metadata": {},
     "output_type": "execute_result"
    }
   ],
   "source": [
    "geniuene_df.shape"
   ]
  },
  {
   "cell_type": "code",
   "execution_count": 34,
   "id": "59e6e91d-470b-4c0f-9691-25f770527f88",
   "metadata": {},
   "outputs": [],
   "source": [
    "new_df = pd.concat([fraud_df, geniuene_df])\n",
    "new_df = shuffle(new_df)"
   ]
  },
  {
   "cell_type": "code",
   "execution_count": 35,
   "id": "242a01be-aa7b-41d4-83a8-50e6cd10c7f8",
   "metadata": {},
   "outputs": [
    {
     "data": {
      "text/plain": [
       "0"
      ]
     },
     "execution_count": 35,
     "metadata": {},
     "output_type": "execute_result"
    }
   ],
   "source": [
    "new_df.isna().sum().max()"
   ]
  },
  {
   "cell_type": "code",
   "execution_count": 36,
   "id": "d9ed5324-dcfa-4950-8c38-37417a042b81",
   "metadata": {},
   "outputs": [
    {
     "data": {
      "text/plain": [
       "(946, 31)"
      ]
     },
     "execution_count": 36,
     "metadata": {},
     "output_type": "execute_result"
    }
   ],
   "source": [
    "new_df.shape\n"
   ]
  },
  {
   "cell_type": "code",
   "execution_count": 37,
   "id": "8dea6a98-0111-4505-9ed5-66c9d55ac84a",
   "metadata": {},
   "outputs": [
    {
     "data": {
      "text/plain": [
       "Class\n",
       "1    473\n",
       "0    473\n",
       "Name: count, dtype: int64"
      ]
     },
     "execution_count": 37,
     "metadata": {},
     "output_type": "execute_result"
    }
   ],
   "source": [
    "new_df.Class.value_counts()\n",
    "# equally distributed"
   ]
  },
  {
   "cell_type": "code",
   "execution_count": 38,
   "id": "880bce8b-1a1d-4d76-bd97-0662189b0480",
   "metadata": {},
   "outputs": [
    {
     "data": {
      "text/plain": [
       "Text(0.5, 1.0, 'Equally distributed new dataframe')"
      ]
     },
     "execution_count": 38,
     "metadata": {},
     "output_type": "execute_result"
    },
    {
     "data": {
      "image/png": "[encoded data removed]",
      "text/plain": [
       "<Figure size 640x480 with 1 Axes>"
      ]
     },
     "metadata": {},
     "output_type": "display_data"
    }
   ],
   "source": [
    "sns.countplot(data = new_df, x= 'Class')\n",
    "plt.title('Equally distributed new dataframe')"
   ]
  },
  {
   "cell_type": "markdown",
   "id": "632eb646-fed9-4146-9c89-38f4ee5c04f1",
   "metadata": {},
   "source": [
    " lets work with this new df"
   ]
  },
  {
   "cell_type": "code",
   "execution_count": 39,
   "id": "f955058c-3225-45fc-92b4-392b72db52d9",
   "metadata": {},
   "outputs": [
    {
     "data": {
      "text/plain": [
       "<Axes: >"
      ]
     },
     "execution_count": 39,
     "metadata": {},
     "output_type": "execute_result"
    },
    {
     "data": {
      "image/png": "[encoded data removed]",
      "text/plain": [
       "<Figure size 640x480 with 2 Axes>"
      ]
     },
     "metadata": {},
     "output_type": "display_data"
    }
   ],
   "source": [
    "sns.heatmap(new_df.corr())"
   ]
  },
  {
   "cell_type": "code",
   "execution_count": 40,
   "id": "22f84ffa-8d22-49f3-9628-ad3cf259b0dd",
   "metadata": {},
   "outputs": [
    {
     "data": {
      "text/plain": [
       "<Axes: >"
      ]
     },
     "execution_count": 40,
     "metadata": {},
     "output_type": "execute_result"
    },
    {
     "data": {
      "image/png": "[encoded data removed]",
      "text/plain": [
       "<Figure size 640x480 with 2 Axes>"
      ]
     },
     "metadata": {},
     "output_type": "display_data"
    }
   ],
   "source": [
    "sns.heatmap(new_df.corr()[['Class']])"
   ]
  },
  {
   "cell_type": "code",
   "execution_count": 41,
   "id": "d325bd6f-57b9-4eb6-8edf-9d27abe6dd8e",
   "metadata": {},
   "outputs": [
    {
     "data": {
      "text/plain": [
       "Class            1.000000\n",
       "V4               0.712925\n",
       "V11              0.670658\n",
       "V2               0.482832\n",
       "V19              0.263775\n",
       "V20              0.195701\n",
       "V21              0.122952\n",
       "V8               0.122733\n",
       "scaled_amount    0.116922\n",
       "V27              0.102982\n",
       "V28              0.092424\n",
       "V26              0.072996\n",
       "V22              0.041606\n",
       "V25              0.034148\n",
       "V15             -0.024139\n",
       "V23             -0.037583\n",
       "V13             -0.083330\n",
       "V24             -0.092484\n",
       "scaled_time     -0.149763\n",
       "V5              -0.364470\n",
       "V6              -0.408594\n",
       "V1              -0.423221\n",
       "V18             -0.450743\n",
       "V7              -0.457226\n",
       "V9              -0.539513\n",
       "V17             -0.549127\n",
       "V3              -0.559328\n",
       "V16             -0.592327\n",
       "V10             -0.628241\n",
       "V12             -0.680800\n",
       "V14             -0.745640\n",
       "Name: Class, dtype: float64"
      ]
     },
     "execution_count": 41,
     "metadata": {},
     "output_type": "execute_result"
    }
   ],
   "source": [
    "correlation_with_class = new_df.corr()['Class']\n",
    "sorted_correlation = correlation_with_class.sort_values(ascending = False)\n",
    "\n",
    "sorted_correlation"
   ]
  },
  {
   "cell_type": "markdown",
   "id": "4edb0633-7df6-473a-8c7f-7a4674e8a930",
   "metadata": {},
   "source": [
    "<div style = \"color:red;\">\n",
    "V4, V11, V2, V19 having positive correlation with class.\n",
    "V16, V10, V12, V14 having negative correlation with class."
   ]
  },
  {
   "cell_type": "code",
   "execution_count": 42,
   "id": "4e52e52f-9742-4b30-b5ae-18a8cb3ee2df",
   "metadata": {},
   "outputs": [],
   "source": [
    "# train test split\n",
    "X = new_df.drop('Class', axis = 1)\n",
    "y = new_df['Class']"
   ]
  },
  {
   "cell_type": "code",
   "execution_count": 43,
   "id": "79593c58-3e32-4009-8794-00f25ea1cf84",
   "metadata": {},
   "outputs": [],
   "source": [
    "from sklearn.model_selection import train_test_split\n",
    "\n",
    "X_train, X_test, y_train, y_test = train_test_split(X, y, test_size=0.2, random_state=42)"
   ]
  },
  {
   "cell_type": "code",
   "execution_count": 44,
   "id": "1bc3722e-173e-40aa-a7ec-d881a18c41c5",
   "metadata": {},
   "outputs": [
    {
     "data": {
      "text/html": [
       "<div>\n",
       "<style scoped>\n",
       "    .dataframe tbody tr th:only-of-type {\n",
       "        vertical-align: middle;\n",
       "    }\n",
       "\n",
       "    .dataframe tbody tr th {\n",
       "        vertical-align: top;\n",
       "    }\n",
       "\n",
       "    .dataframe thead th {\n",
       "        text-align: right;\n",
       "    }\n",
       "</style>\n",
       "<table border=\"1\" class=\"dataframe\">\n",
       "  <thead>\n",
       "    <tr style=\"text-align: right;\">\n",
       "      <th></th>\n",
       "      <th>V1</th>\n",
       "      <th>V2</th>\n",
       "      <th>V3</th>\n",
       "      <th>V4</th>\n",
       "      <th>V5</th>\n",
       "      <th>V6</th>\n",
       "      <th>V7</th>\n",
       "      <th>V8</th>\n",
       "      <th>V9</th>\n",
       "      <th>V10</th>\n",
       "      <th>...</th>\n",
       "      <th>V21</th>\n",
       "      <th>V22</th>\n",
       "      <th>V23</th>\n",
       "      <th>V24</th>\n",
       "      <th>V25</th>\n",
       "      <th>V26</th>\n",
       "      <th>V27</th>\n",
       "      <th>V28</th>\n",
       "      <th>scaled_amount</th>\n",
       "      <th>scaled_time</th>\n",
       "    </tr>\n",
       "  </thead>\n",
       "  <tbody>\n",
       "    <tr>\n",
       "      <th>189370</th>\n",
       "      <td>-0.272683</td>\n",
       "      <td>0.748120</td>\n",
       "      <td>-0.669013</td>\n",
       "      <td>-1.251962</td>\n",
       "      <td>1.302950</td>\n",
       "      <td>-0.500912</td>\n",
       "      <td>1.904997</td>\n",
       "      <td>-0.307776</td>\n",
       "      <td>-0.974156</td>\n",
       "      <td>-0.708980</td>\n",
       "      <td>...</td>\n",
       "      <td>0.287103</td>\n",
       "      <td>0.667597</td>\n",
       "      <td>-0.131192</td>\n",
       "      <td>0.401438</td>\n",
       "      <td>0.103733</td>\n",
       "      <td>0.061050</td>\n",
       "      <td>0.056115</td>\n",
       "      <td>0.157952</td>\n",
       "      <td>1.122097</td>\n",
       "      <td>0.513255</td>\n",
       "    </tr>\n",
       "    <tr>\n",
       "      <th>250864</th>\n",
       "      <td>-0.592108</td>\n",
       "      <td>0.681572</td>\n",
       "      <td>1.103087</td>\n",
       "      <td>2.992929</td>\n",
       "      <td>-0.756090</td>\n",
       "      <td>0.831429</td>\n",
       "      <td>1.784269</td>\n",
       "      <td>-0.108557</td>\n",
       "      <td>-1.228641</td>\n",
       "      <td>0.578395</td>\n",
       "      <td>...</td>\n",
       "      <td>-0.187053</td>\n",
       "      <td>-0.534051</td>\n",
       "      <td>0.642823</td>\n",
       "      <td>-0.056625</td>\n",
       "      <td>-0.740634</td>\n",
       "      <td>-0.497617</td>\n",
       "      <td>0.098728</td>\n",
       "      <td>-0.032970</td>\n",
       "      <td>4.064525</td>\n",
       "      <td>0.827486</td>\n",
       "    </tr>\n",
       "    <tr>\n",
       "      <th>27659</th>\n",
       "      <td>-0.818109</td>\n",
       "      <td>0.589414</td>\n",
       "      <td>2.107922</td>\n",
       "      <td>0.879415</td>\n",
       "      <td>0.092654</td>\n",
       "      <td>0.545469</td>\n",
       "      <td>-0.172549</td>\n",
       "      <td>0.226408</td>\n",
       "      <td>0.217401</td>\n",
       "      <td>-0.223236</td>\n",
       "      <td>...</td>\n",
       "      <td>0.113636</td>\n",
       "      <td>0.482096</td>\n",
       "      <td>-0.122901</td>\n",
       "      <td>-0.416597</td>\n",
       "      <td>-0.324139</td>\n",
       "      <td>-0.325281</td>\n",
       "      <td>-0.045716</td>\n",
       "      <td>0.179483</td>\n",
       "      <td>-0.289529</td>\n",
       "      <td>-0.588125</td>\n",
       "    </tr>\n",
       "    <tr>\n",
       "      <th>96254</th>\n",
       "      <td>-0.301638</td>\n",
       "      <td>1.147250</td>\n",
       "      <td>1.548066</td>\n",
       "      <td>0.713510</td>\n",
       "      <td>0.193808</td>\n",
       "      <td>-0.215371</td>\n",
       "      <td>0.571265</td>\n",
       "      <td>-0.112103</td>\n",
       "      <td>-0.527087</td>\n",
       "      <td>-0.193157</td>\n",
       "      <td>...</td>\n",
       "      <td>-0.068658</td>\n",
       "      <td>-0.178601</td>\n",
       "      <td>-0.043848</td>\n",
       "      <td>-0.152825</td>\n",
       "      <td>-0.549893</td>\n",
       "      <td>-0.613682</td>\n",
       "      <td>0.069941</td>\n",
       "      <td>0.173561</td>\n",
       "      <td>-0.236407</td>\n",
       "      <td>-0.223337</td>\n",
       "    </tr>\n",
       "    <tr>\n",
       "      <th>74496</th>\n",
       "      <td>-7.347955</td>\n",
       "      <td>2.397041</td>\n",
       "      <td>-7.572356</td>\n",
       "      <td>5.177819</td>\n",
       "      <td>-2.854838</td>\n",
       "      <td>-1.795239</td>\n",
       "      <td>-8.783235</td>\n",
       "      <td>0.437157</td>\n",
       "      <td>-3.740598</td>\n",
       "      <td>-8.332863</td>\n",
       "      <td>...</td>\n",
       "      <td>-0.175273</td>\n",
       "      <td>0.543325</td>\n",
       "      <td>-0.547955</td>\n",
       "      <td>-0.503722</td>\n",
       "      <td>-0.310933</td>\n",
       "      <td>-0.163986</td>\n",
       "      <td>1.197895</td>\n",
       "      <td>0.378187</td>\n",
       "      <td>-0.294396</td>\n",
       "      <td>-0.341725</td>\n",
       "    </tr>\n",
       "  </tbody>\n",
       "</table>\n",
       "<p>5 rows × 30 columns</p>\n",
       "</div>"
      ],
      "text/plain": [
       "              V1        V2        V3        V4        V5        V6        V7   \n",
       "189370 -0.272683  0.748120 -0.669013 -1.251962  1.302950 -0.500912  1.904997  \\\n",
       "250864 -0.592108  0.681572  1.103087  2.992929 -0.756090  0.831429  1.784269   \n",
       "27659  -0.818109  0.589414  2.107922  0.879415  0.092654  0.545469 -0.172549   \n",
       "96254  -0.301638  1.147250  1.548066  0.713510  0.193808 -0.215371  0.571265   \n",
       "74496  -7.347955  2.397041 -7.572356  5.177819 -2.854838 -1.795239 -8.783235   \n",
       "\n",
       "              V8        V9       V10  ...       V21       V22       V23   \n",
       "189370 -0.307776 -0.974156 -0.708980  ...  0.287103  0.667597 -0.131192  \\\n",
       "250864 -0.108557 -1.228641  0.578395  ... -0.187053 -0.534051  0.642823   \n",
       "27659   0.226408  0.217401 -0.223236  ...  0.113636  0.482096 -0.122901   \n",
       "96254  -0.112103 -0.527087 -0.193157  ... -0.068658 -0.178601 -0.043848   \n",
       "74496   0.437157 -3.740598 -8.332863  ... -0.175273  0.543325 -0.547955   \n",
       "\n",
       "             V24       V25       V26       V27       V28  scaled_amount   \n",
       "189370  0.401438  0.103733  0.061050  0.056115  0.157952       1.122097  \\\n",
       "250864 -0.056625 -0.740634 -0.497617  0.098728 -0.032970       4.064525   \n",
       "27659  -0.416597 -0.324139 -0.325281 -0.045716  0.179483      -0.289529   \n",
       "96254  -0.152825 -0.549893 -0.613682  0.069941  0.173561      -0.236407   \n",
       "74496  -0.503722 -0.310933 -0.163986  1.197895  0.378187      -0.294396   \n",
       "\n",
       "        scaled_time  \n",
       "189370     0.513255  \n",
       "250864     0.827486  \n",
       "27659     -0.588125  \n",
       "96254     -0.223337  \n",
       "74496     -0.341725  \n",
       "\n",
       "[5 rows x 30 columns]"
      ]
     },
     "execution_count": 44,
     "metadata": {},
     "output_type": "execute_result"
    }
   ],
   "source": [
    "X_train.head()"
   ]
  },
  {
   "cell_type": "code",
   "execution_count": 45,
   "id": "d2fd7647-e183-4751-8902-6dac24d87b3c",
   "metadata": {},
   "outputs": [
    {
     "data": {
      "text/plain": [
       "(756, 30)"
      ]
     },
     "execution_count": 45,
     "metadata": {},
     "output_type": "execute_result"
    }
   ],
   "source": [
    "X_train.shape"
   ]
  },
  {
   "cell_type": "code",
   "execution_count": 46,
   "id": "c2191dd4-d8c2-488c-94c5-a0228799096b",
   "metadata": {},
   "outputs": [
    {
     "data": {
      "text/plain": [
       "(190, 30)"
      ]
     },
     "execution_count": 46,
     "metadata": {},
     "output_type": "execute_result"
    }
   ],
   "source": [
    "X_test.shape"
   ]
  },
  {
   "cell_type": "markdown",
   "id": "8432f65b-8d24-4784-ab33-2ff8ef39711d",
   "metadata": {},
   "source": [
    "### Supervised - Classifiers"
   ]
  },
  {
   "cell_type": "code",
   "execution_count": 47,
   "id": "40f62613-6690-432f-bd42-ee05cae58047",
   "metadata": {},
   "outputs": [],
   "source": [
    "from sklearn.linear_model import LogisticRegression\n",
    "from sklearn.svm import SVC\n",
    "from sklearn.ensemble import RandomForestClassifier\n",
    "\n",
    "from sklearn.model_selection import cross_val_score"
   ]
  },
  {
   "cell_type": "code",
   "execution_count": 48,
   "id": "dc3bcbcc-eb35-4305-850c-a981ebcecc4e",
   "metadata": {},
   "outputs": [],
   "source": [
    "from sklearn.metrics import accuracy_score,classification_report,confusion_matrix\n",
    "from sklearn.model_selection import train_test_split,cross_val_predict"
   ]
  },
  {
   "cell_type": "markdown",
   "id": "e599be45-57b8-462d-8ada-96ef8501631c",
   "metadata": {},
   "source": [
    "Random Forest"
   ]
  },
  {
   "cell_type": "code",
   "execution_count": 49,
   "id": "0ca2915e-1a7a-46e0-8826-4e629af500be",
   "metadata": {},
   "outputs": [
    {
     "name": "stdout",
     "output_type": "stream",
     "text": [
      "Training Accuracy    : 92.06 %\n",
      "Model Accuracy Score : 92.11 %\n",
      "\u001b[1m--------------------------------------------------------\u001b[0m\n",
      "Classification_Report: \n",
      "               precision    recall  f1-score   support\n",
      "\n",
      "           0       0.88      1.00      0.93       107\n",
      "           1       1.00      0.82      0.90        83\n",
      "\n",
      "    accuracy                           0.92       190\n",
      "   macro avg       0.94      0.91      0.92       190\n",
      "weighted avg       0.93      0.92      0.92       190\n",
      "\n",
      "\u001b[1m--------------------------------------------------------\u001b[0m\n"
     ]
    }
   ],
   "source": [
    "random_forest = RandomForestClassifier(n_estimators=100, max_depth = 1)\n",
    "random_forest.fit(X_train, y_train)\n",
    "\n",
    "y_pred_rf = random_forest.predict(X_test)\n",
    "random_forest.score(X_train, y_train)\n",
    "\n",
    "random_forest_train = round(random_forest.score(X_train, y_train) * 100, 2)\n",
    "random_forest_accuracy = round(accuracy_score(y_pred_rf, y_test) * 100, 2)\n",
    "\n",
    "print(\"Training Accuracy    :\",random_forest_train ,\"%\")\n",
    "print(\"Model Accuracy Score :\",random_forest_accuracy ,\"%\")\n",
    "print(\"\\033[1m--------------------------------------------------------\\033[0m\")\n",
    "print(\"Classification_Report: \\n\",classification_report(y_test,y_pred_rf))\n",
    "print(\"\\033[1m--------------------------------------------------------\\033[0m\")"
   ]
  },
  {
   "cell_type": "code",
   "execution_count": 50,
   "id": "83e1cc87-3272-468c-95f6-aa2eb3e6120d",
   "metadata": {},
   "outputs": [
    {
     "name": "stdout",
     "output_type": "stream",
     "text": [
      "Cross-Validation Scores: [0.90789474 0.89403974 0.93377483 0.90728477 0.93377483]\n",
      "Average Accuracy: 0.9153537818055071\n"
     ]
    }
   ],
   "source": [
    "from sklearn.model_selection import cross_val_score\n",
    "cv_scores = cross_val_score(random_forest, X_train, y_train, cv=5, scoring='accuracy')\n",
    "print(\"Cross-Validation Scores:\", cv_scores)\n",
    "print(\"Average Accuracy:\", cv_scores.mean())"
   ]
  },
  {
   "cell_type": "markdown",
   "id": "ffaf68fb-317a-4d98-afa1-6d869e4d634f",
   "metadata": {},
   "source": [
    "SVM"
   ]
  },
  {
   "cell_type": "code",
   "execution_count": 51,
   "id": "9a117f74-a0d9-4742-b394-c6bf4685cb49",
   "metadata": {},
   "outputs": [
    {
     "name": "stdout",
     "output_type": "stream",
     "text": [
      "classification report :              precision    recall  f1-score   support\n",
      "\n",
      "           0       0.91      0.99      0.95       107\n",
      "           1       0.99      0.87      0.92        83\n",
      "\n",
      "    accuracy                           0.94       190\n",
      "   macro avg       0.95      0.93      0.93       190\n",
      "weighted avg       0.94      0.94      0.94       190\n",
      "\n",
      "*************************************\n",
      "confusion matrix :[[106   1]\n",
      " [ 11  72]]\n",
      "*************************************\n",
      "accuracy score :0.9368421052631579\n"
     ]
    }
   ],
   "source": [
    "svm = SVC()\n",
    "model3=svm.fit(X_train,y_train)\n",
    "y_pred3=model3.predict(X_test)\n",
    "\n",
    "\n",
    "print(f'classification report :{classification_report(y_test,y_pred3)}')\n",
    "print('*************************************')\n",
    "print(f'confusion matrix :{confusion_matrix(y_test,y_pred3)}')\n",
    "print('*************************************')\n",
    "print(f'accuracy score :{accuracy_score(y_test,y_pred3)}')"
   ]
  },
  {
   "cell_type": "code",
   "execution_count": 52,
   "id": "aa66ae10-6d7e-43d7-917f-2c3cdce47bf1",
   "metadata": {},
   "outputs": [
    {
     "name": "stdout",
     "output_type": "stream",
     "text": [
      "Cross-Validation Scores: [0.93421053 0.93377483 0.94039735 0.92715232 0.93377483]\n",
      "Average Accuracy: 0.93\n"
     ]
    }
   ],
   "source": [
    "cv_scores = cross_val_score(svm, X_train, y_train, cv=5, scoring='accuracy')\n",
    "print(\"Cross-Validation Scores:\", cv_scores)\n",
    "print(\"Average Accuracy:\", round(cv_scores.mean(),2))"
   ]
  },
  {
   "cell_type": "markdown",
   "id": "045620f3-f89b-4ac8-b121-048780c5289e",
   "metadata": {},
   "source": [
    "Logistic Regression"
   ]
  },
  {
   "cell_type": "code",
   "execution_count": 53,
   "id": "2b081776-2c25-4582-ae73-8a36619871ee",
   "metadata": {},
   "outputs": [
    {
     "name": "stdout",
     "output_type": "stream",
     "text": [
      "Accuracy: 0.9368421052631579\n"
     ]
    }
   ],
   "source": [
    "model = LogisticRegression(penalty='l1', solver='liblinear')\n",
    "\n",
    "# Fit the model on the training data\n",
    "model.fit(X_train, y_train)\n",
    "\n",
    "# Make predictions on the testing data\n",
    "y_pred = model.predict(X_test)\n",
    "\n",
    "# Calculate accuracy\n",
    "accuracy = accuracy_score(y_test, y_pred)\n",
    "print(\"Accuracy:\", accuracy)"
   ]
  },
  {
   "cell_type": "code",
   "execution_count": 54,
   "id": "66bd6345-d4c8-4bd5-a9fc-ee403593ab06",
   "metadata": {},
   "outputs": [
    {
     "name": "stdout",
     "output_type": "stream",
     "text": [
      "Cross-Validation Scores: [0.93421053 0.94039735 0.92715232 0.91390728 0.94701987]\n",
      "Average Accuracy: 0.9325374695015685\n"
     ]
    }
   ],
   "source": [
    "\n",
    "cv_scores = cross_val_score(model, X_train, y_train, cv=5, scoring='accuracy')\n",
    "print(\"Cross-Validation Scores:\", cv_scores)\n",
    "print(\"Average Accuracy:\", cv_scores.mean())"
   ]
  },
  {
   "cell_type": "markdown",
   "id": "caf25cfe-77cb-48fa-99d0-6094babe3eac",
   "metadata": {},
   "source": [
    "using isolation forest unsupervised learning"
   ]
  },
  {
   "cell_type": "code",
   "execution_count": 59,
   "id": "a88d55db-6f7b-442a-b38a-411a9bee29f8",
   "metadata": {},
   "outputs": [
    {
     "name": "stdout",
     "output_type": "stream",
     "text": [
      "classification report :              precision    recall  f1-score   support\n",
      "\n",
      "          -1       0.00      0.00      0.00         0\n",
      "           0       0.00      0.00      0.00       107\n",
      "           1       0.38      0.80      0.52        83\n",
      "\n",
      "    accuracy                           0.35       190\n",
      "   macro avg       0.13      0.27      0.17       190\n",
      "weighted avg       0.17      0.35      0.23       190\n",
      "\n",
      "*************************************\n",
      "confusion matrix :[[  0   0   0]\n",
      " [  0   0 107]\n",
      " [ 17   0  66]]\n",
      "*************************************\n",
      "accuracy score :0.3473684210526316\n"
     ]
    }
   ],
   "source": [
    "from sklearn.ensemble import IsolationForest\n",
    "\n",
    "iso = IsolationForest()\n",
    "\n",
    "# Fit the model to your data\n",
    "iso.fit(X_train)\n",
    "\n",
    "# Predict anomalies\n",
    "y_pred_iso = iso.predict(X_test)\n",
    "\n",
    "print(f'classification report :{classification_report(y_test,y_pred_iso)}')\n",
    "print('*************************************')\n",
    "print(f'confusion matrix :{confusion_matrix(y_test,y_pred_iso)}')\n",
    "print('*************************************')\n",
    "print(f'accuracy score :{accuracy_score(y_test,y_pred_iso)}')\n"
   ]
  },
  {
   "cell_type": "code",
   "execution_count": 60,
   "id": "414db021-0a0d-4d01-91ed-30878a6ed856",
   "metadata": {},
   "outputs": [
    {
     "name": "stdout",
     "output_type": "stream",
     "text": [
      "Cross-Validation Scores: [0.33552632 0.29801325 0.43708609 0.47019868 0.44370861]\n",
      "Average Accuracy: 0.396906587661206\n"
     ]
    }
   ],
   "source": [
    "from sklearn.model_selection import cross_val_score\n",
    "cv_scores = cross_val_score(iso, X_train, y_train, cv=5, scoring='accuracy')\n",
    "print(\"Cross-Validation Scores:\", cv_scores)\n",
    "print(\"Average Accuracy:\", cv_scores.mean())"
   ]
  },
  {
   "cell_type": "code",
   "execution_count": null,
   "id": "3d5e92ff-3563-4fd0-8299-2e7073206a3d",
   "metadata": {},
   "outputs": [],
   "source": []
  }
 ],
 "metadata": {
  "kernelspec": {
   "display_name": "Python 3 (ipykernel)",
   "language": "python",
   "name": "python3"
  },
  "language_info": {
   "codemirror_mode": {
    "name": "ipython",
    "version": 3
   },
   "file_extension": ".py",
   "mimetype": "text/x-python",
   "name": "python",
   "nbconvert_exporter": "python",
   "pygments_lexer": "ipython3",
   "version": "3.11.3"
  }
 },
 "nbformat": 4,
 "nbformat_minor": 5
}
